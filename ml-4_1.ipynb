{
 "cells": [
  {
   "cell_type": "code",
   "execution_count": 5,
   "id": "829bac8b-b790-4113-b595-d8ce641d50fc",
   "metadata": {
    "execution": {
     "iopub.execute_input": "2022-12-18T06:59:34.500849Z",
     "iopub.status.busy": "2022-12-18T06:59:34.500230Z",
     "iopub.status.idle": "2022-12-18T06:59:34.508231Z",
     "shell.execute_reply": "2022-12-18T06:59:34.506519Z",
     "shell.execute_reply.started": "2022-12-18T06:59:34.500798Z"
    },
    "tags": []
   },
   "outputs": [],
   "source": [
    "import pandas as pd\n",
    "import os"
   ]
  },
  {
   "cell_type": "code",
   "execution_count": 10,
   "id": "e54763ec-6e9d-4d55-9e6a-f10a9b76ddde",
   "metadata": {
    "execution": {
     "iopub.execute_input": "2022-12-18T07:03:53.971024Z",
     "iopub.status.busy": "2022-12-18T07:03:53.970010Z",
     "iopub.status.idle": "2022-12-18T07:03:53.981626Z",
     "shell.execute_reply": "2022-12-18T07:03:53.980682Z",
     "shell.execute_reply.started": "2022-12-18T07:03:53.970973Z"
    },
    "tags": []
   },
   "outputs": [
    {
     "data": {
      "text/plain": [
       "['./data/test.csv', './data/train.csv', './data/gender_submission.csv']"
      ]
     },
     "execution_count": 10,
     "metadata": {},
     "output_type": "execute_result"
    }
   ],
   "source": [
    "# имя файла с данными\n",
    "data_file_dir = u\"./data\"\n",
    "data_file_names = [os.path.join(data_file_dir, x) for x in os.listdir(data_file_dir)]\n",
    "data_file_names"
   ]
  },
  {
   "cell_type": "code",
   "execution_count": 12,
   "id": "ba75f2f7-6609-4c19-aa4e-72525772022f",
   "metadata": {
    "execution": {
     "iopub.execute_input": "2022-12-18T07:06:34.316902Z",
     "iopub.status.busy": "2022-12-18T07:06:34.315383Z",
     "iopub.status.idle": "2022-12-18T07:06:34.506300Z",
     "shell.execute_reply": "2022-12-18T07:06:34.504460Z",
     "shell.execute_reply.started": "2022-12-18T07:06:34.316850Z"
    },
    "tags": []
   },
   "outputs": [
    {
     "name": "stdout",
     "output_type": "stream",
     "text": [
      "<class 'pandas.core.frame.DataFrame'>\n",
      "RangeIndex: 891 entries, 0 to 890\n",
      "Data columns (total 12 columns):\n",
      " #   Column       Non-Null Count  Dtype  \n",
      "---  ------       --------------  -----  \n",
      " 0   PassengerId  891 non-null    int64  \n",
      " 1   Survived     891 non-null    int64  \n",
      " 2   Pclass       891 non-null    int64  \n",
      " 3   Name         891 non-null    object \n",
      " 4   Sex          891 non-null    object \n",
      " 5   Age          714 non-null    float64\n",
      " 6   SibSp        891 non-null    int64  \n",
      " 7   Parch        891 non-null    int64  \n",
      " 8   Ticket       891 non-null    object \n",
      " 9   Fare         891 non-null    float64\n",
      " 10  Cabin        204 non-null    object \n",
      " 11  Embarked     889 non-null    object \n",
      "dtypes: float64(2), int64(5), object(5)\n",
      "memory usage: 83.7+ KB\n"
     ]
    }
   ],
   "source": [
    "# данные и их структура\n",
    "df = pd.read_csv(data_file_names[1])\n",
    "df.info()"
   ]
  },
  {
   "cell_type": "code",
   "execution_count": null,
   "id": "7c3fbbda-b294-45e2-ac10-ba900187167f",
   "metadata": {},
   "outputs": [],
   "source": []
  }
 ],
 "metadata": {
  "kernelspec": {
   "display_name": "Python 3 (ipykernel)",
   "language": "python",
   "name": "python3"
  },
  "language_info": {
   "codemirror_mode": {
    "name": "ipython",
    "version": 3
   },
   "file_extension": ".py",
   "mimetype": "text/x-python",
   "name": "python",
   "nbconvert_exporter": "python",
   "pygments_lexer": "ipython3",
   "version": "3.10.6"
  }
 },
 "nbformat": 4,
 "nbformat_minor": 5
}
