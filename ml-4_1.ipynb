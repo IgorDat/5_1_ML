{
 "cells": [
  {
   "cell_type": "code",
   "execution_count": 1,
   "id": "829bac8b-b790-4113-b595-d8ce641d50fc",
   "metadata": {
    "execution": {
     "iopub.execute_input": "2022-12-22T06:54:39.170768Z",
     "iopub.status.busy": "2022-12-22T06:54:39.169833Z",
     "iopub.status.idle": "2022-12-22T06:54:46.556282Z",
     "shell.execute_reply": "2022-12-22T06:54:46.555415Z",
     "shell.execute_reply.started": "2022-12-22T06:54:39.170634Z"
    },
    "tags": []
   },
   "outputs": [],
   "source": [
    "import pandas as pd\n",
    "import os\n",
    "\n",
    "import numpy as np\n",
    "\n",
    "from sklearn.preprocessing import OneHotEncoder, StandardScaler\n",
    "from sklearn.model_selection import GridSearchCV, train_test_split\n",
    "from sklearn.neighbors import KNeighborsRegressor\n",
    "from sklearn.linear_model import LinearRegression\n",
    "from sklearn.datasets import make_regression\n",
    "# классификаторы\n",
    "from sklearn.linear_model import LogisticRegression\n",
    "from sklearn.neighbors import KNeighborsClassifier\n",
    "\n",
    "from sklearn.metrics import mean_squared_error, mean_absolute_error, r2_score\n",
    "import matplotlib.pyplot as plt\n",
    "# метрики классификации\n",
    "from sklearn.metrics import confusion_matrix, accuracy_score, precision_score, recall_score, precision_recall_curve\n"
   ]
  },
  {
   "cell_type": "markdown",
   "id": "730e55f8-8424-459d-8d9f-154ed9c5f7b6",
   "metadata": {},
   "source": [
    "# 1. Скачайте данные по ссылке\n",
    "https://www.kaggle.com/competitions/titanic/data?select=train.csv "
   ]
  },
  {
   "cell_type": "code",
   "execution_count": 2,
   "id": "e54763ec-6e9d-4d55-9e6a-f10a9b76ddde",
   "metadata": {
    "execution": {
     "iopub.execute_input": "2022-12-22T06:54:47.982162Z",
     "iopub.status.busy": "2022-12-22T06:54:47.981535Z",
     "iopub.status.idle": "2022-12-22T06:54:48.007716Z",
     "shell.execute_reply": "2022-12-22T06:54:48.005841Z",
     "shell.execute_reply.started": "2022-12-22T06:54:47.982125Z"
    },
    "tags": []
   },
   "outputs": [
    {
     "data": {
      "text/plain": [
       "['./data/test.csv', './data/train.csv', './data/gender_submission.csv']"
      ]
     },
     "execution_count": 2,
     "metadata": {},
     "output_type": "execute_result"
    }
   ],
   "source": [
    "# имя файла с данными\n",
    "data_file_dir = u\"./data\"\n",
    "data_file_names = [os.path.join(data_file_dir, x) for x in os.listdir(data_file_dir)]\n",
    "data_file_names"
   ]
  },
  {
   "cell_type": "code",
   "execution_count": 3,
   "id": "ac5ccf6f-acbd-4f42-97c9-b94534ad4112",
   "metadata": {
    "execution": {
     "iopub.execute_input": "2022-12-22T06:54:48.884832Z",
     "iopub.status.busy": "2022-12-22T06:54:48.884453Z",
     "iopub.status.idle": "2022-12-22T06:54:48.972847Z",
     "shell.execute_reply": "2022-12-22T06:54:48.971699Z",
     "shell.execute_reply.started": "2022-12-22T06:54:48.884807Z"
    },
    "tags": []
   },
   "outputs": [
    {
     "name": "stdout",
     "output_type": "stream",
     "text": [
      "==Данные и их структура из файла train\n",
      "(891, 12)\n",
      "<class 'pandas.core.frame.DataFrame'>\n",
      "RangeIndex: 891 entries, 0 to 890\n",
      "Data columns (total 12 columns):\n",
      " #   Column       Non-Null Count  Dtype  \n",
      "---  ------       --------------  -----  \n",
      " 0   PassengerId  891 non-null    int64  \n",
      " 1   Survived     891 non-null    int64  \n",
      " 2   Pclass       891 non-null    int64  \n",
      " 3   Name         891 non-null    object \n",
      " 4   Sex          891 non-null    object \n",
      " 5   Age          714 non-null    float64\n",
      " 6   SibSp        891 non-null    int64  \n",
      " 7   Parch        891 non-null    int64  \n",
      " 8   Ticket       891 non-null    object \n",
      " 9   Fare         891 non-null    float64\n",
      " 10  Cabin        204 non-null    object \n",
      " 11  Embarked     889 non-null    object \n",
      "dtypes: float64(2), int64(5), object(5)\n",
      "memory usage: 83.7+ KB\n",
      "None\n"
     ]
    },
    {
     "data": {
      "text/html": [
       "<div>\n",
       "<style scoped>\n",
       "    .dataframe tbody tr th:only-of-type {\n",
       "        vertical-align: middle;\n",
       "    }\n",
       "\n",
       "    .dataframe tbody tr th {\n",
       "        vertical-align: top;\n",
       "    }\n",
       "\n",
       "    .dataframe thead th {\n",
       "        text-align: right;\n",
       "    }\n",
       "</style>\n",
       "<table border=\"1\" class=\"dataframe\">\n",
       "  <thead>\n",
       "    <tr style=\"text-align: right;\">\n",
       "      <th></th>\n",
       "      <th>PassengerId</th>\n",
       "      <th>Survived</th>\n",
       "      <th>Pclass</th>\n",
       "      <th>Name</th>\n",
       "      <th>Sex</th>\n",
       "      <th>Age</th>\n",
       "      <th>SibSp</th>\n",
       "      <th>Parch</th>\n",
       "      <th>Ticket</th>\n",
       "      <th>Fare</th>\n",
       "      <th>Cabin</th>\n",
       "      <th>Embarked</th>\n",
       "    </tr>\n",
       "  </thead>\n",
       "  <tbody>\n",
       "    <tr>\n",
       "      <th>96</th>\n",
       "      <td>97</td>\n",
       "      <td>0</td>\n",
       "      <td>1</td>\n",
       "      <td>Goldschmidt, Mr. George B</td>\n",
       "      <td>male</td>\n",
       "      <td>71.0</td>\n",
       "      <td>0</td>\n",
       "      <td>0</td>\n",
       "      <td>PC 17754</td>\n",
       "      <td>34.6542</td>\n",
       "      <td>A5</td>\n",
       "      <td>C</td>\n",
       "    </tr>\n",
       "    <tr>\n",
       "      <th>557</th>\n",
       "      <td>558</td>\n",
       "      <td>0</td>\n",
       "      <td>1</td>\n",
       "      <td>Robbins, Mr. Victor</td>\n",
       "      <td>male</td>\n",
       "      <td>NaN</td>\n",
       "      <td>0</td>\n",
       "      <td>0</td>\n",
       "      <td>PC 17757</td>\n",
       "      <td>227.5250</td>\n",
       "      <td>NaN</td>\n",
       "      <td>C</td>\n",
       "    </tr>\n",
       "    <tr>\n",
       "      <th>706</th>\n",
       "      <td>707</td>\n",
       "      <td>1</td>\n",
       "      <td>2</td>\n",
       "      <td>Kelly, Mrs. Florence \"Fannie\"</td>\n",
       "      <td>female</td>\n",
       "      <td>45.0</td>\n",
       "      <td>0</td>\n",
       "      <td>0</td>\n",
       "      <td>223596</td>\n",
       "      <td>13.5000</td>\n",
       "      <td>NaN</td>\n",
       "      <td>S</td>\n",
       "    </tr>\n",
       "    <tr>\n",
       "      <th>856</th>\n",
       "      <td>857</td>\n",
       "      <td>1</td>\n",
       "      <td>1</td>\n",
       "      <td>Wick, Mrs. George Dennick (Mary Hitchcock)</td>\n",
       "      <td>female</td>\n",
       "      <td>45.0</td>\n",
       "      <td>1</td>\n",
       "      <td>1</td>\n",
       "      <td>36928</td>\n",
       "      <td>164.8667</td>\n",
       "      <td>NaN</td>\n",
       "      <td>S</td>\n",
       "    </tr>\n",
       "    <tr>\n",
       "      <th>200</th>\n",
       "      <td>201</td>\n",
       "      <td>0</td>\n",
       "      <td>3</td>\n",
       "      <td>Vande Walle, Mr. Nestor Cyriel</td>\n",
       "      <td>male</td>\n",
       "      <td>28.0</td>\n",
       "      <td>0</td>\n",
       "      <td>0</td>\n",
       "      <td>345770</td>\n",
       "      <td>9.5000</td>\n",
       "      <td>NaN</td>\n",
       "      <td>S</td>\n",
       "    </tr>\n",
       "    <tr>\n",
       "      <th>870</th>\n",
       "      <td>871</td>\n",
       "      <td>0</td>\n",
       "      <td>3</td>\n",
       "      <td>Balkic, Mr. Cerin</td>\n",
       "      <td>male</td>\n",
       "      <td>26.0</td>\n",
       "      <td>0</td>\n",
       "      <td>0</td>\n",
       "      <td>349248</td>\n",
       "      <td>7.8958</td>\n",
       "      <td>NaN</td>\n",
       "      <td>S</td>\n",
       "    </tr>\n",
       "    <tr>\n",
       "      <th>616</th>\n",
       "      <td>617</td>\n",
       "      <td>0</td>\n",
       "      <td>3</td>\n",
       "      <td>Danbom, Mr. Ernst Gilbert</td>\n",
       "      <td>male</td>\n",
       "      <td>34.0</td>\n",
       "      <td>1</td>\n",
       "      <td>1</td>\n",
       "      <td>347080</td>\n",
       "      <td>14.4000</td>\n",
       "      <td>NaN</td>\n",
       "      <td>S</td>\n",
       "    </tr>\n",
       "  </tbody>\n",
       "</table>\n",
       "</div>"
      ],
      "text/plain": [
       "     PassengerId  Survived  Pclass  \\\n",
       "96            97         0       1   \n",
       "557          558         0       1   \n",
       "706          707         1       2   \n",
       "856          857         1       1   \n",
       "200          201         0       3   \n",
       "870          871         0       3   \n",
       "616          617         0       3   \n",
       "\n",
       "                                           Name     Sex   Age  SibSp  Parch  \\\n",
       "96                    Goldschmidt, Mr. George B    male  71.0      0      0   \n",
       "557                         Robbins, Mr. Victor    male   NaN      0      0   \n",
       "706               Kelly, Mrs. Florence \"Fannie\"  female  45.0      0      0   \n",
       "856  Wick, Mrs. George Dennick (Mary Hitchcock)  female  45.0      1      1   \n",
       "200              Vande Walle, Mr. Nestor Cyriel    male  28.0      0      0   \n",
       "870                           Balkic, Mr. Cerin    male  26.0      0      0   \n",
       "616                   Danbom, Mr. Ernst Gilbert    male  34.0      1      1   \n",
       "\n",
       "       Ticket      Fare Cabin Embarked  \n",
       "96   PC 17754   34.6542    A5        C  \n",
       "557  PC 17757  227.5250   NaN        C  \n",
       "706    223596   13.5000   NaN        S  \n",
       "856     36928  164.8667   NaN        S  \n",
       "200    345770    9.5000   NaN        S  \n",
       "870    349248    7.8958   NaN        S  \n",
       "616    347080   14.4000   NaN        S  "
      ]
     },
     "execution_count": 3,
     "metadata": {},
     "output_type": "execute_result"
    }
   ],
   "source": [
    "# данные и их структура\n",
    "print(\"==Данные и их структура из файла train\")\n",
    "data = pd.read_csv(data_file_names[1])\n",
    "print(data.shape)\n",
    "print(data.info())\n",
    "data.sample(7)"
   ]
  },
  {
   "cell_type": "code",
   "execution_count": 4,
   "id": "7ee5d63a-541d-430e-b313-e415edddd23e",
   "metadata": {
    "execution": {
     "iopub.execute_input": "2022-12-22T06:54:49.604893Z",
     "iopub.status.busy": "2022-12-22T06:54:49.603894Z",
     "iopub.status.idle": "2022-12-22T06:54:49.622276Z",
     "shell.execute_reply": "2022-12-22T06:54:49.621248Z",
     "shell.execute_reply.started": "2022-12-22T06:54:49.604839Z"
    },
    "tags": []
   },
   "outputs": [
    {
     "data": {
      "text/plain": [
       "(712, 12)"
      ]
     },
     "execution_count": 4,
     "metadata": {},
     "output_type": "execute_result"
    }
   ],
   "source": [
    "# NaN мешают классификации - заменим их на 'none'\n",
    "data.Cabin.unique()\n",
    "data.Cabin.fillna('none', inplace=True)\n",
    "data.Cabin.unique()\n",
    "\n",
    "data.dropna(inplace=True)\n",
    "data.shape"
   ]
  },
  {
   "cell_type": "code",
   "execution_count": 5,
   "id": "8cc6a69a-0fda-4173-9560-49d48b88928f",
   "metadata": {
    "execution": {
     "iopub.execute_input": "2022-12-22T06:54:50.218479Z",
     "iopub.status.busy": "2022-12-22T06:54:50.218032Z",
     "iopub.status.idle": "2022-12-22T06:54:50.236226Z",
     "shell.execute_reply": "2022-12-22T06:54:50.235331Z",
     "shell.execute_reply.started": "2022-12-22T06:54:50.218441Z"
    },
    "tags": []
   },
   "outputs": [
    {
     "name": "stdout",
     "output_type": "stream",
     "text": [
      "(712, 12)\n"
     ]
    },
    {
     "data": {
      "text/plain": [
       "PassengerId    712\n",
       "Survived         2\n",
       "Pclass           3\n",
       "Name           712\n",
       "Sex              2\n",
       "Age             88\n",
       "SibSp            6\n",
       "Parch            7\n",
       "Ticket         541\n",
       "Fare           219\n",
       "Cabin          134\n",
       "Embarked         3\n",
       "dtype: int64"
      ]
     },
     "execution_count": 5,
     "metadata": {},
     "output_type": "execute_result"
    }
   ],
   "source": [
    "# количество уникальных значений по каждому из признаков\n",
    "print(data.shape)\n",
    "data.nunique()"
   ]
  },
  {
   "cell_type": "code",
   "execution_count": 6,
   "id": "df987dca-1c63-4a6a-98e1-7e4765649b54",
   "metadata": {
    "execution": {
     "iopub.execute_input": "2022-12-22T06:54:50.732878Z",
     "iopub.status.busy": "2022-12-22T06:54:50.731635Z",
     "iopub.status.idle": "2022-12-22T06:54:50.745497Z",
     "shell.execute_reply": "2022-12-22T06:54:50.743725Z",
     "shell.execute_reply.started": "2022-12-22T06:54:50.732822Z"
    },
    "tags": []
   },
   "outputs": [
    {
     "data": {
      "text/plain": [
       "0    0.595506\n",
       "1    0.404494\n",
       "Name: Survived, dtype: float64"
      ]
     },
     "execution_count": 6,
     "metadata": {},
     "output_type": "execute_result"
    }
   ],
   "source": [
    "# баланс целевого признака \n",
    "data['Survived'].value_counts(normalize=True)"
   ]
  },
  {
   "cell_type": "markdown",
   "id": "32a31d62-8ffc-4ea2-84fa-8a5929bfec20",
   "metadata": {
    "execution": {
     "iopub.execute_input": "2022-12-18T07:31:56.231085Z",
     "iopub.status.busy": "2022-12-18T07:31:56.229740Z",
     "iopub.status.idle": "2022-12-18T07:31:56.237450Z",
     "shell.execute_reply": "2022-12-18T07:31:56.235673Z",
     "shell.execute_reply.started": "2022-12-18T07:31:56.231031Z"
    },
    "tags": []
   },
   "source": [
    "# 2. Исключите признаки, которые на ваш взгляд, могут привести к переобучению \n",
    "(например, id)."
   ]
  },
  {
   "cell_type": "code",
   "execution_count": 7,
   "id": "0d35fa63-b75e-41ef-bd04-626b99408f1b",
   "metadata": {
    "execution": {
     "iopub.execute_input": "2022-12-22T06:54:51.937294Z",
     "iopub.status.busy": "2022-12-22T06:54:51.936748Z",
     "iopub.status.idle": "2022-12-22T06:54:51.944050Z",
     "shell.execute_reply": "2022-12-22T06:54:51.942980Z",
     "shell.execute_reply.started": "2022-12-22T06:54:51.937268Z"
    },
    "tags": []
   },
   "outputs": [
    {
     "name": "stdout",
     "output_type": "stream",
     "text": [
      "==Исходный набор признаков:\n"
     ]
    },
    {
     "data": {
      "text/plain": [
       "['PassengerId',\n",
       " 'Survived',\n",
       " 'Pclass',\n",
       " 'Name',\n",
       " 'Sex',\n",
       " 'Age',\n",
       " 'SibSp',\n",
       " 'Parch',\n",
       " 'Ticket',\n",
       " 'Fare',\n",
       " 'Cabin',\n",
       " 'Embarked']"
      ]
     },
     "execution_count": 7,
     "metadata": {},
     "output_type": "execute_result"
    }
   ],
   "source": [
    "print(\"==Исходный набор признаков:\")\n",
    "features = data.columns\n",
    "list(features)"
   ]
  },
  {
   "cell_type": "code",
   "execution_count": 8,
   "id": "667a0c15-2aa9-4e34-b75a-62d03f221b93",
   "metadata": {
    "execution": {
     "iopub.execute_input": "2022-12-22T06:54:53.900161Z",
     "iopub.status.busy": "2022-12-22T06:54:53.899678Z",
     "iopub.status.idle": "2022-12-22T06:54:53.912717Z",
     "shell.execute_reply": "2022-12-22T06:54:53.910897Z",
     "shell.execute_reply.started": "2022-12-22T06:54:53.900126Z"
    },
    "tags": []
   },
   "outputs": [
    {
     "name": "stdout",
     "output_type": "stream",
     "text": [
      "==Набор признаков для обучения:\n"
     ]
    },
    {
     "data": {
      "text/plain": [
       "['Pclass', 'Sex', 'Age', 'SibSp', 'Parch', 'Fare', 'Cabin', 'Embarked']"
      ]
     },
     "execution_count": 8,
     "metadata": {},
     "output_type": "execute_result"
    }
   ],
   "source": [
    "print(\"==Набор признаков для обучения:\")\n",
    "# \n",
    "good_features = \\\n",
    "[\\\n",
    " # 'PassengerId', # номер \n",
    " # 'Survived', # Выживание 0 = Нет, 1 = Да\n",
    " 'Pclass', # Класс билета 1 = 1-й, 2 = 2-й, 3 = 3-й\n",
    " # 'Name',  # имя - \n",
    " 'Sex',    # пол\n",
    " 'Age',    # возраст в годах\n",
    " 'SibSp',   # Количество братьев и сестер / супругов на борту \"Титаника\"\n",
    " 'Parch',   # Количество родителей / детей на борту \"Титаника\"\n",
    " # 'Ticket', # номер билета\n",
    " 'Fare',  # тариф\n",
    " 'Cabin', # номер каюты\n",
    " 'Embarked' # Порт посадки C = Шербур, Q = Квинстаун, S = Саутгемптон\n",
    "]\n",
    "\n",
    "good_features"
   ]
  },
  {
   "cell_type": "markdown",
   "id": "f11a9d60-4350-4bc6-a884-7ada02842b24",
   "metadata": {},
   "source": [
    "# 3. Разделите выборку на train и test."
   ]
  },
  {
   "cell_type": "code",
   "execution_count": 9,
   "id": "c87c58d5-49cd-484c-a74e-27e2bfcb98e7",
   "metadata": {
    "execution": {
     "iopub.execute_input": "2022-12-22T06:54:55.202472Z",
     "iopub.status.busy": "2022-12-22T06:54:55.201012Z",
     "iopub.status.idle": "2022-12-22T06:54:55.213324Z",
     "shell.execute_reply": "2022-12-22T06:54:55.211709Z",
     "shell.execute_reply.started": "2022-12-22T06:54:55.202407Z"
    },
    "tags": []
   },
   "outputs": [],
   "source": [
    "# признаки для обучения\n",
    "X = data[good_features]\n",
    "# целевой признак \n",
    "y = data['Survived']"
   ]
  },
  {
   "cell_type": "code",
   "execution_count": 10,
   "id": "03cb66ba-9b29-4756-b7f7-d995c2d26880",
   "metadata": {
    "execution": {
     "iopub.execute_input": "2022-12-22T06:54:55.907647Z",
     "iopub.status.busy": "2022-12-22T06:54:55.906683Z",
     "iopub.status.idle": "2022-12-22T06:54:55.920000Z",
     "shell.execute_reply": "2022-12-22T06:54:55.917957Z",
     "shell.execute_reply.started": "2022-12-22T06:54:55.907593Z"
    },
    "tags": []
   },
   "outputs": [
    {
     "name": "stdout",
     "output_type": "stream",
     "text": [
      "(534, 8)\n"
     ]
    }
   ],
   "source": [
    "X_train, X_test, y_train, y_test = train_test_split(X, y,  random_state=11)\n",
    "print(X_train.shape)"
   ]
  },
  {
   "cell_type": "markdown",
   "id": "f5e311ba-e0f5-4a03-866d-055eea57d8b6",
   "metadata": {},
   "source": [
    "# 4. Преобразуйте признаки\n",
    " категориальные признаки с помощью sklearn.preprocessing.OneHotEncoder, \n",
    " \n",
    " а некатегориальные с помощью sklearn.preprocessing.StandardScaler (на следующем занятии расскажем, зачем это нужно)"
   ]
  },
  {
   "cell_type": "markdown",
   "id": "736f98bb-9325-4238-b246-1d4cc6988cf7",
   "metadata": {},
   "source": [
    "## Категориальные признаки"
   ]
  },
  {
   "cell_type": "code",
   "execution_count": 11,
   "id": "d102fb1e-ad5d-48bb-9811-cd49cefdb2b8",
   "metadata": {
    "execution": {
     "iopub.execute_input": "2022-12-22T06:54:59.066960Z",
     "iopub.status.busy": "2022-12-22T06:54:59.065616Z",
     "iopub.status.idle": "2022-12-22T06:54:59.082224Z",
     "shell.execute_reply": "2022-12-22T06:54:59.080220Z",
     "shell.execute_reply.started": "2022-12-22T06:54:59.066905Z"
    },
    "tags": []
   },
   "outputs": [
    {
     "data": {
      "text/plain": [
       "['Sex_ohe', 'Cabin_ohe', 'Embarked_ohe']"
      ]
     },
     "execution_count": 11,
     "metadata": {},
     "output_type": "execute_result"
    }
   ],
   "source": [
    "cat_features = \\\n",
    "[\\\n",
    " # 'PassengerId', # номер \n",
    " # 'Survived', # Выживание 0 = Нет, 1 = Да\n",
    " # 'Pclass', # Класс билета 1 = 1-й, 2 = 2-й, 3 = 3-й\n",
    " # 'Name',  # имя - \n",
    " 'Sex',    # пол\n",
    " # 'Age',    # возраст в годах\n",
    " # 'SibSp',   # Количество братьев и сестер / супругов на борту \"Титаника\"\n",
    " # 'Parch',   # Количество родителей / детей на борту \"Титаника\"\n",
    " # 'Ticket', # номер билета\n",
    " # 'Fare',  # тариф\n",
    " 'Cabin', # номер каюты\n",
    " 'Embarked' # Порт посадки C = Шербур, Q = Квинстаун, S = Саутгемптон\n",
    "]\n",
    "cat_features_scaled = [f+\"_ohe\" for f in cat_features]\n",
    "cat_features_scaled"
   ]
  },
  {
   "cell_type": "markdown",
   "id": "840070be-cfd8-4303-a549-8587530785f2",
   "metadata": {},
   "source": [
    "### Sex"
   ]
  },
  {
   "cell_type": "code",
   "execution_count": 12,
   "id": "c95f9229-43e9-46ff-bec0-999106c52ba8",
   "metadata": {
    "execution": {
     "iopub.execute_input": "2022-12-22T06:55:00.674394Z",
     "iopub.status.busy": "2022-12-22T06:55:00.673073Z",
     "iopub.status.idle": "2022-12-22T06:55:00.694100Z",
     "shell.execute_reply": "2022-12-22T06:55:00.692428Z",
     "shell.execute_reply.started": "2022-12-22T06:55:00.674338Z"
    },
    "tags": []
   },
   "outputs": [],
   "source": [
    "# категориальные признаки с помощью sklearn.preprocessing.OneHotEncoder,\n",
    "ohe = OneHotEncoder() #handle_unknown='error', drop='first' drop='if_binary'\n",
    "sx=ohe.fit_transform(X_train['Sex'].values.reshape(-1,1) ).toarray()\n",
    "columns = ['Sex_'+x for x in ohe.categories_[0]]\n",
    "df_sex = pd.DataFrame(sx, columns=columns).iloc[:,0].to_frame() #, columns=ohe.categories_\n",
    "df_sex\n",
    "# X_train = pd.concat([X_train,df_sex], axis=1)\n",
    "X_train_enc = df_sex\n",
    "X_train_enc.sample(5)\n",
    "\n",
    "# для тестового датасета\n",
    "sx_t=ohe.fit_transform(X_test['Sex'].values.reshape(-1,1) ).toarray()\n",
    "# columns = ['Sex_'+x for x in ohe.categories_[0]]\n",
    "df_sex_t = pd.DataFrame(sx_t, columns=columns).iloc[:,0].to_frame() #, columns=ohe.categories_\n",
    "# df_sex\n",
    "# X_train = pd.concat([X_train,df_sex], axis=1)\n",
    "X_test_enc = df_sex_t\n",
    "# X_train_enc.sample(5)"
   ]
  },
  {
   "cell_type": "markdown",
   "id": "1a25dab0-d476-4daa-b218-47339538108d",
   "metadata": {},
   "source": [
    "### Embarked_"
   ]
  },
  {
   "cell_type": "code",
   "execution_count": 13,
   "id": "d0303051-8deb-4d95-b3d1-6445ab07bd6e",
   "metadata": {
    "execution": {
     "iopub.execute_input": "2022-12-22T06:55:02.785255Z",
     "iopub.status.busy": "2022-12-22T06:55:02.783964Z",
     "iopub.status.idle": "2022-12-22T06:55:02.796973Z",
     "shell.execute_reply": "2022-12-22T06:55:02.795780Z",
     "shell.execute_reply.started": "2022-12-22T06:55:02.785199Z"
    },
    "tags": []
   },
   "outputs": [],
   "source": [
    "# категориальные признаки Embarked\n",
    "ohe = OneHotEncoder() #handle_unknown='error', drop='first' drop='if_binary'\n",
    "emb=ohe.fit_transform(X_train['Embarked'].values.reshape(-1,1) ).toarray()\n",
    "columns=['Embarked_'+str(x) for x in list(ohe.categories_[0])]\n",
    "df_emb = pd.DataFrame(emb, columns=columns)#.iloc[:,0].to_frame() #, columns=ohe.categories_\n",
    "df_emb\n",
    "X_train_enc = pd.concat([X_train_enc,df_emb], axis=1)\n",
    "X_train_enc\n",
    "\n",
    "# для тестового датасета\n",
    "emb_t=ohe.fit_transform(X_test['Embarked'].values.reshape(-1,1) ).toarray()\n",
    "# columns=['Embarked_'+str(x) for x in list(ohe.categories_[0])]\n",
    "df_emb_t = pd.DataFrame(emb_t, columns=columns)#.iloc[:,0].to_frame() #, columns=ohe.categories_\n",
    "# df_emb\n",
    "X_test_enc = pd.concat([X_test_enc,df_emb_t], axis=1)\n",
    "# X_test_enc"
   ]
  },
  {
   "cell_type": "markdown",
   "id": "32f1569d-efe0-4bc9-b20d-29f72335867a",
   "metadata": {},
   "source": [
    "### Cabin"
   ]
  },
  {
   "cell_type": "code",
   "execution_count": 14,
   "id": "2bd9306c-6f78-4824-bc73-18eeefd74d0d",
   "metadata": {
    "execution": {
     "iopub.execute_input": "2022-12-22T06:55:04.667494Z",
     "iopub.status.busy": "2022-12-22T06:55:04.667068Z",
     "iopub.status.idle": "2022-12-22T06:55:04.674358Z",
     "shell.execute_reply": "2022-12-22T06:55:04.672514Z",
     "shell.execute_reply.started": "2022-12-22T06:55:04.667457Z"
    },
    "tags": []
   },
   "outputs": [],
   "source": [
    "# # категориальные признаки Cabin - не будем его брать, тк в нем много пропусков \n",
    "# ohe = OneHotEncoder() #handle_unknown='error', drop='first' drop='if_binary'\n",
    "# cab=ohe.fit_transform(X_train['Cabin'].values.reshape(-1,1) ).toarray()\n",
    "# columns=['Cabin_'+str(x) for x in list(ohe.categories_[0])]\n",
    "# df_cab = pd.DataFrame(cab, columns=columns)#.iloc[:,0].to_frame() #, columns=ohe.categories_\n",
    "# df_cab\n",
    "# X_train_enc = pd.concat([X_train_enc,df_cab], axis=1)\n",
    "# X_train_enc\n"
   ]
  },
  {
   "cell_type": "markdown",
   "id": "aea9a6b1-49df-42f5-8ed4-1123ff6d503c",
   "metadata": {
    "execution": {
     "iopub.execute_input": "2022-12-20T13:19:27.345812Z",
     "iopub.status.busy": "2022-12-20T13:19:27.296713Z",
     "iopub.status.idle": "2022-12-20T13:19:28.507343Z",
     "shell.execute_reply": "2022-12-20T13:19:28.505813Z",
     "shell.execute_reply.started": "2022-12-20T13:19:27.325936Z"
    }
   },
   "source": [
    "## Некатегориальные признаки"
   ]
  },
  {
   "cell_type": "code",
   "execution_count": 15,
   "id": "27c3e70d-e080-454e-bbb2-5200f086c7da",
   "metadata": {
    "execution": {
     "iopub.execute_input": "2022-12-22T06:55:07.060688Z",
     "iopub.status.busy": "2022-12-22T06:55:07.059240Z",
     "iopub.status.idle": "2022-12-22T06:55:07.075655Z",
     "shell.execute_reply": "2022-12-22T06:55:07.073978Z",
     "shell.execute_reply.started": "2022-12-22T06:55:07.060632Z"
    },
    "tags": []
   },
   "outputs": [
    {
     "name": "stdout",
     "output_type": "stream",
     "text": [
      "(534,)\n"
     ]
    },
    {
     "data": {
      "text/plain": [
       "(178,)"
      ]
     },
     "execution_count": 15,
     "metadata": {},
     "output_type": "execute_result"
    }
   ],
   "source": [
    "# удаляем пропущенные данные в поле Возраст\n",
    "X_train.Age.unique()\n",
    "# X_train.Age[X_train.Age == np.nan]\n",
    "print(X_train.Age.dropna().shape)\n",
    "\n",
    "# для тестового датасета\n",
    "X_test.Age.unique()\n",
    "# X_train.Age[X_train.Age == np.nan]\n",
    "X_test.Age.dropna().shape"
   ]
  },
  {
   "cell_type": "code",
   "execution_count": 16,
   "id": "1a32b294-432c-4b1c-b384-0dc56fd46888",
   "metadata": {
    "execution": {
     "iopub.execute_input": "2022-12-22T06:55:08.850307Z",
     "iopub.status.busy": "2022-12-22T06:55:08.849677Z",
     "iopub.status.idle": "2022-12-22T06:55:08.861923Z",
     "shell.execute_reply": "2022-12-22T06:55:08.859806Z",
     "shell.execute_reply.started": "2022-12-22T06:55:08.850268Z"
    },
    "tags": []
   },
   "outputs": [
    {
     "data": {
      "text/plain": [
       "['Pclass_scaled', 'Age_scaled', 'SibSp_scaled', 'Parch_scaled', 'Fare_scaled']"
      ]
     },
     "execution_count": 16,
     "metadata": {},
     "output_type": "execute_result"
    }
   ],
   "source": [
    "noncat_features = \\\n",
    "[\\\n",
    " # 'PassengerId', # номер \n",
    " # 'Survived', # Выживание 0 = Нет, 1 = Да\n",
    " 'Pclass', # Класс билета 1 = 1-й, 2 = 2-й, 3 = 3-й\n",
    " # 'Name',  # имя - \n",
    " # 'Sex',    # пол\n",
    " 'Age',    # возраст в годах\n",
    " 'SibSp',   # Количество братьев и сестер / супругов на борту \"Титаника\"\n",
    " 'Parch',   # Количество родителей / детей на борту \"Титаника\"\n",
    " # 'Ticket', # номер билета\n",
    " 'Fare',  # тариф\n",
    " # 'Cabin', # номер каюты\n",
    " # 'Embarked' # Порт посадки C = Шербур, Q = Квинстаун, S = Саутгемптон\n",
    "]\n",
    "noncat_features_scaled = [f+\"_scaled\" for f in noncat_features]\n",
    "noncat_features_scaled"
   ]
  },
  {
   "cell_type": "code",
   "execution_count": 17,
   "id": "e5c95b6a-a1f3-4e7d-affa-23b3dae48bd0",
   "metadata": {
    "execution": {
     "iopub.execute_input": "2022-12-22T06:55:11.083329Z",
     "iopub.status.busy": "2022-12-22T06:55:11.082225Z",
     "iopub.status.idle": "2022-12-22T06:55:11.111419Z",
     "shell.execute_reply": "2022-12-22T06:55:11.110461Z",
     "shell.execute_reply.started": "2022-12-22T06:55:11.083251Z"
    },
    "tags": []
   },
   "outputs": [
    {
     "data": {
      "text/html": [
       "<div>\n",
       "<style scoped>\n",
       "    .dataframe tbody tr th:only-of-type {\n",
       "        vertical-align: middle;\n",
       "    }\n",
       "\n",
       "    .dataframe tbody tr th {\n",
       "        vertical-align: top;\n",
       "    }\n",
       "\n",
       "    .dataframe thead th {\n",
       "        text-align: right;\n",
       "    }\n",
       "</style>\n",
       "<table border=\"1\" class=\"dataframe\">\n",
       "  <thead>\n",
       "    <tr style=\"text-align: right;\">\n",
       "      <th></th>\n",
       "      <th>Sex_female</th>\n",
       "      <th>Embarked_C</th>\n",
       "      <th>Embarked_Q</th>\n",
       "      <th>Embarked_S</th>\n",
       "      <th>Pclass_scaled</th>\n",
       "      <th>Age_scaled</th>\n",
       "      <th>SibSp_scaled</th>\n",
       "      <th>Parch_scaled</th>\n",
       "      <th>Fare_scaled</th>\n",
       "    </tr>\n",
       "  </thead>\n",
       "  <tbody>\n",
       "    <tr>\n",
       "      <th>0</th>\n",
       "      <td>1.0</td>\n",
       "      <td>1.0</td>\n",
       "      <td>0.0</td>\n",
       "      <td>0.0</td>\n",
       "      <td>-1.404017</td>\n",
       "      <td>1.616298</td>\n",
       "      <td>0.681276</td>\n",
       "      <td>-0.532873</td>\n",
       "      <td>0.416903</td>\n",
       "    </tr>\n",
       "    <tr>\n",
       "      <th>1</th>\n",
       "      <td>0.0</td>\n",
       "      <td>0.0</td>\n",
       "      <td>0.0</td>\n",
       "      <td>1.0</td>\n",
       "      <td>0.964846</td>\n",
       "      <td>0.027723</td>\n",
       "      <td>-0.636845</td>\n",
       "      <td>-0.532873</td>\n",
       "      <td>-0.523717</td>\n",
       "    </tr>\n",
       "    <tr>\n",
       "      <th>2</th>\n",
       "      <td>1.0</td>\n",
       "      <td>1.0</td>\n",
       "      <td>0.0</td>\n",
       "      <td>0.0</td>\n",
       "      <td>-1.404017</td>\n",
       "      <td>0.061523</td>\n",
       "      <td>0.681276</td>\n",
       "      <td>-0.532873</td>\n",
       "      <td>1.403776</td>\n",
       "    </tr>\n",
       "    <tr>\n",
       "      <th>3</th>\n",
       "      <td>0.0</td>\n",
       "      <td>1.0</td>\n",
       "      <td>0.0</td>\n",
       "      <td>0.0</td>\n",
       "      <td>-1.404017</td>\n",
       "      <td>2.021892</td>\n",
       "      <td>0.681276</td>\n",
       "      <td>0.609915</td>\n",
       "      <td>0.779596</td>\n",
       "    </tr>\n",
       "    <tr>\n",
       "      <th>4</th>\n",
       "      <td>1.0</td>\n",
       "      <td>0.0</td>\n",
       "      <td>0.0</td>\n",
       "      <td>1.0</td>\n",
       "      <td>0.964846</td>\n",
       "      <td>-0.208873</td>\n",
       "      <td>-0.636845</td>\n",
       "      <td>0.609915</td>\n",
       "      <td>-0.442660</td>\n",
       "    </tr>\n",
       "    <tr>\n",
       "      <th>...</th>\n",
       "      <td>...</td>\n",
       "      <td>...</td>\n",
       "      <td>...</td>\n",
       "      <td>...</td>\n",
       "      <td>...</td>\n",
       "      <td>...</td>\n",
       "      <td>...</td>\n",
       "      <td>...</td>\n",
       "      <td>...</td>\n",
       "    </tr>\n",
       "    <tr>\n",
       "      <th>173</th>\n",
       "      <td>0.0</td>\n",
       "      <td>0.0</td>\n",
       "      <td>0.0</td>\n",
       "      <td>1.0</td>\n",
       "      <td>-0.219586</td>\n",
       "      <td>0.872710</td>\n",
       "      <td>0.681276</td>\n",
       "      <td>0.609915</td>\n",
       "      <td>-0.190332</td>\n",
       "    </tr>\n",
       "    <tr>\n",
       "      <th>174</th>\n",
       "      <td>0.0</td>\n",
       "      <td>0.0</td>\n",
       "      <td>0.0</td>\n",
       "      <td>1.0</td>\n",
       "      <td>-0.219586</td>\n",
       "      <td>-0.344071</td>\n",
       "      <td>0.681276</td>\n",
       "      <td>-0.532873</td>\n",
       "      <td>-0.194912</td>\n",
       "    </tr>\n",
       "    <tr>\n",
       "      <th>175</th>\n",
       "      <td>1.0</td>\n",
       "      <td>0.0</td>\n",
       "      <td>0.0</td>\n",
       "      <td>1.0</td>\n",
       "      <td>0.964846</td>\n",
       "      <td>-0.682066</td>\n",
       "      <td>-0.636845</td>\n",
       "      <td>-0.532873</td>\n",
       "      <td>-0.512497</td>\n",
       "    </tr>\n",
       "    <tr>\n",
       "      <th>176</th>\n",
       "      <td>1.0</td>\n",
       "      <td>0.0</td>\n",
       "      <td>0.0</td>\n",
       "      <td>1.0</td>\n",
       "      <td>-0.219586</td>\n",
       "      <td>0.940309</td>\n",
       "      <td>0.681276</td>\n",
       "      <td>-0.532873</td>\n",
       "      <td>-0.194912</td>\n",
       "    </tr>\n",
       "    <tr>\n",
       "      <th>177</th>\n",
       "      <td>1.0</td>\n",
       "      <td>0.0</td>\n",
       "      <td>0.0</td>\n",
       "      <td>1.0</td>\n",
       "      <td>-0.219586</td>\n",
       "      <td>-0.073675</td>\n",
       "      <td>0.681276</td>\n",
       "      <td>-0.532873</td>\n",
       "      <td>-0.194912</td>\n",
       "    </tr>\n",
       "  </tbody>\n",
       "</table>\n",
       "<p>178 rows × 9 columns</p>\n",
       "</div>"
      ],
      "text/plain": [
       "     Sex_female  Embarked_C  Embarked_Q  Embarked_S  Pclass_scaled  \\\n",
       "0           1.0         1.0         0.0         0.0      -1.404017   \n",
       "1           0.0         0.0         0.0         1.0       0.964846   \n",
       "2           1.0         1.0         0.0         0.0      -1.404017   \n",
       "3           0.0         1.0         0.0         0.0      -1.404017   \n",
       "4           1.0         0.0         0.0         1.0       0.964846   \n",
       "..          ...         ...         ...         ...            ...   \n",
       "173         0.0         0.0         0.0         1.0      -0.219586   \n",
       "174         0.0         0.0         0.0         1.0      -0.219586   \n",
       "175         1.0         0.0         0.0         1.0       0.964846   \n",
       "176         1.0         0.0         0.0         1.0      -0.219586   \n",
       "177         1.0         0.0         0.0         1.0      -0.219586   \n",
       "\n",
       "     Age_scaled  SibSp_scaled  Parch_scaled  Fare_scaled  \n",
       "0      1.616298      0.681276     -0.532873     0.416903  \n",
       "1      0.027723     -0.636845     -0.532873    -0.523717  \n",
       "2      0.061523      0.681276     -0.532873     1.403776  \n",
       "3      2.021892      0.681276      0.609915     0.779596  \n",
       "4     -0.208873     -0.636845      0.609915    -0.442660  \n",
       "..          ...           ...           ...          ...  \n",
       "173    0.872710      0.681276      0.609915    -0.190332  \n",
       "174   -0.344071      0.681276     -0.532873    -0.194912  \n",
       "175   -0.682066     -0.636845     -0.532873    -0.512497  \n",
       "176    0.940309      0.681276     -0.532873    -0.194912  \n",
       "177   -0.073675      0.681276     -0.532873    -0.194912  \n",
       "\n",
       "[178 rows x 9 columns]"
      ]
     },
     "execution_count": 17,
     "metadata": {},
     "output_type": "execute_result"
    }
   ],
   "source": [
    "scaler = StandardScaler()\n",
    "X_train_enc[noncat_features_scaled] = scaler.fit_transform(X_train[noncat_features].values.reshape(-1,len(noncat_features)) )\n",
    "X_train_enc\n",
    "\n",
    "# для тестового датасета\n",
    "X_test_enc[noncat_features_scaled] = scaler.fit_transform(X_test[noncat_features].values.reshape(-1,len(noncat_features)) )\n",
    "X_test_enc\n"
   ]
  },
  {
   "cell_type": "markdown",
   "id": "b8288981-1223-4783-9025-d88476892675",
   "metadata": {
    "execution": {
     "iopub.execute_input": "2022-12-20T14:09:59.733982Z",
     "iopub.status.busy": "2022-12-20T14:09:59.732986Z",
     "iopub.status.idle": "2022-12-20T14:09:59.762853Z",
     "shell.execute_reply": "2022-12-20T14:09:59.761483Z",
     "shell.execute_reply.started": "2022-12-20T14:09:59.733930Z"
    },
    "jupyter": {
     "outputs_hidden": true
    },
    "tags": []
   },
   "source": [
    "# 5. Обучите модели логистической регрессии и KNN\n",
    ", посчитайте все метрики классификации, которые были упомянуты на занятии, сделайте выводы."
   ]
  },
  {
   "cell_type": "code",
   "execution_count": 18,
   "id": "40d8dea5-f2cb-4c86-b067-6a8bbb2b4ac9",
   "metadata": {
    "execution": {
     "iopub.execute_input": "2022-12-22T06:55:30.395907Z",
     "iopub.status.busy": "2022-12-22T06:55:30.395266Z",
     "iopub.status.idle": "2022-12-22T06:55:30.430919Z",
     "shell.execute_reply": "2022-12-22T06:55:30.429817Z",
     "shell.execute_reply.started": "2022-12-22T06:55:30.395853Z"
    },
    "tags": []
   },
   "outputs": [
    {
     "data": {
      "text/html": [
       "<style>#sk-container-id-1 {color: black;background-color: white;}#sk-container-id-1 pre{padding: 0;}#sk-container-id-1 div.sk-toggleable {background-color: white;}#sk-container-id-1 label.sk-toggleable__label {cursor: pointer;display: block;width: 100%;margin-bottom: 0;padding: 0.3em;box-sizing: border-box;text-align: center;}#sk-container-id-1 label.sk-toggleable__label-arrow:before {content: \"▸\";float: left;margin-right: 0.25em;color: #696969;}#sk-container-id-1 label.sk-toggleable__label-arrow:hover:before {color: black;}#sk-container-id-1 div.sk-estimator:hover label.sk-toggleable__label-arrow:before {color: black;}#sk-container-id-1 div.sk-toggleable__content {max-height: 0;max-width: 0;overflow: hidden;text-align: left;background-color: #f0f8ff;}#sk-container-id-1 div.sk-toggleable__content pre {margin: 0.2em;color: black;border-radius: 0.25em;background-color: #f0f8ff;}#sk-container-id-1 input.sk-toggleable__control:checked~div.sk-toggleable__content {max-height: 200px;max-width: 100%;overflow: auto;}#sk-container-id-1 input.sk-toggleable__control:checked~label.sk-toggleable__label-arrow:before {content: \"▾\";}#sk-container-id-1 div.sk-estimator input.sk-toggleable__control:checked~label.sk-toggleable__label {background-color: #d4ebff;}#sk-container-id-1 div.sk-label input.sk-toggleable__control:checked~label.sk-toggleable__label {background-color: #d4ebff;}#sk-container-id-1 input.sk-hidden--visually {border: 0;clip: rect(1px 1px 1px 1px);clip: rect(1px, 1px, 1px, 1px);height: 1px;margin: -1px;overflow: hidden;padding: 0;position: absolute;width: 1px;}#sk-container-id-1 div.sk-estimator {font-family: monospace;background-color: #f0f8ff;border: 1px dotted black;border-radius: 0.25em;box-sizing: border-box;margin-bottom: 0.5em;}#sk-container-id-1 div.sk-estimator:hover {background-color: #d4ebff;}#sk-container-id-1 div.sk-parallel-item::after {content: \"\";width: 100%;border-bottom: 1px solid gray;flex-grow: 1;}#sk-container-id-1 div.sk-label:hover label.sk-toggleable__label {background-color: #d4ebff;}#sk-container-id-1 div.sk-serial::before {content: \"\";position: absolute;border-left: 1px solid gray;box-sizing: border-box;top: 0;bottom: 0;left: 50%;z-index: 0;}#sk-container-id-1 div.sk-serial {display: flex;flex-direction: column;align-items: center;background-color: white;padding-right: 0.2em;padding-left: 0.2em;position: relative;}#sk-container-id-1 div.sk-item {position: relative;z-index: 1;}#sk-container-id-1 div.sk-parallel {display: flex;align-items: stretch;justify-content: center;background-color: white;position: relative;}#sk-container-id-1 div.sk-item::before, #sk-container-id-1 div.sk-parallel-item::before {content: \"\";position: absolute;border-left: 1px solid gray;box-sizing: border-box;top: 0;bottom: 0;left: 50%;z-index: -1;}#sk-container-id-1 div.sk-parallel-item {display: flex;flex-direction: column;z-index: 1;position: relative;background-color: white;}#sk-container-id-1 div.sk-parallel-item:first-child::after {align-self: flex-end;width: 50%;}#sk-container-id-1 div.sk-parallel-item:last-child::after {align-self: flex-start;width: 50%;}#sk-container-id-1 div.sk-parallel-item:only-child::after {width: 0;}#sk-container-id-1 div.sk-dashed-wrapped {border: 1px dashed gray;margin: 0 0.4em 0.5em 0.4em;box-sizing: border-box;padding-bottom: 0.4em;background-color: white;}#sk-container-id-1 div.sk-label label {font-family: monospace;font-weight: bold;display: inline-block;line-height: 1.2em;}#sk-container-id-1 div.sk-label-container {text-align: center;}#sk-container-id-1 div.sk-container {/* jupyter's `normalize.less` sets `[hidden] { display: none; }` but bootstrap.min.css set `[hidden] { display: none !important; }` so we also need the `!important` here to be able to override the default hidden behavior on the sphinx rendered scikit-learn.org. See: https://github.com/scikit-learn/scikit-learn/issues/21755 */display: inline-block !important;position: relative;}#sk-container-id-1 div.sk-text-repr-fallback {display: none;}</style><div id=\"sk-container-id-1\" class=\"sk-top-container\"><div class=\"sk-text-repr-fallback\"><pre>KNeighborsClassifier()</pre><b>In a Jupyter environment, please rerun this cell to show the HTML representation or trust the notebook. <br />On GitHub, the HTML representation is unable to render, please try loading this page with nbviewer.org.</b></div><div class=\"sk-container\" hidden><div class=\"sk-item\"><div class=\"sk-estimator sk-toggleable\"><input class=\"sk-toggleable__control sk-hidden--visually\" id=\"sk-estimator-id-1\" type=\"checkbox\" checked><label for=\"sk-estimator-id-1\" class=\"sk-toggleable__label sk-toggleable__label-arrow\">KNeighborsClassifier</label><div class=\"sk-toggleable__content\"><pre>KNeighborsClassifier()</pre></div></div></div></div></div>"
      ],
      "text/plain": [
       "KNeighborsClassifier()"
      ]
     },
     "execution_count": 18,
     "metadata": {},
     "output_type": "execute_result"
    }
   ],
   "source": [
    "knn = KNeighborsClassifier()\n",
    "knn.fit(X_train_enc, y_train)"
   ]
  },
  {
   "cell_type": "markdown",
   "id": "11cdef76-277b-41cb-b492-de333302c9a9",
   "metadata": {
    "execution": {
     "iopub.execute_input": "2022-12-22T06:55:47.994581Z",
     "iopub.status.busy": "2022-12-22T06:55:47.993943Z",
     "iopub.status.idle": "2022-12-22T06:55:48.002699Z",
     "shell.execute_reply": "2022-12-22T06:55:48.000844Z",
     "shell.execute_reply.started": "2022-12-22T06:55:47.994525Z"
    }
   },
   "source": [
    "# тренировочный датасет"
   ]
  },
  {
   "cell_type": "code",
   "execution_count": 76,
   "id": "3e105452-9ea9-4190-88af-bcde428c1563",
   "metadata": {
    "execution": {
     "iopub.execute_input": "2022-12-22T06:41:17.987575Z",
     "iopub.status.busy": "2022-12-22T06:41:17.986903Z",
     "iopub.status.idle": "2022-12-22T06:41:18.022227Z",
     "shell.execute_reply": "2022-12-22T06:41:18.021065Z",
     "shell.execute_reply.started": "2022-12-22T06:41:17.987550Z"
    },
    "tags": []
   },
   "outputs": [],
   "source": [
    "y_pred = knn.predict(X_train_enc)"
   ]
  },
  {
   "cell_type": "code",
   "execution_count": 74,
   "id": "062eb5c1-4a8c-47e9-bce4-6b9089bd7849",
   "metadata": {
    "execution": {
     "iopub.execute_input": "2022-12-22T06:39:35.042932Z",
     "iopub.status.busy": "2022-12-22T06:39:35.042357Z",
     "iopub.status.idle": "2022-12-22T06:39:35.074557Z",
     "shell.execute_reply": "2022-12-22T06:39:35.073522Z",
     "shell.execute_reply.started": "2022-12-22T06:39:35.042883Z"
    },
    "tags": []
   },
   "outputs": [
    {
     "name": "stdout",
     "output_type": "stream",
     "text": [
      "confusion_matrix:\n",
      " [[295  33]\n",
      " [ 51 155]]\n",
      "recall_score:\n",
      " 0.7524271844660194\n",
      "precision_score:\n",
      " 0.824468085106383\n",
      "accuracy_score:\n",
      " 0.8426966292134831\n"
     ]
    }
   ],
   "source": [
    "print(\"Тренировочный датасет:\")\n",
    "print(\"confusion_matrix:\\n\", confusion_matrix(y_train, y_pred) )\n",
    "\n",
    "print(\"recall_score:\\n\", recall_score(y_train, y_pred) )\n",
    "\n",
    "print(\"precision_score:\\n\", precision_score(y_train, y_pred))\n",
    "\n",
    "print(\"accuracy_score:\\n\", accuracy_score(y_train, y_pred) )"
   ]
  },
  {
   "cell_type": "code",
   "execution_count": 74,
   "id": "e378bf4b-55e6-4411-925b-55b73305b250",
   "metadata": {
    "execution": {
     "iopub.execute_input": "2022-12-22T06:39:35.042932Z",
     "iopub.status.busy": "2022-12-22T06:39:35.042357Z",
     "iopub.status.idle": "2022-12-22T06:39:35.074557Z",
     "shell.execute_reply": "2022-12-22T06:39:35.073522Z",
     "shell.execute_reply.started": "2022-12-22T06:39:35.042883Z"
    },
    "tags": []
   },
   "outputs": [
    {
     "name": "stdout",
     "output_type": "stream",
     "text": [
      "confusion_matrix:\n",
      " [[295  33]\n",
      " [ 51 155]]\n",
      "recall_score:\n",
      " 0.7524271844660194\n",
      "precision_score:\n",
      " 0.824468085106383\n",
      "accuracy_score:\n",
      " 0.8426966292134831\n"
     ]
    }
   ],
   "source": [
    "print(\"Тренировочный датасет:\")\n",
    "print(\"confusion_matrix:\\n\", confusion_matrix(y_train, y_pred) )\n",
    "\n",
    "print(\"recall_score:\\n\", recall_score(y_train, y_pred) )\n",
    "\n",
    "print(\"precision_score:\\n\", precision_score(y_train, y_pred))\n",
    "\n",
    "print(\"accuracy_score:\\n\", accuracy_score(y_train, y_pred) )"
   ]
  },
  {
   "cell_type": "markdown",
   "id": "2a6c9f78-af36-4630-89aa-2ba64df09e7f",
   "metadata": {
    "execution": {
     "iopub.execute_input": "2022-12-22T06:56:08.864707Z",
     "iopub.status.busy": "2022-12-22T06:56:08.864073Z",
     "iopub.status.idle": "2022-12-22T06:56:08.873373Z",
     "shell.execute_reply": "2022-12-22T06:56:08.871155Z",
     "shell.execute_reply.started": "2022-12-22T06:56:08.864652Z"
    }
   },
   "source": [
    "# ТЕстовый датасет"
   ]
  },
  {
   "cell_type": "code",
   "execution_count": 21,
   "id": "ca34c859-a854-4166-ac00-b889035e31ea",
   "metadata": {
    "execution": {
     "iopub.execute_input": "2022-12-22T06:57:00.216324Z",
     "iopub.status.busy": "2022-12-22T06:57:00.215700Z",
     "iopub.status.idle": "2022-12-22T06:57:00.244614Z",
     "shell.execute_reply": "2022-12-22T06:57:00.243086Z",
     "shell.execute_reply.started": "2022-12-22T06:57:00.216270Z"
    }
   },
   "outputs": [],
   "source": [
    "y_pred_t = knn.predict(X_test_enc)"
   ]
  },
  {
   "cell_type": "code",
   "execution_count": 22,
   "id": "073494c9-50df-492e-8ffb-71f7154d6951",
   "metadata": {
    "execution": {
     "iopub.execute_input": "2022-12-22T06:57:39.935261Z",
     "iopub.status.busy": "2022-12-22T06:57:39.934643Z",
     "iopub.status.idle": "2022-12-22T06:57:39.960029Z",
     "shell.execute_reply": "2022-12-22T06:57:39.958095Z",
     "shell.execute_reply.started": "2022-12-22T06:57:39.935206Z"
    },
    "tags": []
   },
   "outputs": [
    {
     "name": "stdout",
     "output_type": "stream",
     "text": [
      "Тестовый датасет:\n",
      "confusion_matrix:\n",
      " [[85 11]\n",
      " [23 59]]\n",
      "recall_score:\n",
      " 0.7195121951219512\n",
      "precision_score:\n",
      " 0.8428571428571429\n",
      "accuracy_score:\n",
      " 0.8089887640449438\n"
     ]
    }
   ],
   "source": [
    "print(\"Тестовый датасет:\")\n",
    "print(\"confusion_matrix:\\n\", confusion_matrix(y_test, y_pred_t) )\n",
    "\n",
    "print(\"recall_score:\\n\", recall_score(y_test, y_pred_t) )\n",
    "\n",
    "print(\"precision_score:\\n\", precision_score(y_test, y_pred_t))\n",
    "\n",
    "print(\"accuracy_score:\\n\", accuracy_score(y_test, y_pred_t) )"
   ]
  },
  {
   "cell_type": "markdown",
   "id": "f0122504-826c-4c7b-b8a4-e4e0b2e71075",
   "metadata": {},
   "source": [
    "# GIT"
   ]
  },
  {
   "cell_type": "code",
   "execution_count": null,
   "id": "1933fc0d-78d1-43d8-b019-ab0222e22db6",
   "metadata": {},
   "outputs": [],
   "source": []
  }
 ],
 "metadata": {
  "kernelspec": {
   "display_name": "Python 3 (ipykernel)",
   "language": "python",
   "name": "python3"
  },
  "language_info": {
   "codemirror_mode": {
    "name": "ipython",
    "version": 3
   },
   "file_extension": ".py",
   "mimetype": "text/x-python",
   "name": "python",
   "nbconvert_exporter": "python",
   "pygments_lexer": "ipython3",
   "version": "3.10.6"
  }
 },
 "nbformat": 4,
 "nbformat_minor": 5
}
