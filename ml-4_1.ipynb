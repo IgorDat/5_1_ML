{
 "cells": [
  {
   "cell_type": "code",
   "execution_count": 2,
   "id": "829bac8b-b790-4113-b595-d8ce641d50fc",
   "metadata": {
    "execution": {
     "iopub.execute_input": "2022-12-22T16:30:32.818933Z",
     "iopub.status.busy": "2022-12-22T16:30:32.817816Z",
     "iopub.status.idle": "2022-12-22T16:30:32.831988Z",
     "shell.execute_reply": "2022-12-22T16:30:32.829958Z",
     "shell.execute_reply.started": "2022-12-22T16:30:32.818882Z"
    },
    "tags": []
   },
   "outputs": [],
   "source": [
    "import pandas as pd\n",
    "import os\n",
    "\n",
    "import numpy as np\n",
    "\n",
    "from sklearn.preprocessing import OneHotEncoder, StandardScaler\n",
    "from sklearn.model_selection import GridSearchCV, train_test_split\n",
    "from sklearn.neighbors import KNeighborsRegressor\n",
    "from sklearn.linear_model import LinearRegression\n",
    "from sklearn.datasets import make_regression\n",
    "# классификаторы\n",
    "from sklearn.linear_model import LogisticRegression\n",
    "from sklearn.neighbors import KNeighborsClassifier\n",
    "from sklearn.model_selection import RandomizedSearchCV\n",
    "\n",
    "from sklearn.metrics import mean_squared_error, mean_absolute_error, r2_score\n",
    "import matplotlib.pyplot as plt\n",
    "# метрики классификации\n",
    "from sklearn.metrics import confusion_matrix, accuracy_score, precision_score, recall_score, precision_recall_curve, f1_score, roc_auc_score\n",
    "\n",
    "import seaborn as sns"
   ]
  },
  {
   "cell_type": "markdown",
   "id": "730e55f8-8424-459d-8d9f-154ed9c5f7b6",
   "metadata": {},
   "source": [
    "# 1. Скачайте данные по ссылке\n",
    "https://www.kaggle.com/competitions/titanic/data?select=train.csv "
   ]
  },
  {
   "cell_type": "code",
   "execution_count": 3,
   "id": "e54763ec-6e9d-4d55-9e6a-f10a9b76ddde",
   "metadata": {
    "execution": {
     "iopub.execute_input": "2022-12-22T16:30:33.195204Z",
     "iopub.status.busy": "2022-12-22T16:30:33.194769Z",
     "iopub.status.idle": "2022-12-22T16:30:33.216847Z",
     "shell.execute_reply": "2022-12-22T16:30:33.215428Z",
     "shell.execute_reply.started": "2022-12-22T16:30:33.195170Z"
    },
    "tags": []
   },
   "outputs": [
    {
     "data": {
      "text/plain": [
       "['./data/test.csv', './data/train.csv', './data/gender_submission.csv']"
      ]
     },
     "execution_count": 3,
     "metadata": {},
     "output_type": "execute_result"
    }
   ],
   "source": [
    "# имя файла с данными\n",
    "data_file_dir = u\"./data\"\n",
    "data_file_names = [os.path.join(data_file_dir, x) for x in os.listdir(data_file_dir)]\n",
    "data_file_names"
   ]
  },
  {
   "cell_type": "code",
   "execution_count": 4,
   "id": "ac5ccf6f-acbd-4f42-97c9-b94534ad4112",
   "metadata": {
    "execution": {
     "iopub.execute_input": "2022-12-22T16:30:33.662924Z",
     "iopub.status.busy": "2022-12-22T16:30:33.662466Z",
     "iopub.status.idle": "2022-12-22T16:30:33.703520Z",
     "shell.execute_reply": "2022-12-22T16:30:33.702686Z",
     "shell.execute_reply.started": "2022-12-22T16:30:33.662888Z"
    },
    "tags": []
   },
   "outputs": [
    {
     "name": "stdout",
     "output_type": "stream",
     "text": [
      "==Данные и их структура из файла train\n",
      "(891, 12)\n",
      "<class 'pandas.core.frame.DataFrame'>\n",
      "RangeIndex: 891 entries, 0 to 890\n",
      "Data columns (total 12 columns):\n",
      " #   Column       Non-Null Count  Dtype  \n",
      "---  ------       --------------  -----  \n",
      " 0   PassengerId  891 non-null    int64  \n",
      " 1   Survived     891 non-null    int64  \n",
      " 2   Pclass       891 non-null    int64  \n",
      " 3   Name         891 non-null    object \n",
      " 4   Sex          891 non-null    object \n",
      " 5   Age          714 non-null    float64\n",
      " 6   SibSp        891 non-null    int64  \n",
      " 7   Parch        891 non-null    int64  \n",
      " 8   Ticket       891 non-null    object \n",
      " 9   Fare         891 non-null    float64\n",
      " 10  Cabin        204 non-null    object \n",
      " 11  Embarked     889 non-null    object \n",
      "dtypes: float64(2), int64(5), object(5)\n",
      "memory usage: 83.7+ KB\n",
      "None\n"
     ]
    },
    {
     "data": {
      "text/html": [
       "<div>\n",
       "<style scoped>\n",
       "    .dataframe tbody tr th:only-of-type {\n",
       "        vertical-align: middle;\n",
       "    }\n",
       "\n",
       "    .dataframe tbody tr th {\n",
       "        vertical-align: top;\n",
       "    }\n",
       "\n",
       "    .dataframe thead th {\n",
       "        text-align: right;\n",
       "    }\n",
       "</style>\n",
       "<table border=\"1\" class=\"dataframe\">\n",
       "  <thead>\n",
       "    <tr style=\"text-align: right;\">\n",
       "      <th></th>\n",
       "      <th>PassengerId</th>\n",
       "      <th>Survived</th>\n",
       "      <th>Pclass</th>\n",
       "      <th>Name</th>\n",
       "      <th>Sex</th>\n",
       "      <th>Age</th>\n",
       "      <th>SibSp</th>\n",
       "      <th>Parch</th>\n",
       "      <th>Ticket</th>\n",
       "      <th>Fare</th>\n",
       "      <th>Cabin</th>\n",
       "      <th>Embarked</th>\n",
       "    </tr>\n",
       "  </thead>\n",
       "  <tbody>\n",
       "    <tr>\n",
       "      <th>186</th>\n",
       "      <td>187</td>\n",
       "      <td>1</td>\n",
       "      <td>3</td>\n",
       "      <td>O'Brien, Mrs. Thomas (Johanna \"Hannah\" Godfrey)</td>\n",
       "      <td>female</td>\n",
       "      <td>NaN</td>\n",
       "      <td>1</td>\n",
       "      <td>0</td>\n",
       "      <td>370365</td>\n",
       "      <td>15.5000</td>\n",
       "      <td>NaN</td>\n",
       "      <td>Q</td>\n",
       "    </tr>\n",
       "    <tr>\n",
       "      <th>379</th>\n",
       "      <td>380</td>\n",
       "      <td>0</td>\n",
       "      <td>3</td>\n",
       "      <td>Gustafsson, Mr. Karl Gideon</td>\n",
       "      <td>male</td>\n",
       "      <td>19.0</td>\n",
       "      <td>0</td>\n",
       "      <td>0</td>\n",
       "      <td>347069</td>\n",
       "      <td>7.7750</td>\n",
       "      <td>NaN</td>\n",
       "      <td>S</td>\n",
       "    </tr>\n",
       "    <tr>\n",
       "      <th>634</th>\n",
       "      <td>635</td>\n",
       "      <td>0</td>\n",
       "      <td>3</td>\n",
       "      <td>Skoog, Miss. Mabel</td>\n",
       "      <td>female</td>\n",
       "      <td>9.0</td>\n",
       "      <td>3</td>\n",
       "      <td>2</td>\n",
       "      <td>347088</td>\n",
       "      <td>27.9000</td>\n",
       "      <td>NaN</td>\n",
       "      <td>S</td>\n",
       "    </tr>\n",
       "    <tr>\n",
       "      <th>741</th>\n",
       "      <td>742</td>\n",
       "      <td>0</td>\n",
       "      <td>1</td>\n",
       "      <td>Cavendish, Mr. Tyrell William</td>\n",
       "      <td>male</td>\n",
       "      <td>36.0</td>\n",
       "      <td>1</td>\n",
       "      <td>0</td>\n",
       "      <td>19877</td>\n",
       "      <td>78.8500</td>\n",
       "      <td>C46</td>\n",
       "      <td>S</td>\n",
       "    </tr>\n",
       "    <tr>\n",
       "      <th>8</th>\n",
       "      <td>9</td>\n",
       "      <td>1</td>\n",
       "      <td>3</td>\n",
       "      <td>Johnson, Mrs. Oscar W (Elisabeth Vilhelmina Berg)</td>\n",
       "      <td>female</td>\n",
       "      <td>27.0</td>\n",
       "      <td>0</td>\n",
       "      <td>2</td>\n",
       "      <td>347742</td>\n",
       "      <td>11.1333</td>\n",
       "      <td>NaN</td>\n",
       "      <td>S</td>\n",
       "    </tr>\n",
       "    <tr>\n",
       "      <th>710</th>\n",
       "      <td>711</td>\n",
       "      <td>1</td>\n",
       "      <td>1</td>\n",
       "      <td>Mayne, Mlle. Berthe Antonine (\"Mrs de Villiers\")</td>\n",
       "      <td>female</td>\n",
       "      <td>24.0</td>\n",
       "      <td>0</td>\n",
       "      <td>0</td>\n",
       "      <td>PC 17482</td>\n",
       "      <td>49.5042</td>\n",
       "      <td>C90</td>\n",
       "      <td>C</td>\n",
       "    </tr>\n",
       "    <tr>\n",
       "      <th>191</th>\n",
       "      <td>192</td>\n",
       "      <td>0</td>\n",
       "      <td>2</td>\n",
       "      <td>Carbines, Mr. William</td>\n",
       "      <td>male</td>\n",
       "      <td>19.0</td>\n",
       "      <td>0</td>\n",
       "      <td>0</td>\n",
       "      <td>28424</td>\n",
       "      <td>13.0000</td>\n",
       "      <td>NaN</td>\n",
       "      <td>S</td>\n",
       "    </tr>\n",
       "  </tbody>\n",
       "</table>\n",
       "</div>"
      ],
      "text/plain": [
       "     PassengerId  Survived  Pclass  \\\n",
       "186          187         1       3   \n",
       "379          380         0       3   \n",
       "634          635         0       3   \n",
       "741          742         0       1   \n",
       "8              9         1       3   \n",
       "710          711         1       1   \n",
       "191          192         0       2   \n",
       "\n",
       "                                                  Name     Sex   Age  SibSp  \\\n",
       "186    O'Brien, Mrs. Thomas (Johanna \"Hannah\" Godfrey)  female   NaN      1   \n",
       "379                        Gustafsson, Mr. Karl Gideon    male  19.0      0   \n",
       "634                                 Skoog, Miss. Mabel  female   9.0      3   \n",
       "741                      Cavendish, Mr. Tyrell William    male  36.0      1   \n",
       "8    Johnson, Mrs. Oscar W (Elisabeth Vilhelmina Berg)  female  27.0      0   \n",
       "710   Mayne, Mlle. Berthe Antonine (\"Mrs de Villiers\")  female  24.0      0   \n",
       "191                              Carbines, Mr. William    male  19.0      0   \n",
       "\n",
       "     Parch    Ticket     Fare Cabin Embarked  \n",
       "186      0    370365  15.5000   NaN        Q  \n",
       "379      0    347069   7.7750   NaN        S  \n",
       "634      2    347088  27.9000   NaN        S  \n",
       "741      0     19877  78.8500   C46        S  \n",
       "8        2    347742  11.1333   NaN        S  \n",
       "710      0  PC 17482  49.5042   C90        C  \n",
       "191      0     28424  13.0000   NaN        S  "
      ]
     },
     "execution_count": 4,
     "metadata": {},
     "output_type": "execute_result"
    }
   ],
   "source": [
    "# данные и их структура\n",
    "print(\"==Данные и их структура из файла train\")\n",
    "data = pd.read_csv(data_file_names[1])\n",
    "print(data.shape)\n",
    "print(data.info())\n",
    "data.sample(7)"
   ]
  },
  {
   "cell_type": "code",
   "execution_count": 5,
   "id": "7ee5d63a-541d-430e-b313-e415edddd23e",
   "metadata": {
    "execution": {
     "iopub.execute_input": "2022-12-22T16:30:37.360289Z",
     "iopub.status.busy": "2022-12-22T16:30:37.359847Z",
     "iopub.status.idle": "2022-12-22T16:30:37.376285Z",
     "shell.execute_reply": "2022-12-22T16:30:37.374122Z",
     "shell.execute_reply.started": "2022-12-22T16:30:37.360254Z"
    },
    "tags": []
   },
   "outputs": [
    {
     "data": {
      "text/plain": [
       "(712, 12)"
      ]
     },
     "execution_count": 5,
     "metadata": {},
     "output_type": "execute_result"
    }
   ],
   "source": [
    "# NaN мешают классификации - заменим их на 'none' , рабочая выборка немного сократиться. наверное, это не будет сильно критичным \n",
    "\n",
    "data.Cabin.unique()\n",
    "data.Cabin.fillna('none', inplace=True)\n",
    "data.Cabin.unique()\n",
    "\n",
    "data.dropna(inplace=True)\n",
    "data.shape"
   ]
  },
  {
   "cell_type": "code",
   "execution_count": 6,
   "id": "8cc6a69a-0fda-4173-9560-49d48b88928f",
   "metadata": {
    "execution": {
     "iopub.execute_input": "2022-12-22T16:30:38.649630Z",
     "iopub.status.busy": "2022-12-22T16:30:38.648267Z",
     "iopub.status.idle": "2022-12-22T16:30:38.668179Z",
     "shell.execute_reply": "2022-12-22T16:30:38.666688Z",
     "shell.execute_reply.started": "2022-12-22T16:30:38.649579Z"
    },
    "tags": []
   },
   "outputs": [
    {
     "name": "stdout",
     "output_type": "stream",
     "text": [
      "(712, 12)\n"
     ]
    },
    {
     "data": {
      "text/plain": [
       "PassengerId    712\n",
       "Survived         2\n",
       "Pclass           3\n",
       "Name           712\n",
       "Sex              2\n",
       "Age             88\n",
       "SibSp            6\n",
       "Parch            7\n",
       "Ticket         541\n",
       "Fare           219\n",
       "Cabin          134\n",
       "Embarked         3\n",
       "dtype: int64"
      ]
     },
     "execution_count": 6,
     "metadata": {},
     "output_type": "execute_result"
    }
   ],
   "source": [
    "# количество уникальных значений по каждому из признаков. Чем больше уникальных значений, тем потенциальнаее это свойство не надо брать в расчет модели\n",
    "print(data.shape)\n",
    "data.nunique()"
   ]
  },
  {
   "cell_type": "code",
   "execution_count": 7,
   "id": "df987dca-1c63-4a6a-98e1-7e4765649b54",
   "metadata": {
    "execution": {
     "iopub.execute_input": "2022-12-22T16:30:46.992497Z",
     "iopub.status.busy": "2022-12-22T16:30:46.991103Z",
     "iopub.status.idle": "2022-12-22T16:30:47.006601Z",
     "shell.execute_reply": "2022-12-22T16:30:47.005376Z",
     "shell.execute_reply.started": "2022-12-22T16:30:46.992445Z"
    },
    "tags": []
   },
   "outputs": [
    {
     "data": {
      "text/plain": [
       "0    0.595506\n",
       "1    0.404494\n",
       "Name: Survived, dtype: float64"
      ]
     },
     "execution_count": 7,
     "metadata": {},
     "output_type": "execute_result"
    }
   ],
   "source": [
    "# баланс целевого признака \n",
    "data['Survived'].value_counts(normalize=True)"
   ]
  },
  {
   "cell_type": "code",
   "execution_count": 40,
   "id": "913e257f-8046-4fb8-a613-d6646a06342f",
   "metadata": {
    "execution": {
     "iopub.execute_input": "2022-12-22T16:37:29.961583Z",
     "iopub.status.busy": "2022-12-22T16:37:29.960939Z",
     "iopub.status.idle": "2022-12-22T16:37:30.156089Z",
     "shell.execute_reply": "2022-12-22T16:37:30.155169Z",
     "shell.execute_reply.started": "2022-12-22T16:37:29.961528Z"
    },
    "tags": []
   },
   "outputs": [
    {
     "data": {
      "text/plain": [
       "<AxesSubplot: >"
      ]
     },
     "execution_count": 40,
     "metadata": {},
     "output_type": "execute_result"
    },
    {
     "data": {
      "image/png": "[encoded data removed]",
      "text/plain": [
       "<Figure size 640x480 with 1 Axes>"
      ]
     },
     "metadata": {},
     "output_type": "display_data"
    }
   ],
   "source": [
    "surv = data['Survived'].value_counts()\n",
    "sns.barplot([[x] for x in surv.values])\n"
   ]
  },
  {
   "cell_type": "code",
   "execution_count": 7,
   "id": "adae3bc0-2476-4c3e-9991-6042e1eb03d7",
   "metadata": {
    "execution": {
     "iopub.execute_input": "2022-12-22T16:15:40.954112Z",
     "iopub.status.busy": "2022-12-22T16:15:40.953734Z",
     "iopub.status.idle": "2022-12-22T16:15:41.500436Z",
     "shell.execute_reply": "2022-12-22T16:15:41.499394Z",
     "shell.execute_reply.started": "2022-12-22T16:15:40.954081Z"
    }
   },
   "outputs": [
    {
     "data": {
      "text/plain": [
       "<AxesSubplot: >"
      ]
     },
     "execution_count": 7,
     "metadata": {},
     "output_type": "execute_result"
    },
    {
     "data": {
      "image/png": "[encoded data removed]",
      "text/plain": [
       "<Figure size 640x480 with 2 Axes>"
      ]
     },
     "metadata": {},
     "output_type": "display_data"
    }
   ],
   "source": [
    "# интересные визуальные выовды, подсмотренные у коллег по цеху\n",
    "sns.heatmap(data.corr(), cmap='magma', linewidths=2, linecolor='black', annot=True)"
   ]
  },
  {
   "cell_type": "markdown",
   "id": "32a31d62-8ffc-4ea2-84fa-8a5929bfec20",
   "metadata": {
    "execution": {
     "iopub.execute_input": "2022-12-18T07:31:56.231085Z",
     "iopub.status.busy": "2022-12-18T07:31:56.229740Z",
     "iopub.status.idle": "2022-12-18T07:31:56.237450Z",
     "shell.execute_reply": "2022-12-18T07:31:56.235673Z",
     "shell.execute_reply.started": "2022-12-18T07:31:56.231031Z"
    },
    "tags": []
   },
   "source": [
    "# 2. Исключите признаки, которые на ваш взгляд, могут привести к переобучению \n",
    "(например, id)."
   ]
  },
  {
   "cell_type": "code",
   "execution_count": 8,
   "id": "0d35fa63-b75e-41ef-bd04-626b99408f1b",
   "metadata": {
    "execution": {
     "iopub.execute_input": "2022-12-22T16:15:41.502947Z",
     "iopub.status.busy": "2022-12-22T16:15:41.502342Z",
     "iopub.status.idle": "2022-12-22T16:15:41.511841Z",
     "shell.execute_reply": "2022-12-22T16:15:41.510699Z",
     "shell.execute_reply.started": "2022-12-22T16:15:41.502909Z"
    },
    "tags": []
   },
   "outputs": [
    {
     "name": "stdout",
     "output_type": "stream",
     "text": [
      "==Исходный набор признаков:\n"
     ]
    },
    {
     "data": {
      "text/plain": [
       "['PassengerId',\n",
       " 'Survived',\n",
       " 'Pclass',\n",
       " 'Name',\n",
       " 'Sex',\n",
       " 'Age',\n",
       " 'SibSp',\n",
       " 'Parch',\n",
       " 'Ticket',\n",
       " 'Fare',\n",
       " 'Cabin',\n",
       " 'Embarked']"
      ]
     },
     "execution_count": 8,
     "metadata": {},
     "output_type": "execute_result"
    }
   ],
   "source": [
    "print(\"==Исходный набор признаков:\")\n",
    "features = data.columns\n",
    "list(features)"
   ]
  },
  {
   "cell_type": "code",
   "execution_count": 9,
   "id": "667a0c15-2aa9-4e34-b75a-62d03f221b93",
   "metadata": {
    "execution": {
     "iopub.execute_input": "2022-12-22T16:15:41.514131Z",
     "iopub.status.busy": "2022-12-22T16:15:41.513751Z",
     "iopub.status.idle": "2022-12-22T16:15:41.523343Z",
     "shell.execute_reply": "2022-12-22T16:15:41.522311Z",
     "shell.execute_reply.started": "2022-12-22T16:15:41.514100Z"
    },
    "tags": []
   },
   "outputs": [
    {
     "name": "stdout",
     "output_type": "stream",
     "text": [
      "==Набор признаков для обучения:\n"
     ]
    },
    {
     "data": {
      "text/plain": [
       "['Pclass', 'Sex', 'Age', 'SibSp', 'Parch', 'Fare', 'Cabin', 'Embarked']"
      ]
     },
     "execution_count": 9,
     "metadata": {},
     "output_type": "execute_result"
    }
   ],
   "source": [
    "print(\"==Набор признаков для обучения:\")\n",
    "# \n",
    "good_features = \\\n",
    "[\\\n",
    " # 'PassengerId', # номер \n",
    " # 'Survived', # Выживание 0 = Нет, 1 = Да\n",
    " 'Pclass', # Класс билета 1 = 1-й, 2 = 2-й, 3 = 3-й\n",
    " # 'Name',  # имя - \n",
    " 'Sex',    # пол\n",
    " 'Age',    # возраст в годах\n",
    " 'SibSp',   # Количество братьев и сестер / супругов на борту \"Титаника\"\n",
    " 'Parch',   # Количество родителей / детей на борту \"Титаника\"\n",
    " # 'Ticket', # номер билета\n",
    " 'Fare',  # тариф\n",
    " 'Cabin', # номер каюты\n",
    " 'Embarked' # Порт посадки C = Шербур, Q = Квинстаун, S = Саутгемптон\n",
    "]\n",
    "\n",
    "good_features"
   ]
  },
  {
   "cell_type": "markdown",
   "id": "f11a9d60-4350-4bc6-a884-7ada02842b24",
   "metadata": {},
   "source": [
    "# 3. Разделите выборку на train и test."
   ]
  },
  {
   "cell_type": "code",
   "execution_count": 10,
   "id": "c87c58d5-49cd-484c-a74e-27e2bfcb98e7",
   "metadata": {
    "execution": {
     "iopub.execute_input": "2022-12-22T16:15:41.527904Z",
     "iopub.status.busy": "2022-12-22T16:15:41.527463Z",
     "iopub.status.idle": "2022-12-22T16:15:41.587309Z",
     "shell.execute_reply": "2022-12-22T16:15:41.585810Z",
     "shell.execute_reply.started": "2022-12-22T16:15:41.527882Z"
    },
    "tags": []
   },
   "outputs": [],
   "source": [
    "# признаки для обучения\n",
    "X = data[good_features]\n",
    "# целевой признак \n",
    "y = data['Survived']"
   ]
  },
  {
   "cell_type": "code",
   "execution_count": 11,
   "id": "03cb66ba-9b29-4756-b7f7-d995c2d26880",
   "metadata": {
    "execution": {
     "iopub.execute_input": "2022-12-22T16:15:41.591756Z",
     "iopub.status.busy": "2022-12-22T16:15:41.591184Z",
     "iopub.status.idle": "2022-12-22T16:15:41.602714Z",
     "shell.execute_reply": "2022-12-22T16:15:41.601736Z",
     "shell.execute_reply.started": "2022-12-22T16:15:41.591709Z"
    },
    "tags": []
   },
   "outputs": [
    {
     "name": "stdout",
     "output_type": "stream",
     "text": [
      "(534, 8)\n"
     ]
    }
   ],
   "source": [
    "X_train, X_test, y_train, y_test = train_test_split(X, y,  random_state=11)\n",
    "print(X_train.shape)"
   ]
  },
  {
   "cell_type": "markdown",
   "id": "f5e311ba-e0f5-4a03-866d-055eea57d8b6",
   "metadata": {},
   "source": [
    "# 4. Преобразуйте признаки\n",
    " категориальные признаки с помощью sklearn.preprocessing.OneHotEncoder, \n",
    " \n",
    " а некатегориальные с помощью sklearn.preprocessing.StandardScaler (на следующем занятии расскажем, зачем это нужно)"
   ]
  },
  {
   "cell_type": "markdown",
   "id": "736f98bb-9325-4238-b246-1d4cc6988cf7",
   "metadata": {},
   "source": [
    "## Категориальные признаки"
   ]
  },
  {
   "cell_type": "code",
   "execution_count": 12,
   "id": "d102fb1e-ad5d-48bb-9811-cd49cefdb2b8",
   "metadata": {
    "execution": {
     "iopub.execute_input": "2022-12-22T16:15:41.604191Z",
     "iopub.status.busy": "2022-12-22T16:15:41.603808Z",
     "iopub.status.idle": "2022-12-22T16:15:41.684310Z",
     "shell.execute_reply": "2022-12-22T16:15:41.683405Z",
     "shell.execute_reply.started": "2022-12-22T16:15:41.604157Z"
    },
    "tags": []
   },
   "outputs": [
    {
     "data": {
      "text/plain": [
       "['Sex_ohe', 'Cabin_ohe', 'Embarked_ohe']"
      ]
     },
     "execution_count": 12,
     "metadata": {},
     "output_type": "execute_result"
    }
   ],
   "source": [
    "cat_features = \\\n",
    "[\\\n",
    " # 'PassengerId', # номер \n",
    " # 'Survived', # Выживание 0 = Нет, 1 = Да\n",
    " # 'Pclass', # Класс билета 1 = 1-й, 2 = 2-й, 3 = 3-й\n",
    " # 'Name',  # имя - \n",
    " 'Sex',    # пол\n",
    " # 'Age',    # возраст в годах\n",
    " # 'SibSp',   # Количество братьев и сестер / супругов на борту \"Титаника\"\n",
    " # 'Parch',   # Количество родителей / детей на борту \"Титаника\"\n",
    " # 'Ticket', # номер билета\n",
    " # 'Fare',  # тариф\n",
    " 'Cabin', # номер каюты\n",
    " 'Embarked' # Порт посадки C = Шербур, Q = Квинстаун, S = Саутгемптон\n",
    "]\n",
    "cat_features_scaled = [f+\"_ohe\" for f in cat_features]\n",
    "cat_features_scaled"
   ]
  },
  {
   "cell_type": "markdown",
   "id": "840070be-cfd8-4303-a549-8587530785f2",
   "metadata": {},
   "source": [
    "### Sex"
   ]
  },
  {
   "cell_type": "code",
   "execution_count": 13,
   "id": "c95f9229-43e9-46ff-bec0-999106c52ba8",
   "metadata": {
    "execution": {
     "iopub.execute_input": "2022-12-22T16:15:41.686584Z",
     "iopub.status.busy": "2022-12-22T16:15:41.686198Z",
     "iopub.status.idle": "2022-12-22T16:15:41.800282Z",
     "shell.execute_reply": "2022-12-22T16:15:41.798722Z",
     "shell.execute_reply.started": "2022-12-22T16:15:41.686550Z"
    },
    "tags": []
   },
   "outputs": [],
   "source": [
    "# категориальные признаки с помощью sklearn.preprocessing.OneHotEncoder,\n",
    "ohe = OneHotEncoder() #handle_unknown='error', drop='first' drop='if_binary'\n",
    "sx=ohe.fit_transform(X_train['Sex'].values.reshape(-1,1) ).toarray()\n",
    "columns = ['Sex_'+x for x in ohe.categories_[0]]\n",
    "# т.к. признак бинарный - берем только один столбец \n",
    "df_sex = pd.DataFrame(sx, columns=columns).iloc[:,0].to_frame() #, columns=ohe.categories_\n",
    "df_sex\n",
    "# X_train = pd.concat([X_train,df_sex], axis=1)\n",
    "# все преобразованные признаки складываем отдельно - на них будем тренировать модель\n",
    "X_train_enc = df_sex\n",
    "X_train_enc.sample(5)\n",
    "\n",
    "# для тестового датасета\n",
    "sx_t=ohe.fit_transform(X_test['Sex'].values.reshape(-1,1) ).toarray()\n",
    "# columns = ['Sex_'+x for x in ohe.categories_[0]]\n",
    "df_sex_t = pd.DataFrame(sx_t, columns=columns).iloc[:,0].to_frame() #, columns=ohe.categories_\n",
    "# df_sex\n",
    "# X_train = pd.concat([X_train,df_sex], axis=1)\n",
    "X_test_enc = df_sex_t\n",
    "# X_train_enc.sample(5)"
   ]
  },
  {
   "cell_type": "markdown",
   "id": "1a25dab0-d476-4daa-b218-47339538108d",
   "metadata": {},
   "source": [
    "### Embarked_"
   ]
  },
  {
   "cell_type": "code",
   "execution_count": 14,
   "id": "d0303051-8deb-4d95-b3d1-6445ab07bd6e",
   "metadata": {
    "execution": {
     "iopub.execute_input": "2022-12-22T16:15:41.803857Z",
     "iopub.status.busy": "2022-12-22T16:15:41.802519Z",
     "iopub.status.idle": "2022-12-22T16:15:41.819470Z",
     "shell.execute_reply": "2022-12-22T16:15:41.818551Z",
     "shell.execute_reply.started": "2022-12-22T16:15:41.803807Z"
    },
    "tags": []
   },
   "outputs": [],
   "source": [
    "# категориальные признаки Embarked\n",
    "ohe = OneHotEncoder() #handle_unknown='error', drop='first' drop='if_binary'\n",
    "emb=ohe.fit_transform(X_train['Embarked'].values.reshape(-1,1) ).toarray()\n",
    "columns=['Embarked_'+str(x) for x in list(ohe.categories_[0])]\n",
    "df_emb = pd.DataFrame(emb, columns=columns)#.iloc[:,0].to_frame() #, columns=ohe.categories_\n",
    "df_emb\n",
    "X_train_enc = pd.concat([X_train_enc,df_emb], axis=1)\n",
    "X_train_enc\n",
    "\n",
    "# для тестового датасета\n",
    "emb_t=ohe.fit_transform(X_test['Embarked'].values.reshape(-1,1) ).toarray()\n",
    "# columns=['Embarked_'+str(x) for x in list(ohe.categories_[0])]\n",
    "df_emb_t = pd.DataFrame(emb_t, columns=columns)#.iloc[:,0].to_frame() #, columns=ohe.categories_\n",
    "# df_emb\n",
    "X_test_enc = pd.concat([X_test_enc,df_emb_t], axis=1)\n",
    "# X_test_enc"
   ]
  },
  {
   "cell_type": "markdown",
   "id": "32f1569d-efe0-4bc9-b20d-29f72335867a",
   "metadata": {},
   "source": [
    "### Cabin"
   ]
  },
  {
   "cell_type": "code",
   "execution_count": 15,
   "id": "2bd9306c-6f78-4824-bc73-18eeefd74d0d",
   "metadata": {
    "execution": {
     "iopub.execute_input": "2022-12-22T16:15:41.820883Z",
     "iopub.status.busy": "2022-12-22T16:15:41.820597Z",
     "iopub.status.idle": "2022-12-22T16:15:41.915097Z",
     "shell.execute_reply": "2022-12-22T16:15:41.913583Z",
     "shell.execute_reply.started": "2022-12-22T16:15:41.820860Z"
    },
    "tags": []
   },
   "outputs": [],
   "source": [
    "# # категориальные признаки Cabin - не будем его брать, тк в нем много пропусков \n",
    "# ohe = OneHotEncoder() #handle_unknown='error', drop='first' drop='if_binary'\n",
    "# cab=ohe.fit_transform(X_train['Cabin'].values.reshape(-1,1) ).toarray()\n",
    "# columns=['Cabin_'+str(x) for x in list(ohe.categories_[0])]\n",
    "# df_cab = pd.DataFrame(cab, columns=columns)#.iloc[:,0].to_frame() #, columns=ohe.categories_\n",
    "# df_cab\n",
    "# X_train_enc = pd.concat([X_train_enc,df_cab], axis=1)\n",
    "# X_train_enc\n"
   ]
  },
  {
   "cell_type": "markdown",
   "id": "aea9a6b1-49df-42f5-8ed4-1123ff6d503c",
   "metadata": {
    "execution": {
     "iopub.execute_input": "2022-12-20T13:19:27.345812Z",
     "iopub.status.busy": "2022-12-20T13:19:27.296713Z",
     "iopub.status.idle": "2022-12-20T13:19:28.507343Z",
     "shell.execute_reply": "2022-12-20T13:19:28.505813Z",
     "shell.execute_reply.started": "2022-12-20T13:19:27.325936Z"
    }
   },
   "source": [
    "## Некатегориальные признаки"
   ]
  },
  {
   "cell_type": "code",
   "execution_count": 16,
   "id": "27c3e70d-e080-454e-bbb2-5200f086c7da",
   "metadata": {
    "execution": {
     "iopub.execute_input": "2022-12-22T16:15:41.918135Z",
     "iopub.status.busy": "2022-12-22T16:15:41.917548Z",
     "iopub.status.idle": "2022-12-22T16:15:41.929295Z",
     "shell.execute_reply": "2022-12-22T16:15:41.928479Z",
     "shell.execute_reply.started": "2022-12-22T16:15:41.918088Z"
    },
    "tags": []
   },
   "outputs": [
    {
     "name": "stdout",
     "output_type": "stream",
     "text": [
      "(534,)\n"
     ]
    },
    {
     "data": {
      "text/plain": [
       "(178,)"
      ]
     },
     "execution_count": 16,
     "metadata": {},
     "output_type": "execute_result"
    }
   ],
   "source": [
    "# удаляем пропущенные данные в поле Возраст\n",
    "X_train.Age.unique()\n",
    "# X_train.Age[X_train.Age == np.nan]\n",
    "print(X_train.Age.dropna().shape)\n",
    "\n",
    "# для тестового датасета\n",
    "X_test.Age.unique()\n",
    "# X_train.Age[X_train.Age == np.nan]\n",
    "X_test.Age.dropna().shape"
   ]
  },
  {
   "cell_type": "code",
   "execution_count": 17,
   "id": "1a32b294-432c-4b1c-b384-0dc56fd46888",
   "metadata": {
    "execution": {
     "iopub.execute_input": "2022-12-22T16:15:41.930733Z",
     "iopub.status.busy": "2022-12-22T16:15:41.930467Z",
     "iopub.status.idle": "2022-12-22T16:15:42.002881Z",
     "shell.execute_reply": "2022-12-22T16:15:42.000910Z",
     "shell.execute_reply.started": "2022-12-22T16:15:41.930710Z"
    },
    "tags": []
   },
   "outputs": [
    {
     "data": {
      "text/plain": [
       "['Pclass_scaled', 'Age_scaled', 'SibSp_scaled', 'Parch_scaled', 'Fare_scaled']"
      ]
     },
     "execution_count": 17,
     "metadata": {},
     "output_type": "execute_result"
    }
   ],
   "source": [
    "noncat_features = \\\n",
    "[\\\n",
    " # 'PassengerId', # номер \n",
    " # 'Survived', # Выживание 0 = Нет, 1 = Да\n",
    " 'Pclass', # Класс билета 1 = 1-й, 2 = 2-й, 3 = 3-й\n",
    " # 'Name',  # имя - \n",
    " # 'Sex',    # пол\n",
    " 'Age',    # возраст в годах\n",
    " 'SibSp',   # Количество братьев и сестер / супругов на борту \"Титаника\"\n",
    " 'Parch',   # Количество родителей / детей на борту \"Титаника\"\n",
    " # 'Ticket', # номер билета\n",
    " 'Fare',  # тариф\n",
    " # 'Cabin', # номер каюты\n",
    " # 'Embarked' # Порт посадки C = Шербур, Q = Квинстаун, S = Саутгемптон\n",
    "]\n",
    "noncat_features_scaled = [f+\"_scaled\" for f in noncat_features]\n",
    "noncat_features_scaled"
   ]
  },
  {
   "cell_type": "code",
   "execution_count": 18,
   "id": "e5c95b6a-a1f3-4e7d-affa-23b3dae48bd0",
   "metadata": {
    "execution": {
     "iopub.execute_input": "2022-12-22T16:15:42.006616Z",
     "iopub.status.busy": "2022-12-22T16:15:42.005019Z",
     "iopub.status.idle": "2022-12-22T16:15:42.037737Z",
     "shell.execute_reply": "2022-12-22T16:15:42.036714Z",
     "shell.execute_reply.started": "2022-12-22T16:15:42.006563Z"
    },
    "tags": []
   },
   "outputs": [
    {
     "data": {
      "text/html": [
       "<div>\n",
       "<style scoped>\n",
       "    .dataframe tbody tr th:only-of-type {\n",
       "        vertical-align: middle;\n",
       "    }\n",
       "\n",
       "    .dataframe tbody tr th {\n",
       "        vertical-align: top;\n",
       "    }\n",
       "\n",
       "    .dataframe thead th {\n",
       "        text-align: right;\n",
       "    }\n",
       "</style>\n",
       "<table border=\"1\" class=\"dataframe\">\n",
       "  <thead>\n",
       "    <tr style=\"text-align: right;\">\n",
       "      <th></th>\n",
       "      <th>Sex_female</th>\n",
       "      <th>Embarked_C</th>\n",
       "      <th>Embarked_Q</th>\n",
       "      <th>Embarked_S</th>\n",
       "      <th>Pclass_scaled</th>\n",
       "      <th>Age_scaled</th>\n",
       "      <th>SibSp_scaled</th>\n",
       "      <th>Parch_scaled</th>\n",
       "      <th>Fare_scaled</th>\n",
       "    </tr>\n",
       "  </thead>\n",
       "  <tbody>\n",
       "    <tr>\n",
       "      <th>0</th>\n",
       "      <td>1.0</td>\n",
       "      <td>1.0</td>\n",
       "      <td>0.0</td>\n",
       "      <td>0.0</td>\n",
       "      <td>-1.404017</td>\n",
       "      <td>1.616298</td>\n",
       "      <td>0.681276</td>\n",
       "      <td>-0.532873</td>\n",
       "      <td>0.416903</td>\n",
       "    </tr>\n",
       "    <tr>\n",
       "      <th>1</th>\n",
       "      <td>0.0</td>\n",
       "      <td>0.0</td>\n",
       "      <td>0.0</td>\n",
       "      <td>1.0</td>\n",
       "      <td>0.964846</td>\n",
       "      <td>0.027723</td>\n",
       "      <td>-0.636845</td>\n",
       "      <td>-0.532873</td>\n",
       "      <td>-0.523717</td>\n",
       "    </tr>\n",
       "    <tr>\n",
       "      <th>2</th>\n",
       "      <td>1.0</td>\n",
       "      <td>1.0</td>\n",
       "      <td>0.0</td>\n",
       "      <td>0.0</td>\n",
       "      <td>-1.404017</td>\n",
       "      <td>0.061523</td>\n",
       "      <td>0.681276</td>\n",
       "      <td>-0.532873</td>\n",
       "      <td>1.403776</td>\n",
       "    </tr>\n",
       "    <tr>\n",
       "      <th>3</th>\n",
       "      <td>0.0</td>\n",
       "      <td>1.0</td>\n",
       "      <td>0.0</td>\n",
       "      <td>0.0</td>\n",
       "      <td>-1.404017</td>\n",
       "      <td>2.021892</td>\n",
       "      <td>0.681276</td>\n",
       "      <td>0.609915</td>\n",
       "      <td>0.779596</td>\n",
       "    </tr>\n",
       "    <tr>\n",
       "      <th>4</th>\n",
       "      <td>1.0</td>\n",
       "      <td>0.0</td>\n",
       "      <td>0.0</td>\n",
       "      <td>1.0</td>\n",
       "      <td>0.964846</td>\n",
       "      <td>-0.208873</td>\n",
       "      <td>-0.636845</td>\n",
       "      <td>0.609915</td>\n",
       "      <td>-0.442660</td>\n",
       "    </tr>\n",
       "    <tr>\n",
       "      <th>...</th>\n",
       "      <td>...</td>\n",
       "      <td>...</td>\n",
       "      <td>...</td>\n",
       "      <td>...</td>\n",
       "      <td>...</td>\n",
       "      <td>...</td>\n",
       "      <td>...</td>\n",
       "      <td>...</td>\n",
       "      <td>...</td>\n",
       "    </tr>\n",
       "    <tr>\n",
       "      <th>173</th>\n",
       "      <td>0.0</td>\n",
       "      <td>0.0</td>\n",
       "      <td>0.0</td>\n",
       "      <td>1.0</td>\n",
       "      <td>-0.219586</td>\n",
       "      <td>0.872710</td>\n",
       "      <td>0.681276</td>\n",
       "      <td>0.609915</td>\n",
       "      <td>-0.190332</td>\n",
       "    </tr>\n",
       "    <tr>\n",
       "      <th>174</th>\n",
       "      <td>0.0</td>\n",
       "      <td>0.0</td>\n",
       "      <td>0.0</td>\n",
       "      <td>1.0</td>\n",
       "      <td>-0.219586</td>\n",
       "      <td>-0.344071</td>\n",
       "      <td>0.681276</td>\n",
       "      <td>-0.532873</td>\n",
       "      <td>-0.194912</td>\n",
       "    </tr>\n",
       "    <tr>\n",
       "      <th>175</th>\n",
       "      <td>1.0</td>\n",
       "      <td>0.0</td>\n",
       "      <td>0.0</td>\n",
       "      <td>1.0</td>\n",
       "      <td>0.964846</td>\n",
       "      <td>-0.682066</td>\n",
       "      <td>-0.636845</td>\n",
       "      <td>-0.532873</td>\n",
       "      <td>-0.512497</td>\n",
       "    </tr>\n",
       "    <tr>\n",
       "      <th>176</th>\n",
       "      <td>1.0</td>\n",
       "      <td>0.0</td>\n",
       "      <td>0.0</td>\n",
       "      <td>1.0</td>\n",
       "      <td>-0.219586</td>\n",
       "      <td>0.940309</td>\n",
       "      <td>0.681276</td>\n",
       "      <td>-0.532873</td>\n",
       "      <td>-0.194912</td>\n",
       "    </tr>\n",
       "    <tr>\n",
       "      <th>177</th>\n",
       "      <td>1.0</td>\n",
       "      <td>0.0</td>\n",
       "      <td>0.0</td>\n",
       "      <td>1.0</td>\n",
       "      <td>-0.219586</td>\n",
       "      <td>-0.073675</td>\n",
       "      <td>0.681276</td>\n",
       "      <td>-0.532873</td>\n",
       "      <td>-0.194912</td>\n",
       "    </tr>\n",
       "  </tbody>\n",
       "</table>\n",
       "<p>178 rows × 9 columns</p>\n",
       "</div>"
      ],
      "text/plain": [
       "     Sex_female  Embarked_C  Embarked_Q  Embarked_S  Pclass_scaled  \\\n",
       "0           1.0         1.0         0.0         0.0      -1.404017   \n",
       "1           0.0         0.0         0.0         1.0       0.964846   \n",
       "2           1.0         1.0         0.0         0.0      -1.404017   \n",
       "3           0.0         1.0         0.0         0.0      -1.404017   \n",
       "4           1.0         0.0         0.0         1.0       0.964846   \n",
       "..          ...         ...         ...         ...            ...   \n",
       "173         0.0         0.0         0.0         1.0      -0.219586   \n",
       "174         0.0         0.0         0.0         1.0      -0.219586   \n",
       "175         1.0         0.0         0.0         1.0       0.964846   \n",
       "176         1.0         0.0         0.0         1.0      -0.219586   \n",
       "177         1.0         0.0         0.0         1.0      -0.219586   \n",
       "\n",
       "     Age_scaled  SibSp_scaled  Parch_scaled  Fare_scaled  \n",
       "0      1.616298      0.681276     -0.532873     0.416903  \n",
       "1      0.027723     -0.636845     -0.532873    -0.523717  \n",
       "2      0.061523      0.681276     -0.532873     1.403776  \n",
       "3      2.021892      0.681276      0.609915     0.779596  \n",
       "4     -0.208873     -0.636845      0.609915    -0.442660  \n",
       "..          ...           ...           ...          ...  \n",
       "173    0.872710      0.681276      0.609915    -0.190332  \n",
       "174   -0.344071      0.681276     -0.532873    -0.194912  \n",
       "175   -0.682066     -0.636845     -0.532873    -0.512497  \n",
       "176    0.940309      0.681276     -0.532873    -0.194912  \n",
       "177   -0.073675      0.681276     -0.532873    -0.194912  \n",
       "\n",
       "[178 rows x 9 columns]"
      ]
     },
     "execution_count": 18,
     "metadata": {},
     "output_type": "execute_result"
    }
   ],
   "source": [
    "scaler = StandardScaler()\n",
    "X_train_enc[noncat_features_scaled] = scaler.fit_transform(X_train[noncat_features].values.reshape(-1,len(noncat_features)) )\n",
    "X_train_enc\n",
    "\n",
    "# для тестового датасета\n",
    "X_test_enc[noncat_features_scaled] = scaler.fit_transform(X_test[noncat_features].values.reshape(-1,len(noncat_features)) )\n",
    "X_test_enc\n"
   ]
  },
  {
   "cell_type": "markdown",
   "id": "b8288981-1223-4783-9025-d88476892675",
   "metadata": {
    "execution": {
     "iopub.execute_input": "2022-12-20T14:09:59.733982Z",
     "iopub.status.busy": "2022-12-20T14:09:59.732986Z",
     "iopub.status.idle": "2022-12-20T14:09:59.762853Z",
     "shell.execute_reply": "2022-12-20T14:09:59.761483Z",
     "shell.execute_reply.started": "2022-12-20T14:09:59.733930Z"
    },
    "jupyter": {
     "outputs_hidden": true
    },
    "tags": []
   },
   "source": [
    "# 5. Обучите модели логистической регрессии и KNN\n",
    ", посчитайте все метрики классификации, которые были упомянуты на занятии, сделайте выводы."
   ]
  },
  {
   "cell_type": "code",
   "execution_count": 19,
   "id": "0471908c-e8c2-4257-90a3-2b6813a425fd",
   "metadata": {
    "execution": {
     "iopub.execute_input": "2022-12-22T16:15:42.039703Z",
     "iopub.status.busy": "2022-12-22T16:15:42.039078Z",
     "iopub.status.idle": "2022-12-22T16:15:42.124370Z",
     "shell.execute_reply": "2022-12-22T16:15:42.122552Z",
     "shell.execute_reply.started": "2022-12-22T16:15:42.039666Z"
    },
    "tags": []
   },
   "outputs": [],
   "source": [
    "Rez = {'Выводы':\"?\"}"
   ]
  },
  {
   "cell_type": "markdown",
   "id": "fcf7bd56-4aff-4660-bc22-6c9121366cf7",
   "metadata": {
    "execution": {
     "iopub.execute_input": "2022-12-22T07:09:43.852290Z",
     "iopub.status.busy": "2022-12-22T07:09:43.850976Z",
     "iopub.status.idle": "2022-12-22T07:09:43.858746Z",
     "shell.execute_reply": "2022-12-22T07:09:43.856805Z",
     "shell.execute_reply.started": "2022-12-22T07:09:43.852229Z"
    }
   },
   "source": [
    "## Логистическая регрессия\n"
   ]
  },
  {
   "cell_type": "code",
   "execution_count": 20,
   "id": "475e344c-bd20-4cba-bcd2-2c5022aba6d2",
   "metadata": {
    "execution": {
     "iopub.execute_input": "2022-12-22T16:15:42.127635Z",
     "iopub.status.busy": "2022-12-22T16:15:42.126560Z",
     "iopub.status.idle": "2022-12-22T16:15:42.264728Z",
     "shell.execute_reply": "2022-12-22T16:15:42.263867Z",
     "shell.execute_reply.started": "2022-12-22T16:15:42.127576Z"
    },
    "tags": []
   },
   "outputs": [
    {
     "data": {
      "text/html": [
       "<style>#sk-container-id-1 {color: black;background-color: white;}#sk-container-id-1 pre{padding: 0;}#sk-container-id-1 div.sk-toggleable {background-color: white;}#sk-container-id-1 label.sk-toggleable__label {cursor: pointer;display: block;width: 100%;margin-bottom: 0;padding: 0.3em;box-sizing: border-box;text-align: center;}#sk-container-id-1 label.sk-toggleable__label-arrow:before {content: \"▸\";float: left;margin-right: 0.25em;color: #696969;}#sk-container-id-1 label.sk-toggleable__label-arrow:hover:before {color: black;}#sk-container-id-1 div.sk-estimator:hover label.sk-toggleable__label-arrow:before {color: black;}#sk-container-id-1 div.sk-toggleable__content {max-height: 0;max-width: 0;overflow: hidden;text-align: left;background-color: #f0f8ff;}#sk-container-id-1 div.sk-toggleable__content pre {margin: 0.2em;color: black;border-radius: 0.25em;background-color: #f0f8ff;}#sk-container-id-1 input.sk-toggleable__control:checked~div.sk-toggleable__content {max-height: 200px;max-width: 100%;overflow: auto;}#sk-container-id-1 input.sk-toggleable__control:checked~label.sk-toggleable__label-arrow:before {content: \"▾\";}#sk-container-id-1 div.sk-estimator input.sk-toggleable__control:checked~label.sk-toggleable__label {background-color: #d4ebff;}#sk-container-id-1 div.sk-label input.sk-toggleable__control:checked~label.sk-toggleable__label {background-color: #d4ebff;}#sk-container-id-1 input.sk-hidden--visually {border: 0;clip: rect(1px 1px 1px 1px);clip: rect(1px, 1px, 1px, 1px);height: 1px;margin: -1px;overflow: hidden;padding: 0;position: absolute;width: 1px;}#sk-container-id-1 div.sk-estimator {font-family: monospace;background-color: #f0f8ff;border: 1px dotted black;border-radius: 0.25em;box-sizing: border-box;margin-bottom: 0.5em;}#sk-container-id-1 div.sk-estimator:hover {background-color: #d4ebff;}#sk-container-id-1 div.sk-parallel-item::after {content: \"\";width: 100%;border-bottom: 1px solid gray;flex-grow: 1;}#sk-container-id-1 div.sk-label:hover label.sk-toggleable__label {background-color: #d4ebff;}#sk-container-id-1 div.sk-serial::before {content: \"\";position: absolute;border-left: 1px solid gray;box-sizing: border-box;top: 0;bottom: 0;left: 50%;z-index: 0;}#sk-container-id-1 div.sk-serial {display: flex;flex-direction: column;align-items: center;background-color: white;padding-right: 0.2em;padding-left: 0.2em;position: relative;}#sk-container-id-1 div.sk-item {position: relative;z-index: 1;}#sk-container-id-1 div.sk-parallel {display: flex;align-items: stretch;justify-content: center;background-color: white;position: relative;}#sk-container-id-1 div.sk-item::before, #sk-container-id-1 div.sk-parallel-item::before {content: \"\";position: absolute;border-left: 1px solid gray;box-sizing: border-box;top: 0;bottom: 0;left: 50%;z-index: -1;}#sk-container-id-1 div.sk-parallel-item {display: flex;flex-direction: column;z-index: 1;position: relative;background-color: white;}#sk-container-id-1 div.sk-parallel-item:first-child::after {align-self: flex-end;width: 50%;}#sk-container-id-1 div.sk-parallel-item:last-child::after {align-self: flex-start;width: 50%;}#sk-container-id-1 div.sk-parallel-item:only-child::after {width: 0;}#sk-container-id-1 div.sk-dashed-wrapped {border: 1px dashed gray;margin: 0 0.4em 0.5em 0.4em;box-sizing: border-box;padding-bottom: 0.4em;background-color: white;}#sk-container-id-1 div.sk-label label {font-family: monospace;font-weight: bold;display: inline-block;line-height: 1.2em;}#sk-container-id-1 div.sk-label-container {text-align: center;}#sk-container-id-1 div.sk-container {/* jupyter's `normalize.less` sets `[hidden] { display: none; }` but bootstrap.min.css set `[hidden] { display: none !important; }` so we also need the `!important` here to be able to override the default hidden behavior on the sphinx rendered scikit-learn.org. See: https://github.com/scikit-learn/scikit-learn/issues/21755 */display: inline-block !important;position: relative;}#sk-container-id-1 div.sk-text-repr-fallback {display: none;}</style><div id=\"sk-container-id-1\" class=\"sk-top-container\"><div class=\"sk-text-repr-fallback\"><pre>LogisticRegression()</pre><b>In a Jupyter environment, please rerun this cell to show the HTML representation or trust the notebook. <br />On GitHub, the HTML representation is unable to render, please try loading this page with nbviewer.org.</b></div><div class=\"sk-container\" hidden><div class=\"sk-item\"><div class=\"sk-estimator sk-toggleable\"><input class=\"sk-toggleable__control sk-hidden--visually\" id=\"sk-estimator-id-1\" type=\"checkbox\" checked><label for=\"sk-estimator-id-1\" class=\"sk-toggleable__label sk-toggleable__label-arrow\">LogisticRegression</label><div class=\"sk-toggleable__content\"><pre>LogisticRegression()</pre></div></div></div></div></div>"
      ],
      "text/plain": [
       "LogisticRegression()"
      ]
     },
     "execution_count": 20,
     "metadata": {},
     "output_type": "execute_result"
    }
   ],
   "source": [
    "log_reg = LogisticRegression()\n",
    "log_reg.fit(X_train_enc, y_train)"
   ]
  },
  {
   "cell_type": "markdown",
   "id": "25f4dfb4-ed7e-4919-8799-df9ca51ac171",
   "metadata": {
    "execution": {
     "iopub.execute_input": "2022-12-22T06:55:47.994581Z",
     "iopub.status.busy": "2022-12-22T06:55:47.993943Z",
     "iopub.status.idle": "2022-12-22T06:55:48.002699Z",
     "shell.execute_reply": "2022-12-22T06:55:48.000844Z",
     "shell.execute_reply.started": "2022-12-22T06:55:47.994525Z"
    }
   },
   "source": [
    "### тренировочный датасет"
   ]
  },
  {
   "cell_type": "code",
   "execution_count": 21,
   "id": "b56d5118-7276-4b46-9a6e-ef6ae43618c5",
   "metadata": {
    "execution": {
     "iopub.execute_input": "2022-12-22T16:15:42.266720Z",
     "iopub.status.busy": "2022-12-22T16:15:42.265885Z",
     "iopub.status.idle": "2022-12-22T16:15:42.274779Z",
     "shell.execute_reply": "2022-12-22T16:15:42.273820Z",
     "shell.execute_reply.started": "2022-12-22T16:15:42.266655Z"
    },
    "tags": []
   },
   "outputs": [],
   "source": [
    "y_pred_lg = log_reg.predict(X_train_enc)"
   ]
  },
  {
   "cell_type": "code",
   "execution_count": 22,
   "id": "86a0bea6-8ebb-48c9-9d7d-8b39555fc8a9",
   "metadata": {
    "execution": {
     "iopub.execute_input": "2022-12-22T16:15:42.276495Z",
     "iopub.status.busy": "2022-12-22T16:15:42.275889Z",
     "iopub.status.idle": "2022-12-22T16:15:42.375467Z",
     "shell.execute_reply": "2022-12-22T16:15:42.373785Z",
     "shell.execute_reply.started": "2022-12-22T16:15:42.276461Z"
    },
    "tags": []
   },
   "outputs": [
    {
     "name": "stdout",
     "output_type": "stream",
     "text": [
      "Тренировочный датасет:\n"
     ]
    },
    {
     "data": {
      "text/plain": [
       "{'Выводы': '?',\n",
       " 'LogisticRegression': {'train': {'confusion_matrix': array([[290,  38],\n",
       "          [ 61, 145]]),\n",
       "   'recall_score': 0.7038834951456311,\n",
       "   'precision_score': 0.7923497267759563,\n",
       "   'accuracy_score': 0.8146067415730337}}}"
      ]
     },
     "execution_count": 22,
     "metadata": {},
     "output_type": "execute_result"
    }
   ],
   "source": [
    "print(\"Тренировочный датасет:\")\n",
    "# print(\"confusion_matrix:\\n\", confusion_matrix(y_train, y_pred_lg) )\n",
    "# print(\"recall_score:\\n\", recall_score(y_train, y_pred_lg) )\n",
    "# print(\"precision_score:\\n\", precision_score(y_train, y_pred_lg))\n",
    "# print(\"accuracy_score:\\n\", accuracy_score(y_train, y_pred_lg) )\n",
    "Rez['LogisticRegression'] = {'train': {'confusion_matrix' : confusion_matrix(y_train, y_pred_lg)\n",
    "                                      , 'recall_score' : recall_score(y_train, y_pred_lg)\n",
    "                                      , 'precision_score': precision_score(y_train, y_pred_lg)\n",
    "                                      , 'accuracy_score' : accuracy_score(y_train, y_pred_lg)\n",
    "                                      }\n",
    "                            }\n",
    "Rez"
   ]
  },
  {
   "cell_type": "code",
   "execution_count": 23,
   "id": "ac86c1f0-1a2f-490b-bd90-3a440ea2d567",
   "metadata": {
    "execution": {
     "iopub.execute_input": "2022-12-22T16:15:42.378289Z",
     "iopub.status.busy": "2022-12-22T16:15:42.377988Z",
     "iopub.status.idle": "2022-12-22T16:15:42.644935Z",
     "shell.execute_reply": "2022-12-22T16:15:42.644122Z",
     "shell.execute_reply.started": "2022-12-22T16:15:42.378266Z"
    }
   },
   "outputs": [
    {
     "data": {
      "text/plain": [
       "<AxesSubplot: >"
      ]
     },
     "execution_count": 23,
     "metadata": {},
     "output_type": "execute_result"
    },
    {
     "data": {
      "image/png": "[encoded data removed]",
      "text/plain": [
       "<Figure size 640x480 with 2 Axes>"
      ]
     },
     "metadata": {},
     "output_type": "display_data"
    }
   ],
   "source": [
    "# интересные визуальные выводы, подсмотренные у коллег по цеху\n",
    "\n",
    "sns.heatmap(Rez['LogisticRegression']['train']['confusion_matrix'], annot=True, cmap='Oranges', fmt='g')"
   ]
  },
  {
   "cell_type": "markdown",
   "id": "f50d9b16-4ca3-47b5-aa6e-f312571f5a0e",
   "metadata": {
    "execution": {
     "iopub.execute_input": "2022-12-22T06:56:08.864707Z",
     "iopub.status.busy": "2022-12-22T06:56:08.864073Z",
     "iopub.status.idle": "2022-12-22T06:56:08.873373Z",
     "shell.execute_reply": "2022-12-22T06:56:08.871155Z",
     "shell.execute_reply.started": "2022-12-22T06:56:08.864652Z"
    }
   },
   "source": [
    "### Тестовый датасет"
   ]
  },
  {
   "cell_type": "code",
   "execution_count": 24,
   "id": "a455f18c-509f-4187-8448-d0ad0a916aa0",
   "metadata": {
    "execution": {
     "iopub.execute_input": "2022-12-22T16:15:42.646223Z",
     "iopub.status.busy": "2022-12-22T16:15:42.645984Z",
     "iopub.status.idle": "2022-12-22T16:15:42.652227Z",
     "shell.execute_reply": "2022-12-22T16:15:42.651352Z",
     "shell.execute_reply.started": "2022-12-22T16:15:42.646192Z"
    },
    "tags": []
   },
   "outputs": [],
   "source": [
    "y_pred_lg_t = log_reg.predict(X_test_enc)"
   ]
  },
  {
   "cell_type": "code",
   "execution_count": 25,
   "id": "9ab360cc-bf5c-44ca-9b08-f0b70181f5db",
   "metadata": {
    "execution": {
     "iopub.execute_input": "2022-12-22T16:15:42.653773Z",
     "iopub.status.busy": "2022-12-22T16:15:42.653480Z",
     "iopub.status.idle": "2022-12-22T16:15:42.668698Z",
     "shell.execute_reply": "2022-12-22T16:15:42.667766Z",
     "shell.execute_reply.started": "2022-12-22T16:15:42.653751Z"
    },
    "tags": []
   },
   "outputs": [
    {
     "name": "stdout",
     "output_type": "stream",
     "text": [
      "Тестовый датасет:\n"
     ]
    },
    {
     "data": {
      "text/plain": [
       "{'Выводы': '?',\n",
       " 'LogisticRegression': {'train': {'confusion_matrix': array([[290,  38],\n",
       "          [ 61, 145]]),\n",
       "   'recall_score': 0.7038834951456311,\n",
       "   'precision_score': 0.7923497267759563,\n",
       "   'accuracy_score': 0.8146067415730337},\n",
       "  'test': {'confusion_matrix': array([[82, 14],\n",
       "          [24, 58]]),\n",
       "   'recall_score': 0.7073170731707317,\n",
       "   'precision_score': 0.8055555555555556,\n",
       "   'accuracy_score': 0.7865168539325843}}}"
      ]
     },
     "execution_count": 25,
     "metadata": {},
     "output_type": "execute_result"
    }
   ],
   "source": [
    "print(\"Тестовый датасет:\")\n",
    "# print(\"confusion_matrix:\\n\", confusion_matrix(y_test, y_pred_lg_t) )\n",
    "# print(\"recall_score:\\n\", recall_score(y_test, y_pred_lg_t) )\n",
    "# print(\"precision_score:\\n\", precision_score(y_test, y_pred_lg_t))\n",
    "# print(\"accuracy_score:\\n\", accuracy_score(y_test, y_pred_lg_t) )\n",
    "Rez['LogisticRegression']['test'] =  {'confusion_matrix' : confusion_matrix(y_test, y_pred_lg_t)\n",
    "                                      , 'recall_score' : recall_score(y_test, y_pred_lg_t)\n",
    "                                      , 'precision_score': precision_score(y_test, y_pred_lg_t)\n",
    "                                      , 'accuracy_score' : accuracy_score(y_test, y_pred_lg_t) \n",
    "                                    }\n",
    "                            \n",
    "Rez"
   ]
  },
  {
   "cell_type": "markdown",
   "id": "f2fc81fd-bdb5-408e-934f-7386b80c7d43",
   "metadata": {
    "execution": {
     "iopub.execute_input": "2022-12-22T07:09:43.852290Z",
     "iopub.status.busy": "2022-12-22T07:09:43.850976Z",
     "iopub.status.idle": "2022-12-22T07:09:43.858746Z",
     "shell.execute_reply": "2022-12-22T07:09:43.856805Z",
     "shell.execute_reply.started": "2022-12-22T07:09:43.852229Z"
    }
   },
   "source": [
    "## KNN"
   ]
  },
  {
   "cell_type": "code",
   "execution_count": 26,
   "id": "40d8dea5-f2cb-4c86-b067-6a8bbb2b4ac9",
   "metadata": {
    "execution": {
     "iopub.execute_input": "2022-12-22T16:15:42.670618Z",
     "iopub.status.busy": "2022-12-22T16:15:42.669798Z",
     "iopub.status.idle": "2022-12-22T16:15:42.741717Z",
     "shell.execute_reply": "2022-12-22T16:15:42.740810Z",
     "shell.execute_reply.started": "2022-12-22T16:15:42.670584Z"
    },
    "tags": []
   },
   "outputs": [
    {
     "data": {
      "text/html": [
       "<style>#sk-container-id-2 {color: black;background-color: white;}#sk-container-id-2 pre{padding: 0;}#sk-container-id-2 div.sk-toggleable {background-color: white;}#sk-container-id-2 label.sk-toggleable__label {cursor: pointer;display: block;width: 100%;margin-bottom: 0;padding: 0.3em;box-sizing: border-box;text-align: center;}#sk-container-id-2 label.sk-toggleable__label-arrow:before {content: \"▸\";float: left;margin-right: 0.25em;color: #696969;}#sk-container-id-2 label.sk-toggleable__label-arrow:hover:before {color: black;}#sk-container-id-2 div.sk-estimator:hover label.sk-toggleable__label-arrow:before {color: black;}#sk-container-id-2 div.sk-toggleable__content {max-height: 0;max-width: 0;overflow: hidden;text-align: left;background-color: #f0f8ff;}#sk-container-id-2 div.sk-toggleable__content pre {margin: 0.2em;color: black;border-radius: 0.25em;background-color: #f0f8ff;}#sk-container-id-2 input.sk-toggleable__control:checked~div.sk-toggleable__content {max-height: 200px;max-width: 100%;overflow: auto;}#sk-container-id-2 input.sk-toggleable__control:checked~label.sk-toggleable__label-arrow:before {content: \"▾\";}#sk-container-id-2 div.sk-estimator input.sk-toggleable__control:checked~label.sk-toggleable__label {background-color: #d4ebff;}#sk-container-id-2 div.sk-label input.sk-toggleable__control:checked~label.sk-toggleable__label {background-color: #d4ebff;}#sk-container-id-2 input.sk-hidden--visually {border: 0;clip: rect(1px 1px 1px 1px);clip: rect(1px, 1px, 1px, 1px);height: 1px;margin: -1px;overflow: hidden;padding: 0;position: absolute;width: 1px;}#sk-container-id-2 div.sk-estimator {font-family: monospace;background-color: #f0f8ff;border: 1px dotted black;border-radius: 0.25em;box-sizing: border-box;margin-bottom: 0.5em;}#sk-container-id-2 div.sk-estimator:hover {background-color: #d4ebff;}#sk-container-id-2 div.sk-parallel-item::after {content: \"\";width: 100%;border-bottom: 1px solid gray;flex-grow: 1;}#sk-container-id-2 div.sk-label:hover label.sk-toggleable__label {background-color: #d4ebff;}#sk-container-id-2 div.sk-serial::before {content: \"\";position: absolute;border-left: 1px solid gray;box-sizing: border-box;top: 0;bottom: 0;left: 50%;z-index: 0;}#sk-container-id-2 div.sk-serial {display: flex;flex-direction: column;align-items: center;background-color: white;padding-right: 0.2em;padding-left: 0.2em;position: relative;}#sk-container-id-2 div.sk-item {position: relative;z-index: 1;}#sk-container-id-2 div.sk-parallel {display: flex;align-items: stretch;justify-content: center;background-color: white;position: relative;}#sk-container-id-2 div.sk-item::before, #sk-container-id-2 div.sk-parallel-item::before {content: \"\";position: absolute;border-left: 1px solid gray;box-sizing: border-box;top: 0;bottom: 0;left: 50%;z-index: -1;}#sk-container-id-2 div.sk-parallel-item {display: flex;flex-direction: column;z-index: 1;position: relative;background-color: white;}#sk-container-id-2 div.sk-parallel-item:first-child::after {align-self: flex-end;width: 50%;}#sk-container-id-2 div.sk-parallel-item:last-child::after {align-self: flex-start;width: 50%;}#sk-container-id-2 div.sk-parallel-item:only-child::after {width: 0;}#sk-container-id-2 div.sk-dashed-wrapped {border: 1px dashed gray;margin: 0 0.4em 0.5em 0.4em;box-sizing: border-box;padding-bottom: 0.4em;background-color: white;}#sk-container-id-2 div.sk-label label {font-family: monospace;font-weight: bold;display: inline-block;line-height: 1.2em;}#sk-container-id-2 div.sk-label-container {text-align: center;}#sk-container-id-2 div.sk-container {/* jupyter's `normalize.less` sets `[hidden] { display: none; }` but bootstrap.min.css set `[hidden] { display: none !important; }` so we also need the `!important` here to be able to override the default hidden behavior on the sphinx rendered scikit-learn.org. See: https://github.com/scikit-learn/scikit-learn/issues/21755 */display: inline-block !important;position: relative;}#sk-container-id-2 div.sk-text-repr-fallback {display: none;}</style><div id=\"sk-container-id-2\" class=\"sk-top-container\"><div class=\"sk-text-repr-fallback\"><pre>KNeighborsClassifier()</pre><b>In a Jupyter environment, please rerun this cell to show the HTML representation or trust the notebook. <br />On GitHub, the HTML representation is unable to render, please try loading this page with nbviewer.org.</b></div><div class=\"sk-container\" hidden><div class=\"sk-item\"><div class=\"sk-estimator sk-toggleable\"><input class=\"sk-toggleable__control sk-hidden--visually\" id=\"sk-estimator-id-2\" type=\"checkbox\" checked><label for=\"sk-estimator-id-2\" class=\"sk-toggleable__label sk-toggleable__label-arrow\">KNeighborsClassifier</label><div class=\"sk-toggleable__content\"><pre>KNeighborsClassifier()</pre></div></div></div></div></div>"
      ],
      "text/plain": [
       "KNeighborsClassifier()"
      ]
     },
     "execution_count": 26,
     "metadata": {},
     "output_type": "execute_result"
    }
   ],
   "source": [
    "knn = KNeighborsClassifier()\n",
    "knn.fit(X_train_enc, y_train)"
   ]
  },
  {
   "cell_type": "markdown",
   "id": "11cdef76-277b-41cb-b492-de333302c9a9",
   "metadata": {
    "execution": {
     "iopub.execute_input": "2022-12-22T06:55:47.994581Z",
     "iopub.status.busy": "2022-12-22T06:55:47.993943Z",
     "iopub.status.idle": "2022-12-22T06:55:48.002699Z",
     "shell.execute_reply": "2022-12-22T06:55:48.000844Z",
     "shell.execute_reply.started": "2022-12-22T06:55:47.994525Z"
    }
   },
   "source": [
    "### тренировочный датасет"
   ]
  },
  {
   "cell_type": "code",
   "execution_count": 27,
   "id": "3e105452-9ea9-4190-88af-bcde428c1563",
   "metadata": {
    "execution": {
     "iopub.execute_input": "2022-12-22T16:15:42.742931Z",
     "iopub.status.busy": "2022-12-22T16:15:42.742681Z",
     "iopub.status.idle": "2022-12-22T16:15:42.908202Z",
     "shell.execute_reply": "2022-12-22T16:15:42.907337Z",
     "shell.execute_reply.started": "2022-12-22T16:15:42.742911Z"
    },
    "tags": []
   },
   "outputs": [],
   "source": [
    "y_pred = knn.predict(X_train_enc)"
   ]
  },
  {
   "cell_type": "code",
   "execution_count": 28,
   "id": "062eb5c1-4a8c-47e9-bce4-6b9089bd7849",
   "metadata": {
    "execution": {
     "iopub.execute_input": "2022-12-22T16:15:42.912933Z",
     "iopub.status.busy": "2022-12-22T16:15:42.912662Z",
     "iopub.status.idle": "2022-12-22T16:15:42.993999Z",
     "shell.execute_reply": "2022-12-22T16:15:42.992323Z",
     "shell.execute_reply.started": "2022-12-22T16:15:42.912910Z"
    },
    "tags": []
   },
   "outputs": [
    {
     "name": "stdout",
     "output_type": "stream",
     "text": [
      "Тренировочный датасет:\n"
     ]
    },
    {
     "data": {
      "text/plain": [
       "{'Выводы': '?',\n",
       " 'LogisticRegression': {'train': {'confusion_matrix': array([[290,  38],\n",
       "          [ 61, 145]]),\n",
       "   'recall_score': 0.7038834951456311,\n",
       "   'precision_score': 0.7923497267759563,\n",
       "   'accuracy_score': 0.8146067415730337},\n",
       "  'test': {'confusion_matrix': array([[82, 14],\n",
       "          [24, 58]]),\n",
       "   'recall_score': 0.7073170731707317,\n",
       "   'precision_score': 0.8055555555555556,\n",
       "   'accuracy_score': 0.7865168539325843}},\n",
       " 'KNeighborsClassifier': {'train': {'confusion_matrix': array([[295,  33],\n",
       "          [ 51, 155]]),\n",
       "   'recall_score': 0.7524271844660194,\n",
       "   'precision_score': 0.824468085106383,\n",
       "   'accuracy_score': 0.8426966292134831}}}"
      ]
     },
     "execution_count": 28,
     "metadata": {},
     "output_type": "execute_result"
    }
   ],
   "source": [
    "print(\"Тренировочный датасет:\")\n",
    "# print(\"confusion_matrix:\\n\", confusion_matrix(y_train, y_pred) )\n",
    "# print(\"recall_score:\\n\", recall_score(y_train, y_pred) )\n",
    "# print(\"precision_score:\\n\", precision_score(y_train, y_pred))\n",
    "# print(\"accuracy_score:\\n\", accuracy_score(y_train, y_pred) )\n",
    "Rez['KNeighborsClassifier'] = {'train':  \n",
    "                                           {'confusion_matrix' : confusion_matrix(y_train, y_pred)\n",
    "                                          , 'recall_score' : recall_score(y_train, y_pred)\n",
    "                                          , 'precision_score': precision_score(y_train, y_pred)\n",
    "                                          , 'accuracy_score' : accuracy_score(y_train, y_pred) \n",
    "                                           }\n",
    "                                      }\n",
    "                            \n",
    "Rez"
   ]
  },
  {
   "cell_type": "markdown",
   "id": "2a6c9f78-af36-4630-89aa-2ba64df09e7f",
   "metadata": {
    "execution": {
     "iopub.execute_input": "2022-12-22T06:56:08.864707Z",
     "iopub.status.busy": "2022-12-22T06:56:08.864073Z",
     "iopub.status.idle": "2022-12-22T06:56:08.873373Z",
     "shell.execute_reply": "2022-12-22T06:56:08.871155Z",
     "shell.execute_reply.started": "2022-12-22T06:56:08.864652Z"
    }
   },
   "source": [
    "### Тестовый датасет"
   ]
  },
  {
   "cell_type": "code",
   "execution_count": 29,
   "id": "ca34c859-a854-4166-ac00-b889035e31ea",
   "metadata": {
    "execution": {
     "iopub.execute_input": "2022-12-22T16:15:42.996022Z",
     "iopub.status.busy": "2022-12-22T16:15:42.995683Z",
     "iopub.status.idle": "2022-12-22T16:15:43.178798Z",
     "shell.execute_reply": "2022-12-22T16:15:43.177989Z",
     "shell.execute_reply.started": "2022-12-22T16:15:42.995991Z"
    }
   },
   "outputs": [],
   "source": [
    "y_pred_t = knn.predict(X_test_enc)"
   ]
  },
  {
   "cell_type": "code",
   "execution_count": 30,
   "id": "073494c9-50df-492e-8ffb-71f7154d6951",
   "metadata": {
    "execution": {
     "iopub.execute_input": "2022-12-22T16:15:43.180633Z",
     "iopub.status.busy": "2022-12-22T16:15:43.179940Z",
     "iopub.status.idle": "2022-12-22T16:15:43.238679Z",
     "shell.execute_reply": "2022-12-22T16:15:43.237651Z",
     "shell.execute_reply.started": "2022-12-22T16:15:43.180588Z"
    },
    "tags": []
   },
   "outputs": [
    {
     "name": "stdout",
     "output_type": "stream",
     "text": [
      "Тестовый датасет:\n"
     ]
    },
    {
     "data": {
      "text/plain": [
       "{'Выводы': '?',\n",
       " 'LogisticRegression': {'train': {'confusion_matrix': array([[290,  38],\n",
       "          [ 61, 145]]),\n",
       "   'recall_score': 0.7038834951456311,\n",
       "   'precision_score': 0.7923497267759563,\n",
       "   'accuracy_score': 0.8146067415730337},\n",
       "  'test': {'confusion_matrix': array([[82, 14],\n",
       "          [24, 58]]),\n",
       "   'recall_score': 0.7073170731707317,\n",
       "   'precision_score': 0.8055555555555556,\n",
       "   'accuracy_score': 0.7865168539325843}},\n",
       " 'KNeighborsClassifier': {'train': {'confusion_matrix': array([[295,  33],\n",
       "          [ 51, 155]]),\n",
       "   'recall_score': 0.7524271844660194,\n",
       "   'precision_score': 0.824468085106383,\n",
       "   'accuracy_score': 0.8426966292134831},\n",
       "  'test': {'confusion_matrix': array([[85, 11],\n",
       "          [23, 59]]),\n",
       "   'recall_score': 0.7195121951219512,\n",
       "   'precision_score': 0.8428571428571429,\n",
       "   'accuracy_score': 0.8089887640449438}}}"
      ]
     },
     "execution_count": 30,
     "metadata": {},
     "output_type": "execute_result"
    }
   ],
   "source": [
    "print(\"Тестовый датасет:\")\n",
    "# print(\"confusion_matrix:\\n\", confusion_matrix(y_test, y_pred_t) )\n",
    "# print(\"recall_score:\\n\", recall_score(y_test, y_pred_t) )\n",
    "# print(\"precision_score:\\n\", precision_score(y_test, y_pred_t))\n",
    "# print(\"accuracy_score:\\n\", accuracy_score(y_test, y_pred_t) )\n",
    "Rez['KNeighborsClassifier']['test'] =  {'confusion_matrix' : confusion_matrix(y_test, y_pred_t)\n",
    "                                          , 'recall_score' : recall_score(y_test, y_pred_t)\n",
    "                                          , 'precision_score': precision_score(y_test, y_pred_t)\n",
    "                                          , 'accuracy_score' : accuracy_score(y_test, y_pred_t) \n",
    "                                           }\n",
    "Rez"
   ]
  },
  {
   "cell_type": "markdown",
   "id": "e821d7cd-76b4-43de-97b2-a1398ca985c0",
   "metadata": {
    "execution": {
     "iopub.execute_input": "2022-12-22T11:25:26.388023Z",
     "iopub.status.busy": "2022-12-22T11:25:26.386855Z",
     "iopub.status.idle": "2022-12-22T11:25:26.395054Z",
     "shell.execute_reply": "2022-12-22T11:25:26.392877Z",
     "shell.execute_reply.started": "2022-12-22T11:25:26.387969Z"
    }
   },
   "source": [
    "# Расчет метрик - Более компактный формат "
   ]
  },
  {
   "cell_type": "code",
   "execution_count": 31,
   "id": "9e528ccb-4ca6-4cb1-a98d-e418aa35e8f0",
   "metadata": {
    "execution": {
     "iopub.execute_input": "2022-12-22T16:15:43.240274Z",
     "iopub.status.busy": "2022-12-22T16:15:43.239863Z",
     "iopub.status.idle": "2022-12-22T16:15:43.434088Z",
     "shell.execute_reply": "2022-12-22T16:15:43.433017Z",
     "shell.execute_reply.started": "2022-12-22T16:15:43.240239Z"
    },
    "tags": []
   },
   "outputs": [
    {
     "data": {
      "text/plain": [
       "{'LogisticRegression': {'train': {'confusion_matrix': array([[290,  38],\n",
       "          [ 61, 145]]),\n",
       "   'recall_score': 0.7038834951456311,\n",
       "   'precision_score': 0.7923497267759563,\n",
       "   'accuracy_score': 0.8146067415730337,\n",
       "   'f1_score': 0.7455012853470437,\n",
       "   'roc_auc_score': 0.7940149183045229},\n",
       "  'test': {'confusion_matrix': array([[82, 14],\n",
       "          [24, 58]]),\n",
       "   'recall_score': 0.7073170731707317,\n",
       "   'precision_score': 0.8055555555555556,\n",
       "   'accuracy_score': 0.7865168539325843,\n",
       "   'f1_score': 0.7532467532467532,\n",
       "   'roc_auc_score': 0.7807418699186992}},\n",
       " 'KNeighborsClassifier': {'train': {'confusion_matrix': array([[295,  33],\n",
       "          [ 51, 155]]),\n",
       "   'recall_score': 0.7524271844660194,\n",
       "   'precision_score': 0.824468085106383,\n",
       "   'accuracy_score': 0.8426966292134831,\n",
       "   'f1_score': 0.7868020304568528,\n",
       "   'roc_auc_score': 0.8259087141842292},\n",
       "  'test': {'confusion_matrix': array([[85, 11],\n",
       "          [23, 59]]),\n",
       "   'recall_score': 0.7195121951219512,\n",
       "   'precision_score': 0.8428571428571429,\n",
       "   'accuracy_score': 0.8089887640449438,\n",
       "   'f1_score': 0.7763157894736842,\n",
       "   'roc_auc_score': 0.802464430894309}}}"
      ]
     },
     "execution_count": 31,
     "metadata": {},
     "output_type": "execute_result"
    }
   ],
   "source": [
    "# логистическая регрессия\n",
    "log_reg = LogisticRegression()\n",
    "log_reg.fit(X_train_enc, y_train)\n",
    "# КНН\n",
    "knn = KNeighborsClassifier()\n",
    "knn.fit(X_train_enc, y_train)\n",
    "\n",
    "Rez = {'LogisticRegression':dict(), 'KNeighborsClassifier':dict()}\n",
    "\n",
    "for classifier in [log_reg, knn]:\n",
    "    # название метода \n",
    "    cls_name = str(type(classifier)).replace(\"'>\",\"\").split(\".\")[-1]\n",
    "    \n",
    "    # цикл по тренировочным и теостовым данным\n",
    "    for X,y,label in zip([X_train_enc, X_test_enc], [y_train, y_test], ['train', 'test']):\n",
    "        # предсказания модели\n",
    "        y_pred = classifier.predict(X)\n",
    "    \n",
    "        Rez[cls_name][label] = {'confusion_matrix' : confusion_matrix(y, y_pred)\n",
    "                              , 'recall_score' : recall_score(y, y_pred)\n",
    "                              , 'precision_score': precision_score(y, y_pred)\n",
    "                              , 'accuracy_score' : accuracy_score(y, y_pred)\n",
    "                              , 'f1_score' : f1_score(y, y_pred)\n",
    "                              , 'roc_auc_score' : roc_auc_score(y, y_pred)\n",
    "                              }\n",
    "    \n",
    "Rez\n",
    "    "
   ]
  },
  {
   "cell_type": "markdown",
   "id": "d1d858dd-2e15-432c-ba04-a30e857a0f00",
   "metadata": {},
   "source": [
    "# Выводы"
   ]
  },
  {
   "cell_type": "code",
   "execution_count": 32,
   "id": "7e56f825-5f27-46d1-acc8-9be6a28d34ec",
   "metadata": {
    "execution": {
     "iopub.execute_input": "2022-12-22T16:15:43.435892Z",
     "iopub.status.busy": "2022-12-22T16:15:43.435390Z",
     "iopub.status.idle": "2022-12-22T16:15:43.455520Z",
     "shell.execute_reply": "2022-12-22T16:15:43.454086Z",
     "shell.execute_reply.started": "2022-12-22T16:15:43.435858Z"
    },
    "tags": []
   },
   "outputs": [
    {
     "data": {
      "text/html": [
       "<div>\n",
       "<style scoped>\n",
       "    .dataframe tbody tr th:only-of-type {\n",
       "        vertical-align: middle;\n",
       "    }\n",
       "\n",
       "    .dataframe tbody tr th {\n",
       "        vertical-align: top;\n",
       "    }\n",
       "\n",
       "    .dataframe thead th {\n",
       "        text-align: right;\n",
       "    }\n",
       "</style>\n",
       "<table border=\"1\" class=\"dataframe\">\n",
       "  <thead>\n",
       "    <tr style=\"text-align: right;\">\n",
       "      <th></th>\n",
       "      <th>log.train</th>\n",
       "      <th>knn.train</th>\n",
       "      <th>log.test</th>\n",
       "      <th>knn.test</th>\n",
       "    </tr>\n",
       "  </thead>\n",
       "  <tbody>\n",
       "    <tr>\n",
       "      <th>confusion_matrix</th>\n",
       "      <td>[[290, 38], [61, 145]]</td>\n",
       "      <td>[[295, 33], [51, 155]]</td>\n",
       "      <td>[[82, 14], [24, 58]]</td>\n",
       "      <td>[[85, 11], [23, 59]]</td>\n",
       "    </tr>\n",
       "    <tr>\n",
       "      <th>recall_score</th>\n",
       "      <td>0.703883</td>\n",
       "      <td>0.752427</td>\n",
       "      <td>0.707317</td>\n",
       "      <td>0.719512</td>\n",
       "    </tr>\n",
       "    <tr>\n",
       "      <th>precision_score</th>\n",
       "      <td>0.79235</td>\n",
       "      <td>0.824468</td>\n",
       "      <td>0.805556</td>\n",
       "      <td>0.842857</td>\n",
       "    </tr>\n",
       "    <tr>\n",
       "      <th>accuracy_score</th>\n",
       "      <td>0.814607</td>\n",
       "      <td>0.842697</td>\n",
       "      <td>0.786517</td>\n",
       "      <td>0.808989</td>\n",
       "    </tr>\n",
       "    <tr>\n",
       "      <th>f1_score</th>\n",
       "      <td>0.745501</td>\n",
       "      <td>0.786802</td>\n",
       "      <td>0.753247</td>\n",
       "      <td>0.776316</td>\n",
       "    </tr>\n",
       "    <tr>\n",
       "      <th>roc_auc_score</th>\n",
       "      <td>0.794015</td>\n",
       "      <td>0.825909</td>\n",
       "      <td>0.780742</td>\n",
       "      <td>0.802464</td>\n",
       "    </tr>\n",
       "  </tbody>\n",
       "</table>\n",
       "</div>"
      ],
      "text/plain": [
       "                               log.train               knn.train  \\\n",
       "confusion_matrix  [[290, 38], [61, 145]]  [[295, 33], [51, 155]]   \n",
       "recall_score                    0.703883                0.752427   \n",
       "precision_score                  0.79235                0.824468   \n",
       "accuracy_score                  0.814607                0.842697   \n",
       "f1_score                        0.745501                0.786802   \n",
       "roc_auc_score                   0.794015                0.825909   \n",
       "\n",
       "                              log.test              knn.test  \n",
       "confusion_matrix  [[82, 14], [24, 58]]  [[85, 11], [23, 59]]  \n",
       "recall_score                  0.707317              0.719512  \n",
       "precision_score               0.805556              0.842857  \n",
       "accuracy_score                0.786517              0.808989  \n",
       "f1_score                      0.753247              0.776316  \n",
       "roc_auc_score                 0.780742              0.802464  "
      ]
     },
     "execution_count": 32,
     "metadata": {},
     "output_type": "execute_result"
    }
   ],
   "source": [
    "# df_Rez = pd.json_normalize(Rez['LogisticRegression'] )\n",
    "# df_Rez = pd.json_normalize(Rez )\n",
    "df_Rez_log = pd.DataFrame(Rez['LogisticRegression'])\n",
    "df_Rez_Knn = pd.DataFrame(Rez['KNeighborsClassifier'])\n",
    "# разница между лог и knn\n",
    "df_ = df_Rez_log - df_Rez_Knn\n",
    "df_Rez_log.rename(columns={'test':'log.test', 'train':'log.train'}, inplace=True)\n",
    "df_Rez_Knn.rename(columns={'test':'knn.test', 'train':'knn.train'}, inplace=True)\n",
    "df_Rez = pd.concat([df_Rez_log, df_Rez_Knn], axis=1 )\n",
    "df_Rez[['log.train', 'knn.train', 'log.test', 'knn.test']]\n"
   ]
  },
  {
   "cell_type": "code",
   "execution_count": 33,
   "id": "ee7364b8-d6c0-46e1-93a3-b27a87929c51",
   "metadata": {
    "execution": {
     "iopub.execute_input": "2022-12-22T16:15:43.457372Z",
     "iopub.status.busy": "2022-12-22T16:15:43.456647Z",
     "iopub.status.idle": "2022-12-22T16:15:43.467094Z",
     "shell.execute_reply": "2022-12-22T16:15:43.466294Z",
     "shell.execute_reply.started": "2022-12-22T16:15:43.457347Z"
    },
    "tags": []
   },
   "outputs": [
    {
     "name": "stdout",
     "output_type": "stream",
     "text": [
      "Разность метрик Log и KNN: лучшие результаты по всем пунктам показывает KNN\n"
     ]
    },
    {
     "data": {
      "text/html": [
       "<div>\n",
       "<style scoped>\n",
       "    .dataframe tbody tr th:only-of-type {\n",
       "        vertical-align: middle;\n",
       "    }\n",
       "\n",
       "    .dataframe tbody tr th {\n",
       "        vertical-align: top;\n",
       "    }\n",
       "\n",
       "    .dataframe thead th {\n",
       "        text-align: right;\n",
       "    }\n",
       "</style>\n",
       "<table border=\"1\" class=\"dataframe\">\n",
       "  <thead>\n",
       "    <tr style=\"text-align: right;\">\n",
       "      <th></th>\n",
       "      <th>train</th>\n",
       "      <th>test</th>\n",
       "    </tr>\n",
       "    <tr>\n",
       "      <th>Дельта Log и KNN</th>\n",
       "      <th></th>\n",
       "      <th></th>\n",
       "    </tr>\n",
       "  </thead>\n",
       "  <tbody>\n",
       "    <tr>\n",
       "      <th>confusion_matrix</th>\n",
       "      <td>[[-5, 5], [10, -10]]</td>\n",
       "      <td>[[-3, 3], [1, -1]]</td>\n",
       "    </tr>\n",
       "    <tr>\n",
       "      <th>recall_score</th>\n",
       "      <td>-0.048544</td>\n",
       "      <td>-0.012195</td>\n",
       "    </tr>\n",
       "    <tr>\n",
       "      <th>precision_score</th>\n",
       "      <td>-0.032118</td>\n",
       "      <td>-0.037302</td>\n",
       "    </tr>\n",
       "    <tr>\n",
       "      <th>accuracy_score</th>\n",
       "      <td>-0.02809</td>\n",
       "      <td>-0.022472</td>\n",
       "    </tr>\n",
       "    <tr>\n",
       "      <th>f1_score</th>\n",
       "      <td>-0.041301</td>\n",
       "      <td>-0.023069</td>\n",
       "    </tr>\n",
       "    <tr>\n",
       "      <th>roc_auc_score</th>\n",
       "      <td>-0.031894</td>\n",
       "      <td>-0.021723</td>\n",
       "    </tr>\n",
       "  </tbody>\n",
       "</table>\n",
       "</div>"
      ],
      "text/plain": [
       "                                 train                test\n",
       "Дельта Log и KNN                                          \n",
       "confusion_matrix  [[-5, 5], [10, -10]]  [[-3, 3], [1, -1]]\n",
       "recall_score                 -0.048544           -0.012195\n",
       "precision_score              -0.032118           -0.037302\n",
       "accuracy_score                -0.02809           -0.022472\n",
       "f1_score                     -0.041301           -0.023069\n",
       "roc_auc_score                -0.031894           -0.021723"
      ]
     },
     "execution_count": 33,
     "metadata": {},
     "output_type": "execute_result"
    }
   ],
   "source": [
    "print(\"Разность метрик Log и KNN: лучшие результаты по всем пунктам показывает KNN\")\n",
    "df_.rename_axis(\"Дельта Log и KNN\")"
   ]
  },
  {
   "cell_type": "code",
   "execution_count": 34,
   "id": "8f75dafc-cea7-4cc4-ae4c-df3c049a780d",
   "metadata": {
    "execution": {
     "iopub.execute_input": "2022-12-22T16:15:43.468216Z",
     "iopub.status.busy": "2022-12-22T16:15:43.468000Z",
     "iopub.status.idle": "2022-12-22T16:15:43.552949Z",
     "shell.execute_reply": "2022-12-22T16:15:43.551740Z",
     "shell.execute_reply.started": "2022-12-22T16:15:43.468197Z"
    },
    "tags": []
   },
   "outputs": [
    {
     "name": "stdout",
     "output_type": "stream",
     "text": [
      "Разность метрик метрик KNN для наборов train и test: \n",
      "        в целом конечно же лучше результаты на test, т.к. на этих данных проходило обучение.\n",
      "        Но вот precision лучше на выборке test.\n",
      "      \n"
     ]
    },
    {
     "data": {
      "text/html": [
       "<div>\n",
       "<style scoped>\n",
       "    .dataframe tbody tr th:only-of-type {\n",
       "        vertical-align: middle;\n",
       "    }\n",
       "\n",
       "    .dataframe tbody tr th {\n",
       "        vertical-align: top;\n",
       "    }\n",
       "\n",
       "    .dataframe thead th {\n",
       "        text-align: right;\n",
       "    }\n",
       "</style>\n",
       "<table border=\"1\" class=\"dataframe\">\n",
       "  <thead>\n",
       "    <tr style=\"text-align: right;\">\n",
       "      <th></th>\n",
       "      <th>knn</th>\n",
       "    </tr>\n",
       "    <tr>\n",
       "      <th>дельта Train и Test</th>\n",
       "      <th></th>\n",
       "    </tr>\n",
       "  </thead>\n",
       "  <tbody>\n",
       "    <tr>\n",
       "      <th>confusion_matrix</th>\n",
       "      <td>[[210, 22], [28, 96]]</td>\n",
       "    </tr>\n",
       "    <tr>\n",
       "      <th>recall_score</th>\n",
       "      <td>0.032915</td>\n",
       "    </tr>\n",
       "    <tr>\n",
       "      <th>precision_score</th>\n",
       "      <td>-0.018389</td>\n",
       "    </tr>\n",
       "    <tr>\n",
       "      <th>accuracy_score</th>\n",
       "      <td>0.033708</td>\n",
       "    </tr>\n",
       "    <tr>\n",
       "      <th>f1_score</th>\n",
       "      <td>0.010486</td>\n",
       "    </tr>\n",
       "    <tr>\n",
       "      <th>roc_auc_score</th>\n",
       "      <td>0.023444</td>\n",
       "    </tr>\n",
       "  </tbody>\n",
       "</table>\n",
       "</div>"
      ],
      "text/plain": [
       "                                       knn\n",
       "дельта Train и Test                       \n",
       "confusion_matrix     [[210, 22], [28, 96]]\n",
       "recall_score                      0.032915\n",
       "precision_score                  -0.018389\n",
       "accuracy_score                    0.033708\n",
       "f1_score                          0.010486\n",
       "roc_auc_score                     0.023444"
      ]
     },
     "execution_count": 34,
     "metadata": {},
     "output_type": "execute_result"
    }
   ],
   "source": [
    "print(\"\"\"Разность метрик метрик KNN для наборов train и test: \n",
    "        в целом конечно же лучше результаты на test, т.к. на этих данных проходило обучение.\n",
    "        Но вот precision лучше на выборке test.\n",
    "      \"\"\")\n",
    "(\n",
    "    df_Rez[['knn.train']].rename(columns={\"knn.train\":\"knn\"}) - df_Rez[['knn.test']].rename(columns={\"knn.test\":\"knn\"})\n",
    ").rename_axis(\"дельта Train и Test\")"
   ]
  },
  {
   "cell_type": "markdown",
   "id": "8fef83a4-a7e0-4d3d-8b0d-36e44c67d456",
   "metadata": {},
   "source": [
    "*=======================================================================*\n",
    "\n",
    "Выводы:\n",
    "1. По всем метрикам алгоритм KNN продемонстировал лучшие показатели.\n",
    "\n",
    "2. В целом метрики на тестовых данных являются удовлетворительными, т.к. вероятность правильных прогнозов колеблется в районе 80%\n",
    "\n",
    "3. Метрики для тренировочных данных немного лучше, чем метрики для тестовой выборки.\n",
    "\n",
    "\n",
    "\n"
   ]
  },
  {
   "cell_type": "markdown",
   "id": "e95b7f9d-59d4-4fdc-a7de-f237cac51aa4",
   "metadata": {},
   "source": [
    "# 6. Подберите гиперпараметры \n",
    "для обоих моделей с помощью RandomizedSearchCV,\n",
    "\n",
    "напишите, почему, как вы думаете, эти параметры подошли."
   ]
  },
  {
   "cell_type": "markdown",
   "id": "c93b3ef8-20af-4cfb-a5bc-95818b771a52",
   "metadata": {
    "tags": []
   },
   "source": [
    "## Логистическая регрессия"
   ]
  },
  {
   "cell_type": "code",
   "execution_count": 35,
   "id": "832b41ce-78ec-475d-b604-b3f2e6218cc4",
   "metadata": {
    "execution": {
     "iopub.execute_input": "2022-12-22T16:15:43.554482Z",
     "iopub.status.busy": "2022-12-22T16:15:43.554203Z",
     "iopub.status.idle": "2022-12-22T16:15:50.752475Z",
     "shell.execute_reply": "2022-12-22T16:15:50.751482Z",
     "shell.execute_reply.started": "2022-12-22T16:15:43.554459Z"
    },
    "tags": []
   },
   "outputs": [
    {
     "name": "stderr",
     "output_type": "stream",
     "text": [
      "/home/fedorov/anaconda3/envs/newconda/lib/python3.10/site-packages/sklearn/linear_model/_sag.py:350: ConvergenceWarning: The max_iter was reached which means the coef_ did not converge\n",
      "  warnings.warn(\n",
      "/home/fedorov/anaconda3/envs/newconda/lib/python3.10/site-packages/sklearn/linear_model/_sag.py:350: ConvergenceWarning: The max_iter was reached which means the coef_ did not converge\n",
      "  warnings.warn(\n",
      "/home/fedorov/anaconda3/envs/newconda/lib/python3.10/site-packages/sklearn/linear_model/_sag.py:350: ConvergenceWarning: The max_iter was reached which means the coef_ did not converge\n",
      "  warnings.warn(\n",
      "/home/fedorov/anaconda3/envs/newconda/lib/python3.10/site-packages/sklearn/linear_model/_sag.py:350: ConvergenceWarning: The max_iter was reached which means the coef_ did not converge\n",
      "  warnings.warn(\n",
      "/home/fedorov/anaconda3/envs/newconda/lib/python3.10/site-packages/sklearn/linear_model/_sag.py:350: ConvergenceWarning: The max_iter was reached which means the coef_ did not converge\n",
      "  warnings.warn(\n",
      "/home/fedorov/anaconda3/envs/newconda/lib/python3.10/site-packages/sklearn/linear_model/_glm/_newton_solver.py:491: LinAlgWarning: The inner solver of NewtonCholeskySolver stumbled upon a singular or very ill-conditioned Hessian matrix at iteration #1. It will now resort to lbfgs instead.\n",
      "Further options are to use another solver or to avoid such situation in the first place. Possible remedies are removing collinear features of X or increasing the penalization strengths.\n",
      "The original Linear Algebra message was:\n",
      "Ill-conditioned matrix (rcond=8.3236e-17): result may not be accurate.\n",
      "  warnings.warn(\n",
      "/home/fedorov/anaconda3/envs/newconda/lib/python3.10/site-packages/sklearn/linear_model/_glm/_newton_solver.py:491: LinAlgWarning: The inner solver of NewtonCholeskySolver stumbled upon a singular or very ill-conditioned Hessian matrix at iteration #1. It will now resort to lbfgs instead.\n",
      "Further options are to use another solver or to avoid such situation in the first place. Possible remedies are removing collinear features of X or increasing the penalization strengths.\n",
      "The original Linear Algebra message was:\n",
      "Ill-conditioned matrix (rcond=9.86096e-17): result may not be accurate.\n",
      "  warnings.warn(\n",
      "/home/fedorov/anaconda3/envs/newconda/lib/python3.10/site-packages/sklearn/linear_model/_glm/_newton_solver.py:491: LinAlgWarning: The inner solver of NewtonCholeskySolver stumbled upon a singular or very ill-conditioned Hessian matrix at iteration #1. It will now resort to lbfgs instead.\n",
      "Further options are to use another solver or to avoid such situation in the first place. Possible remedies are removing collinear features of X or increasing the penalization strengths.\n",
      "The original Linear Algebra message was:\n",
      "Ill-conditioned matrix (rcond=9.28815e-17): result may not be accurate.\n",
      "  warnings.warn(\n",
      "/home/fedorov/anaconda3/envs/newconda/lib/python3.10/site-packages/sklearn/linear_model/_glm/_newton_solver.py:491: LinAlgWarning: The inner solver of NewtonCholeskySolver stumbled upon a singular or very ill-conditioned Hessian matrix at iteration #1. It will now resort to lbfgs instead.\n",
      "Further options are to use another solver or to avoid such situation in the first place. Possible remedies are removing collinear features of X or increasing the penalization strengths.\n",
      "The original Linear Algebra message was:\n",
      "Ill-conditioned matrix (rcond=1.03104e-16): result may not be accurate.\n",
      "  warnings.warn(\n",
      "/home/fedorov/anaconda3/envs/newconda/lib/python3.10/site-packages/sklearn/linear_model/_glm/_newton_solver.py:491: LinAlgWarning: The inner solver of NewtonCholeskySolver stumbled upon a singular or very ill-conditioned Hessian matrix at iteration #1. It will now resort to lbfgs instead.\n",
      "Further options are to use another solver or to avoid such situation in the first place. Possible remedies are removing collinear features of X or increasing the penalization strengths.\n",
      "The original Linear Algebra message was:\n",
      "Ill-conditioned matrix (rcond=1.10805e-16): result may not be accurate.\n",
      "  warnings.warn(\n",
      "/home/fedorov/anaconda3/envs/newconda/lib/python3.10/site-packages/sklearn/linear_model/_sag.py:350: ConvergenceWarning: The max_iter was reached which means the coef_ did not converge\n",
      "  warnings.warn(\n",
      "/home/fedorov/anaconda3/envs/newconda/lib/python3.10/site-packages/sklearn/linear_model/_sag.py:350: ConvergenceWarning: The max_iter was reached which means the coef_ did not converge\n",
      "  warnings.warn(\n",
      "/home/fedorov/anaconda3/envs/newconda/lib/python3.10/site-packages/sklearn/linear_model/_sag.py:350: ConvergenceWarning: The max_iter was reached which means the coef_ did not converge\n",
      "  warnings.warn(\n",
      "/home/fedorov/anaconda3/envs/newconda/lib/python3.10/site-packages/sklearn/linear_model/_sag.py:350: ConvergenceWarning: The max_iter was reached which means the coef_ did not converge\n",
      "  warnings.warn(\n",
      "/home/fedorov/anaconda3/envs/newconda/lib/python3.10/site-packages/sklearn/linear_model/_sag.py:350: ConvergenceWarning: The max_iter was reached which means the coef_ did not converge\n",
      "  warnings.warn(\n",
      "/home/fedorov/anaconda3/envs/newconda/lib/python3.10/site-packages/sklearn/model_selection/_validation.py:378: FitFailedWarning: \n",
      "5 fits failed out of a total of 50.\n",
      "The score on these train-test partitions for these parameters will be set to nan.\n",
      "If these failures are not expected, you can try to debug them by setting error_score='raise'.\n",
      "\n",
      "Below are more details about the failures:\n",
      "--------------------------------------------------------------------------------\n",
      "5 fits failed with the following error:\n",
      "Traceback (most recent call last):\n",
      "  File \"/home/fedorov/anaconda3/envs/newconda/lib/python3.10/site-packages/sklearn/model_selection/_validation.py\", line 686, in _fit_and_score\n",
      "    estimator.fit(X_train, y_train, **fit_params)\n",
      "  File \"/home/fedorov/anaconda3/envs/newconda/lib/python3.10/site-packages/sklearn/linear_model/_logistic.py\", line 1207, in fit\n",
      "    multi_class = _check_multi_class(self.multi_class, solver, len(self.classes_))\n",
      "  File \"/home/fedorov/anaconda3/envs/newconda/lib/python3.10/site-packages/sklearn/linear_model/_logistic.py\", line 90, in _check_multi_class\n",
      "    raise ValueError(\"Solver %s does not support a multinomial backend.\" % solver)\n",
      "ValueError: Solver newton-cholesky does not support a multinomial backend.\n",
      "\n",
      "  warnings.warn(some_fits_failed_message, FitFailedWarning)\n",
      "/home/fedorov/anaconda3/envs/newconda/lib/python3.10/site-packages/sklearn/model_selection/_search.py:953: UserWarning: One or more of the test scores are non-finite: [       nan 0.80148122 0.8070887  0.8070887  0.80148122 0.80148122\n",
      " 0.80335038 0.80148122 0.8070887  0.80148122]\n",
      "  warnings.warn(\n"
     ]
    },
    {
     "data": {
      "text/html": [
       "<style>#sk-container-id-3 {color: black;background-color: white;}#sk-container-id-3 pre{padding: 0;}#sk-container-id-3 div.sk-toggleable {background-color: white;}#sk-container-id-3 label.sk-toggleable__label {cursor: pointer;display: block;width: 100%;margin-bottom: 0;padding: 0.3em;box-sizing: border-box;text-align: center;}#sk-container-id-3 label.sk-toggleable__label-arrow:before {content: \"▸\";float: left;margin-right: 0.25em;color: #696969;}#sk-container-id-3 label.sk-toggleable__label-arrow:hover:before {color: black;}#sk-container-id-3 div.sk-estimator:hover label.sk-toggleable__label-arrow:before {color: black;}#sk-container-id-3 div.sk-toggleable__content {max-height: 0;max-width: 0;overflow: hidden;text-align: left;background-color: #f0f8ff;}#sk-container-id-3 div.sk-toggleable__content pre {margin: 0.2em;color: black;border-radius: 0.25em;background-color: #f0f8ff;}#sk-container-id-3 input.sk-toggleable__control:checked~div.sk-toggleable__content {max-height: 200px;max-width: 100%;overflow: auto;}#sk-container-id-3 input.sk-toggleable__control:checked~label.sk-toggleable__label-arrow:before {content: \"▾\";}#sk-container-id-3 div.sk-estimator input.sk-toggleable__control:checked~label.sk-toggleable__label {background-color: #d4ebff;}#sk-container-id-3 div.sk-label input.sk-toggleable__control:checked~label.sk-toggleable__label {background-color: #d4ebff;}#sk-container-id-3 input.sk-hidden--visually {border: 0;clip: rect(1px 1px 1px 1px);clip: rect(1px, 1px, 1px, 1px);height: 1px;margin: -1px;overflow: hidden;padding: 0;position: absolute;width: 1px;}#sk-container-id-3 div.sk-estimator {font-family: monospace;background-color: #f0f8ff;border: 1px dotted black;border-radius: 0.25em;box-sizing: border-box;margin-bottom: 0.5em;}#sk-container-id-3 div.sk-estimator:hover {background-color: #d4ebff;}#sk-container-id-3 div.sk-parallel-item::after {content: \"\";width: 100%;border-bottom: 1px solid gray;flex-grow: 1;}#sk-container-id-3 div.sk-label:hover label.sk-toggleable__label {background-color: #d4ebff;}#sk-container-id-3 div.sk-serial::before {content: \"\";position: absolute;border-left: 1px solid gray;box-sizing: border-box;top: 0;bottom: 0;left: 50%;z-index: 0;}#sk-container-id-3 div.sk-serial {display: flex;flex-direction: column;align-items: center;background-color: white;padding-right: 0.2em;padding-left: 0.2em;position: relative;}#sk-container-id-3 div.sk-item {position: relative;z-index: 1;}#sk-container-id-3 div.sk-parallel {display: flex;align-items: stretch;justify-content: center;background-color: white;position: relative;}#sk-container-id-3 div.sk-item::before, #sk-container-id-3 div.sk-parallel-item::before {content: \"\";position: absolute;border-left: 1px solid gray;box-sizing: border-box;top: 0;bottom: 0;left: 50%;z-index: -1;}#sk-container-id-3 div.sk-parallel-item {display: flex;flex-direction: column;z-index: 1;position: relative;background-color: white;}#sk-container-id-3 div.sk-parallel-item:first-child::after {align-self: flex-end;width: 50%;}#sk-container-id-3 div.sk-parallel-item:last-child::after {align-self: flex-start;width: 50%;}#sk-container-id-3 div.sk-parallel-item:only-child::after {width: 0;}#sk-container-id-3 div.sk-dashed-wrapped {border: 1px dashed gray;margin: 0 0.4em 0.5em 0.4em;box-sizing: border-box;padding-bottom: 0.4em;background-color: white;}#sk-container-id-3 div.sk-label label {font-family: monospace;font-weight: bold;display: inline-block;line-height: 1.2em;}#sk-container-id-3 div.sk-label-container {text-align: center;}#sk-container-id-3 div.sk-container {/* jupyter's `normalize.less` sets `[hidden] { display: none; }` but bootstrap.min.css set `[hidden] { display: none !important; }` so we also need the `!important` here to be able to override the default hidden behavior on the sphinx rendered scikit-learn.org. See: https://github.com/scikit-learn/scikit-learn/issues/21755 */display: inline-block !important;position: relative;}#sk-container-id-3 div.sk-text-repr-fallback {display: none;}</style><div id=\"sk-container-id-3\" class=\"sk-top-container\"><div class=\"sk-text-repr-fallback\"><pre>RandomizedSearchCV(estimator=LogisticRegression(),\n",
       "                   param_distributions={&#x27;class_weight&#x27;: [&#x27;balanced&#x27;, None],\n",
       "                                        &#x27;multi_class&#x27;: [&#x27;auto&#x27;, &#x27;ovr&#x27;,\n",
       "                                                        &#x27;multinomial&#x27;],\n",
       "                                        &#x27;n_jobs&#x27;: [-1, 1, 2, 3, 4, 5],\n",
       "                                        &#x27;penalty&#x27;: [&#x27;l2&#x27;, None],\n",
       "                                        &#x27;solver&#x27;: [&#x27;lbfgs&#x27;, &#x27;newton-cg&#x27;,\n",
       "                                                   &#x27;newton-cholesky&#x27;, &#x27;sag&#x27;,\n",
       "                                                   &#x27;saga&#x27;]})</pre><b>In a Jupyter environment, please rerun this cell to show the HTML representation or trust the notebook. <br />On GitHub, the HTML representation is unable to render, please try loading this page with nbviewer.org.</b></div><div class=\"sk-container\" hidden><div class=\"sk-item sk-dashed-wrapped\"><div class=\"sk-label-container\"><div class=\"sk-label sk-toggleable\"><input class=\"sk-toggleable__control sk-hidden--visually\" id=\"sk-estimator-id-3\" type=\"checkbox\" ><label for=\"sk-estimator-id-3\" class=\"sk-toggleable__label sk-toggleable__label-arrow\">RandomizedSearchCV</label><div class=\"sk-toggleable__content\"><pre>RandomizedSearchCV(estimator=LogisticRegression(),\n",
       "                   param_distributions={&#x27;class_weight&#x27;: [&#x27;balanced&#x27;, None],\n",
       "                                        &#x27;multi_class&#x27;: [&#x27;auto&#x27;, &#x27;ovr&#x27;,\n",
       "                                                        &#x27;multinomial&#x27;],\n",
       "                                        &#x27;n_jobs&#x27;: [-1, 1, 2, 3, 4, 5],\n",
       "                                        &#x27;penalty&#x27;: [&#x27;l2&#x27;, None],\n",
       "                                        &#x27;solver&#x27;: [&#x27;lbfgs&#x27;, &#x27;newton-cg&#x27;,\n",
       "                                                   &#x27;newton-cholesky&#x27;, &#x27;sag&#x27;,\n",
       "                                                   &#x27;saga&#x27;]})</pre></div></div></div><div class=\"sk-parallel\"><div class=\"sk-parallel-item\"><div class=\"sk-item\"><div class=\"sk-label-container\"><div class=\"sk-label sk-toggleable\"><input class=\"sk-toggleable__control sk-hidden--visually\" id=\"sk-estimator-id-4\" type=\"checkbox\" ><label for=\"sk-estimator-id-4\" class=\"sk-toggleable__label sk-toggleable__label-arrow\">estimator: LogisticRegression</label><div class=\"sk-toggleable__content\"><pre>LogisticRegression()</pre></div></div></div><div class=\"sk-serial\"><div class=\"sk-item\"><div class=\"sk-estimator sk-toggleable\"><input class=\"sk-toggleable__control sk-hidden--visually\" id=\"sk-estimator-id-5\" type=\"checkbox\" ><label for=\"sk-estimator-id-5\" class=\"sk-toggleable__label sk-toggleable__label-arrow\">LogisticRegression</label><div class=\"sk-toggleable__content\"><pre>LogisticRegression()</pre></div></div></div></div></div></div></div></div></div></div>"
      ],
      "text/plain": [
       "RandomizedSearchCV(estimator=LogisticRegression(),\n",
       "                   param_distributions={'class_weight': ['balanced', None],\n",
       "                                        'multi_class': ['auto', 'ovr',\n",
       "                                                        'multinomial'],\n",
       "                                        'n_jobs': [-1, 1, 2, 3, 4, 5],\n",
       "                                        'penalty': ['l2', None],\n",
       "                                        'solver': ['lbfgs', 'newton-cg',\n",
       "                                                   'newton-cholesky', 'sag',\n",
       "                                                   'saga']})"
      ]
     },
     "execution_count": 35,
     "metadata": {},
     "output_type": "execute_result"
    }
   ],
   "source": [
    "params_log = {\n",
    "    'penalty' : [ 'l2', None] #, 'elasticnet' , None 'l1',\n",
    "    ,'class_weight' : ['balanced', None]\n",
    "    , 'solver' : ['lbfgs', 'newton-cg', 'newton-cholesky', 'sag', 'saga'] #, 'liblinear'\n",
    "    , 'multi_class' : ['auto', 'ovr', 'multinomial']\n",
    "    , 'n_jobs' : [-1,1,2,3,4,5] #, None\n",
    "}\n",
    "log = LogisticRegression()\n",
    "cv_log = RandomizedSearchCV(log, params_log)\n",
    "cv_log.fit(X_train_enc, y_train)"
   ]
  },
  {
   "cell_type": "code",
   "execution_count": 36,
   "id": "caf75e03-55f8-42cd-9047-17301c462ac7",
   "metadata": {
    "execution": {
     "iopub.execute_input": "2022-12-22T16:15:50.754570Z",
     "iopub.status.busy": "2022-12-22T16:15:50.753948Z",
     "iopub.status.idle": "2022-12-22T16:15:50.760294Z",
     "shell.execute_reply": "2022-12-22T16:15:50.759320Z",
     "shell.execute_reply.started": "2022-12-22T16:15:50.754541Z"
    },
    "tags": []
   },
   "outputs": [
    {
     "data": {
      "text/plain": [
       "{'solver': 'newton-cg',\n",
       " 'penalty': 'l2',\n",
       " 'n_jobs': 1,\n",
       " 'multi_class': 'auto',\n",
       " 'class_weight': None}"
      ]
     },
     "execution_count": 36,
     "metadata": {},
     "output_type": "execute_result"
    }
   ],
   "source": [
    "cv_log.best_params_"
   ]
  },
  {
   "cell_type": "markdown",
   "id": "fce8fea5-7d98-41b0-a368-fe4550d8d56b",
   "metadata": {},
   "source": [
    "* ====================================================\n",
    "\n",
    "Почему параметры подошли?\n",
    "\n",
    "Параметры подошли, т.к. их значения перебирались из множества допустимых значений параметров классфикаторов"
   ]
  },
  {
   "cell_type": "markdown",
   "id": "7da8d4f3-441f-4d74-be56-e26469e40544",
   "metadata": {
    "tags": []
   },
   "source": [
    "## KNN"
   ]
  },
  {
   "cell_type": "code",
   "execution_count": 37,
   "id": "9f382fda-85e9-4ee6-9659-38ae9bfc39d9",
   "metadata": {
    "execution": {
     "iopub.execute_input": "2022-12-22T16:15:50.761577Z",
     "iopub.status.busy": "2022-12-22T16:15:50.761314Z",
     "iopub.status.idle": "2022-12-22T16:15:56.969893Z",
     "shell.execute_reply": "2022-12-22T16:15:56.969001Z",
     "shell.execute_reply.started": "2022-12-22T16:15:50.761557Z"
    },
    "tags": []
   },
   "outputs": [
    {
     "data": {
      "text/html": [
       "<style>#sk-container-id-4 {color: black;background-color: white;}#sk-container-id-4 pre{padding: 0;}#sk-container-id-4 div.sk-toggleable {background-color: white;}#sk-container-id-4 label.sk-toggleable__label {cursor: pointer;display: block;width: 100%;margin-bottom: 0;padding: 0.3em;box-sizing: border-box;text-align: center;}#sk-container-id-4 label.sk-toggleable__label-arrow:before {content: \"▸\";float: left;margin-right: 0.25em;color: #696969;}#sk-container-id-4 label.sk-toggleable__label-arrow:hover:before {color: black;}#sk-container-id-4 div.sk-estimator:hover label.sk-toggleable__label-arrow:before {color: black;}#sk-container-id-4 div.sk-toggleable__content {max-height: 0;max-width: 0;overflow: hidden;text-align: left;background-color: #f0f8ff;}#sk-container-id-4 div.sk-toggleable__content pre {margin: 0.2em;color: black;border-radius: 0.25em;background-color: #f0f8ff;}#sk-container-id-4 input.sk-toggleable__control:checked~div.sk-toggleable__content {max-height: 200px;max-width: 100%;overflow: auto;}#sk-container-id-4 input.sk-toggleable__control:checked~label.sk-toggleable__label-arrow:before {content: \"▾\";}#sk-container-id-4 div.sk-estimator input.sk-toggleable__control:checked~label.sk-toggleable__label {background-color: #d4ebff;}#sk-container-id-4 div.sk-label input.sk-toggleable__control:checked~label.sk-toggleable__label {background-color: #d4ebff;}#sk-container-id-4 input.sk-hidden--visually {border: 0;clip: rect(1px 1px 1px 1px);clip: rect(1px, 1px, 1px, 1px);height: 1px;margin: -1px;overflow: hidden;padding: 0;position: absolute;width: 1px;}#sk-container-id-4 div.sk-estimator {font-family: monospace;background-color: #f0f8ff;border: 1px dotted black;border-radius: 0.25em;box-sizing: border-box;margin-bottom: 0.5em;}#sk-container-id-4 div.sk-estimator:hover {background-color: #d4ebff;}#sk-container-id-4 div.sk-parallel-item::after {content: \"\";width: 100%;border-bottom: 1px solid gray;flex-grow: 1;}#sk-container-id-4 div.sk-label:hover label.sk-toggleable__label {background-color: #d4ebff;}#sk-container-id-4 div.sk-serial::before {content: \"\";position: absolute;border-left: 1px solid gray;box-sizing: border-box;top: 0;bottom: 0;left: 50%;z-index: 0;}#sk-container-id-4 div.sk-serial {display: flex;flex-direction: column;align-items: center;background-color: white;padding-right: 0.2em;padding-left: 0.2em;position: relative;}#sk-container-id-4 div.sk-item {position: relative;z-index: 1;}#sk-container-id-4 div.sk-parallel {display: flex;align-items: stretch;justify-content: center;background-color: white;position: relative;}#sk-container-id-4 div.sk-item::before, #sk-container-id-4 div.sk-parallel-item::before {content: \"\";position: absolute;border-left: 1px solid gray;box-sizing: border-box;top: 0;bottom: 0;left: 50%;z-index: -1;}#sk-container-id-4 div.sk-parallel-item {display: flex;flex-direction: column;z-index: 1;position: relative;background-color: white;}#sk-container-id-4 div.sk-parallel-item:first-child::after {align-self: flex-end;width: 50%;}#sk-container-id-4 div.sk-parallel-item:last-child::after {align-self: flex-start;width: 50%;}#sk-container-id-4 div.sk-parallel-item:only-child::after {width: 0;}#sk-container-id-4 div.sk-dashed-wrapped {border: 1px dashed gray;margin: 0 0.4em 0.5em 0.4em;box-sizing: border-box;padding-bottom: 0.4em;background-color: white;}#sk-container-id-4 div.sk-label label {font-family: monospace;font-weight: bold;display: inline-block;line-height: 1.2em;}#sk-container-id-4 div.sk-label-container {text-align: center;}#sk-container-id-4 div.sk-container {/* jupyter's `normalize.less` sets `[hidden] { display: none; }` but bootstrap.min.css set `[hidden] { display: none !important; }` so we also need the `!important` here to be able to override the default hidden behavior on the sphinx rendered scikit-learn.org. See: https://github.com/scikit-learn/scikit-learn/issues/21755 */display: inline-block !important;position: relative;}#sk-container-id-4 div.sk-text-repr-fallback {display: none;}</style><div id=\"sk-container-id-4\" class=\"sk-top-container\"><div class=\"sk-text-repr-fallback\"><pre>RandomizedSearchCV(estimator=KNeighborsClassifier(),\n",
       "                   param_distributions={&#x27;algorithm&#x27;: [&#x27;auto&#x27;, &#x27;ball_tree&#x27;,\n",
       "                                                      &#x27;kd_tree&#x27;, &#x27;brute&#x27;],\n",
       "                                        &#x27;leaf_size&#x27;: range(1, 40),\n",
       "                                        &#x27;n_jobs&#x27;: [-1, 1, 2, 3, 4, 5],\n",
       "                                        &#x27;n_neighbors&#x27;: range(1, 50),\n",
       "                                        &#x27;p&#x27;: [1, 2, 3, 4, 5],\n",
       "                                        &#x27;weights&#x27;: [&#x27;uniform&#x27;, &#x27;distance&#x27;]})</pre><b>In a Jupyter environment, please rerun this cell to show the HTML representation or trust the notebook. <br />On GitHub, the HTML representation is unable to render, please try loading this page with nbviewer.org.</b></div><div class=\"sk-container\" hidden><div class=\"sk-item sk-dashed-wrapped\"><div class=\"sk-label-container\"><div class=\"sk-label sk-toggleable\"><input class=\"sk-toggleable__control sk-hidden--visually\" id=\"sk-estimator-id-6\" type=\"checkbox\" ><label for=\"sk-estimator-id-6\" class=\"sk-toggleable__label sk-toggleable__label-arrow\">RandomizedSearchCV</label><div class=\"sk-toggleable__content\"><pre>RandomizedSearchCV(estimator=KNeighborsClassifier(),\n",
       "                   param_distributions={&#x27;algorithm&#x27;: [&#x27;auto&#x27;, &#x27;ball_tree&#x27;,\n",
       "                                                      &#x27;kd_tree&#x27;, &#x27;brute&#x27;],\n",
       "                                        &#x27;leaf_size&#x27;: range(1, 40),\n",
       "                                        &#x27;n_jobs&#x27;: [-1, 1, 2, 3, 4, 5],\n",
       "                                        &#x27;n_neighbors&#x27;: range(1, 50),\n",
       "                                        &#x27;p&#x27;: [1, 2, 3, 4, 5],\n",
       "                                        &#x27;weights&#x27;: [&#x27;uniform&#x27;, &#x27;distance&#x27;]})</pre></div></div></div><div class=\"sk-parallel\"><div class=\"sk-parallel-item\"><div class=\"sk-item\"><div class=\"sk-label-container\"><div class=\"sk-label sk-toggleable\"><input class=\"sk-toggleable__control sk-hidden--visually\" id=\"sk-estimator-id-7\" type=\"checkbox\" ><label for=\"sk-estimator-id-7\" class=\"sk-toggleable__label sk-toggleable__label-arrow\">estimator: KNeighborsClassifier</label><div class=\"sk-toggleable__content\"><pre>KNeighborsClassifier()</pre></div></div></div><div class=\"sk-serial\"><div class=\"sk-item\"><div class=\"sk-estimator sk-toggleable\"><input class=\"sk-toggleable__control sk-hidden--visually\" id=\"sk-estimator-id-8\" type=\"checkbox\" ><label for=\"sk-estimator-id-8\" class=\"sk-toggleable__label sk-toggleable__label-arrow\">KNeighborsClassifier</label><div class=\"sk-toggleable__content\"><pre>KNeighborsClassifier()</pre></div></div></div></div></div></div></div></div></div></div>"
      ],
      "text/plain": [
       "RandomizedSearchCV(estimator=KNeighborsClassifier(),\n",
       "                   param_distributions={'algorithm': ['auto', 'ball_tree',\n",
       "                                                      'kd_tree', 'brute'],\n",
       "                                        'leaf_size': range(1, 40),\n",
       "                                        'n_jobs': [-1, 1, 2, 3, 4, 5],\n",
       "                                        'n_neighbors': range(1, 50),\n",
       "                                        'p': [1, 2, 3, 4, 5],\n",
       "                                        'weights': ['uniform', 'distance']})"
      ]
     },
     "execution_count": 37,
     "metadata": {},
     "output_type": "execute_result"
    }
   ],
   "source": [
    "# варианты параметров\n",
    "params_knn = {\n",
    "    'n_neighbors':range(1,50)\n",
    "    , 'weights' : ['uniform', 'distance']\n",
    "    , 'algorithm' : ['auto', 'ball_tree', 'kd_tree', 'brute']\n",
    "    , 'leaf_size' : range(1,40)\n",
    "    , 'p' : [1,2,3,4,5]\n",
    "    , 'n_jobs' : [-1,1,2,3,4,5]\n",
    "}\n",
    "\n",
    "knn = KNeighborsClassifier()\n",
    "cv_knn = RandomizedSearchCV(knn, params_knn)\n",
    "cv_knn.fit(X_train_enc, y_train)"
   ]
  },
  {
   "cell_type": "code",
   "execution_count": 38,
   "id": "18208056-2812-4535-990c-1ee52d96b2f1",
   "metadata": {
    "execution": {
     "iopub.execute_input": "2022-12-22T16:15:56.971982Z",
     "iopub.status.busy": "2022-12-22T16:15:56.971218Z",
     "iopub.status.idle": "2022-12-22T16:15:56.980164Z",
     "shell.execute_reply": "2022-12-22T16:15:56.979163Z",
     "shell.execute_reply.started": "2022-12-22T16:15:56.971943Z"
    },
    "tags": []
   },
   "outputs": [
    {
     "data": {
      "text/plain": [
       "{'weights': 'uniform',\n",
       " 'p': 1,\n",
       " 'n_neighbors': 36,\n",
       " 'n_jobs': -1,\n",
       " 'leaf_size': 4,\n",
       " 'algorithm': 'brute'}"
      ]
     },
     "execution_count": 38,
     "metadata": {},
     "output_type": "execute_result"
    }
   ],
   "source": [
    "# лучшее сочетание параметров\n",
    "cv_knn.best_params_"
   ]
  },
  {
   "cell_type": "markdown",
   "id": "6fcdb3cc-6a74-4104-a4a8-2088dd3389fa",
   "metadata": {
    "execution": {
     "iopub.execute_input": "2022-12-22T11:25:26.388023Z",
     "iopub.status.busy": "2022-12-22T11:25:26.386855Z",
     "iopub.status.idle": "2022-12-22T11:25:26.395054Z",
     "shell.execute_reply": "2022-12-22T11:25:26.392877Z",
     "shell.execute_reply.started": "2022-12-22T11:25:26.387969Z"
    }
   },
   "source": [
    "# 7. Посчитайте метрики для новых моделей\n",
    ", также сделайте выводы."
   ]
  },
  {
   "cell_type": "code",
   "execution_count": 39,
   "id": "d9df0fb5-9706-44d3-af93-1cc80b26b840",
   "metadata": {
    "execution": {
     "iopub.execute_input": "2022-12-22T16:15:56.982309Z",
     "iopub.status.busy": "2022-12-22T16:15:56.981899Z",
     "iopub.status.idle": "2022-12-22T16:15:57.198582Z",
     "shell.execute_reply": "2022-12-22T16:15:57.197516Z",
     "shell.execute_reply.started": "2022-12-22T16:15:56.982275Z"
    },
    "tags": []
   },
   "outputs": [
    {
     "data": {
      "text/plain": [
       "{'LogisticRegression': {'train': {'confusion_matrix': array([[290,  38],\n",
       "          [ 61, 145]]),\n",
       "   'recall_score': 0.7038834951456311,\n",
       "   'precision_score': 0.7923497267759563,\n",
       "   'accuracy_score': 0.8146067415730337,\n",
       "   'f1_score': 0.7455012853470437,\n",
       "   'roc_auc_score': 0.7940149183045229},\n",
       "  'test': {'confusion_matrix': array([[82, 14],\n",
       "          [24, 58]]),\n",
       "   'recall_score': 0.7073170731707317,\n",
       "   'precision_score': 0.8055555555555556,\n",
       "   'accuracy_score': 0.7865168539325843,\n",
       "   'f1_score': 0.7532467532467532,\n",
       "   'roc_auc_score': 0.7807418699186992}},\n",
       " 'KNeighborsClassifier': {'train': {'confusion_matrix': array([[303,  25],\n",
       "          [ 81, 125]]),\n",
       "   'recall_score': 0.6067961165048543,\n",
       "   'precision_score': 0.8333333333333334,\n",
       "   'accuracy_score': 0.8014981273408239,\n",
       "   'f1_score': 0.7022471910112359,\n",
       "   'roc_auc_score': 0.7652883021548662},\n",
       "  'test': {'confusion_matrix': array([[90,  6],\n",
       "          [32, 50]]),\n",
       "   'recall_score': 0.6097560975609756,\n",
       "   'precision_score': 0.8928571428571429,\n",
       "   'accuracy_score': 0.7865168539325843,\n",
       "   'f1_score': 0.7246376811594203,\n",
       "   'roc_auc_score': 0.7736280487804879}}}"
      ]
     },
     "execution_count": 39,
     "metadata": {},
     "output_type": "execute_result"
    }
   ],
   "source": [
    "# логистическая регрессия\n",
    "log_reg = LogisticRegression(**cv_log.best_params_)\n",
    "log_reg.fit(X_train_enc, y_train)\n",
    "# КНН\n",
    "knn = KNeighborsClassifier(**cv_knn.best_params_)\n",
    "knn.fit(X_train_enc, y_train)\n",
    "\n",
    "Rez_best = {'LogisticRegression':dict(), 'KNeighborsClassifier':dict()}\n",
    "\n",
    "for classifier in [log_reg, knn]:\n",
    "    # название метода \n",
    "    cls_name = str(type(classifier)).replace(\"'>\",\"\").split(\".\")[-1]\n",
    "    \n",
    "    # цикл по тренировочным и теостовым данным\n",
    "    for X,y,label in zip([X_train_enc, X_test_enc], [y_train, y_test], ['train', 'test']):\n",
    "        # предсказания модели\n",
    "        y_pred = classifier.predict(X)\n",
    "    \n",
    "        Rez_best[cls_name][label] = {'confusion_matrix' : confusion_matrix(y, y_pred)\n",
    "                              , 'recall_score' : recall_score(y, y_pred)\n",
    "                              , 'precision_score': precision_score(y, y_pred)\n",
    "                              , 'accuracy_score' : accuracy_score(y, y_pred) \n",
    "                              , 'f1_score' : f1_score(y, y_pred)\n",
    "                              , 'roc_auc_score' : roc_auc_score(y, y_pred)\n",
    "                              }\n",
    "    \n",
    "Rez_best\n",
    "    "
   ]
  },
  {
   "cell_type": "markdown",
   "id": "b2fee0e6-128b-43df-b02a-c1b9b9fa3eda",
   "metadata": {},
   "source": [
    "# Выводы"
   ]
  },
  {
   "cell_type": "code",
   "execution_count": 40,
   "id": "95d26d76-07ae-444a-af50-323ac55dad71",
   "metadata": {
    "execution": {
     "iopub.execute_input": "2022-12-22T16:15:57.200295Z",
     "iopub.status.busy": "2022-12-22T16:15:57.199646Z",
     "iopub.status.idle": "2022-12-22T16:15:57.218111Z",
     "shell.execute_reply": "2022-12-22T16:15:57.216954Z",
     "shell.execute_reply.started": "2022-12-22T16:15:57.200272Z"
    },
    "tags": []
   },
   "outputs": [
    {
     "name": "stdout",
     "output_type": "stream",
     "text": [
      "==Метрики для моделей с подобранными лучшими параметрами\n"
     ]
    },
    {
     "data": {
      "text/html": [
       "<div>\n",
       "<style scoped>\n",
       "    .dataframe tbody tr th:only-of-type {\n",
       "        vertical-align: middle;\n",
       "    }\n",
       "\n",
       "    .dataframe tbody tr th {\n",
       "        vertical-align: top;\n",
       "    }\n",
       "\n",
       "    .dataframe thead th {\n",
       "        text-align: right;\n",
       "    }\n",
       "</style>\n",
       "<table border=\"1\" class=\"dataframe\">\n",
       "  <thead>\n",
       "    <tr style=\"text-align: right;\">\n",
       "      <th></th>\n",
       "      <th>log.train</th>\n",
       "      <th>log.test</th>\n",
       "      <th>knn.train</th>\n",
       "      <th>knn.test</th>\n",
       "    </tr>\n",
       "  </thead>\n",
       "  <tbody>\n",
       "    <tr>\n",
       "      <th>confusion_matrix</th>\n",
       "      <td>[[290, 38], [61, 145]]</td>\n",
       "      <td>[[82, 14], [24, 58]]</td>\n",
       "      <td>[[303, 25], [81, 125]]</td>\n",
       "      <td>[[90, 6], [32, 50]]</td>\n",
       "    </tr>\n",
       "    <tr>\n",
       "      <th>recall_score</th>\n",
       "      <td>0.703883</td>\n",
       "      <td>0.707317</td>\n",
       "      <td>0.606796</td>\n",
       "      <td>0.609756</td>\n",
       "    </tr>\n",
       "    <tr>\n",
       "      <th>precision_score</th>\n",
       "      <td>0.79235</td>\n",
       "      <td>0.805556</td>\n",
       "      <td>0.833333</td>\n",
       "      <td>0.892857</td>\n",
       "    </tr>\n",
       "    <tr>\n",
       "      <th>accuracy_score</th>\n",
       "      <td>0.814607</td>\n",
       "      <td>0.786517</td>\n",
       "      <td>0.801498</td>\n",
       "      <td>0.786517</td>\n",
       "    </tr>\n",
       "    <tr>\n",
       "      <th>f1_score</th>\n",
       "      <td>0.745501</td>\n",
       "      <td>0.753247</td>\n",
       "      <td>0.702247</td>\n",
       "      <td>0.724638</td>\n",
       "    </tr>\n",
       "    <tr>\n",
       "      <th>roc_auc_score</th>\n",
       "      <td>0.794015</td>\n",
       "      <td>0.780742</td>\n",
       "      <td>0.765288</td>\n",
       "      <td>0.773628</td>\n",
       "    </tr>\n",
       "  </tbody>\n",
       "</table>\n",
       "</div>"
      ],
      "text/plain": [
       "                               log.train              log.test  \\\n",
       "confusion_matrix  [[290, 38], [61, 145]]  [[82, 14], [24, 58]]   \n",
       "recall_score                    0.703883              0.707317   \n",
       "precision_score                  0.79235              0.805556   \n",
       "accuracy_score                  0.814607              0.786517   \n",
       "f1_score                        0.745501              0.753247   \n",
       "roc_auc_score                   0.794015              0.780742   \n",
       "\n",
       "                               knn.train             knn.test  \n",
       "confusion_matrix  [[303, 25], [81, 125]]  [[90, 6], [32, 50]]  \n",
       "recall_score                    0.606796             0.609756  \n",
       "precision_score                 0.833333             0.892857  \n",
       "accuracy_score                  0.801498             0.786517  \n",
       "f1_score                        0.702247             0.724638  \n",
       "roc_auc_score                   0.765288             0.773628  "
      ]
     },
     "execution_count": 40,
     "metadata": {},
     "output_type": "execute_result"
    }
   ],
   "source": [
    "# df_Rez = pd.json_normalize(Rez['LogisticRegression'] )\n",
    "# df_Rez = pd.json_normalize(Rez )\n",
    "df_Rez_log_best = pd.DataFrame(Rez_best['LogisticRegression'])\n",
    "df_Rez_Knn_best = pd.DataFrame(Rez_best['KNeighborsClassifier'])\n",
    "df_Rez_log_best.rename(columns={'test':'log.test', 'train':'log.train'}, inplace=True)\n",
    "df_Rez_Knn_best.rename(columns={'test':'knn.test', 'train':'knn.train'}, inplace=True)\n",
    "df_Rez_best = pd.concat([df_Rez_log_best, df_Rez_Knn_best], axis=1 )\n",
    "print(\"==Метрики для моделей с подобранными лучшими параметрами\")\n",
    "df_Rez_best#[['log.train', 'knn.train', 'log.test', 'knn.test']]\n"
   ]
  },
  {
   "cell_type": "code",
   "execution_count": 41,
   "id": "60565675-6502-4804-b0b2-c9d8ded71148",
   "metadata": {
    "execution": {
     "iopub.execute_input": "2022-12-22T16:15:57.220141Z",
     "iopub.status.busy": "2022-12-22T16:15:57.219580Z",
     "iopub.status.idle": "2022-12-22T16:15:57.235999Z",
     "shell.execute_reply": "2022-12-22T16:15:57.234932Z",
     "shell.execute_reply.started": "2022-12-22T16:15:57.220108Z"
    },
    "tags": []
   },
   "outputs": [
    {
     "name": "stdout",
     "output_type": "stream",
     "text": [
      "==Разность метрик моделей с лучшими параметрами и моделей с  параметрами по умолчанию \n"
     ]
    },
    {
     "data": {
      "text/html": [
       "<div>\n",
       "<style scoped>\n",
       "    .dataframe tbody tr th:only-of-type {\n",
       "        vertical-align: middle;\n",
       "    }\n",
       "\n",
       "    .dataframe tbody tr th {\n",
       "        vertical-align: top;\n",
       "    }\n",
       "\n",
       "    .dataframe thead th {\n",
       "        text-align: right;\n",
       "    }\n",
       "</style>\n",
       "<table border=\"1\" class=\"dataframe\">\n",
       "  <thead>\n",
       "    <tr style=\"text-align: right;\">\n",
       "      <th></th>\n",
       "      <th>log.train</th>\n",
       "      <th>log.test</th>\n",
       "      <th>knn.train</th>\n",
       "      <th>knn.test</th>\n",
       "    </tr>\n",
       "  </thead>\n",
       "  <tbody>\n",
       "    <tr>\n",
       "      <th>confusion_matrix</th>\n",
       "      <td>[[0, 0], [0, 0]]</td>\n",
       "      <td>[[0, 0], [0, 0]]</td>\n",
       "      <td>[[8, -8], [30, -30]]</td>\n",
       "      <td>[[5, -5], [9, -9]]</td>\n",
       "    </tr>\n",
       "    <tr>\n",
       "      <th>recall_score</th>\n",
       "      <td>0.0</td>\n",
       "      <td>0.0</td>\n",
       "      <td>-0.145631</td>\n",
       "      <td>-0.109756</td>\n",
       "    </tr>\n",
       "    <tr>\n",
       "      <th>precision_score</th>\n",
       "      <td>0.0</td>\n",
       "      <td>0.0</td>\n",
       "      <td>0.008865</td>\n",
       "      <td>0.05</td>\n",
       "    </tr>\n",
       "    <tr>\n",
       "      <th>accuracy_score</th>\n",
       "      <td>0.0</td>\n",
       "      <td>0.0</td>\n",
       "      <td>-0.041199</td>\n",
       "      <td>-0.022472</td>\n",
       "    </tr>\n",
       "    <tr>\n",
       "      <th>f1_score</th>\n",
       "      <td>0.0</td>\n",
       "      <td>0.0</td>\n",
       "      <td>-0.084555</td>\n",
       "      <td>-0.051678</td>\n",
       "    </tr>\n",
       "    <tr>\n",
       "      <th>roc_auc_score</th>\n",
       "      <td>0.0</td>\n",
       "      <td>0.0</td>\n",
       "      <td>-0.06062</td>\n",
       "      <td>-0.028836</td>\n",
       "    </tr>\n",
       "  </tbody>\n",
       "</table>\n",
       "</div>"
      ],
      "text/plain": [
       "                         log.train          log.test             knn.train  \\\n",
       "confusion_matrix  [[0, 0], [0, 0]]  [[0, 0], [0, 0]]  [[8, -8], [30, -30]]   \n",
       "recall_score                   0.0               0.0             -0.145631   \n",
       "precision_score                0.0               0.0              0.008865   \n",
       "accuracy_score                 0.0               0.0             -0.041199   \n",
       "f1_score                       0.0               0.0             -0.084555   \n",
       "roc_auc_score                  0.0               0.0              -0.06062   \n",
       "\n",
       "                            knn.test  \n",
       "confusion_matrix  [[5, -5], [9, -9]]  \n",
       "recall_score               -0.109756  \n",
       "precision_score                 0.05  \n",
       "accuracy_score             -0.022472  \n",
       "f1_score                   -0.051678  \n",
       "roc_auc_score              -0.028836  "
      ]
     },
     "execution_count": 41,
     "metadata": {},
     "output_type": "execute_result"
    }
   ],
   "source": [
    "# print(\"==Метрики для моделей с параметрами по умолчанию \")\n",
    "df_Rez#[['log.train', 'knn.train', 'log.test', 'knn.test']]\n",
    "\n",
    "print(\"==Разность метрик моделей с лучшими параметрами и моделей с  параметрами по умолчанию \")\n",
    "df_Rez_best - df_Rez"
   ]
  },
  {
   "cell_type": "markdown",
   "id": "a1144c4a-2f71-4484-a3f6-38e8b4126ea3",
   "metadata": {
    "execution": {
     "iopub.execute_input": "2022-12-22T12:48:11.312685Z",
     "iopub.status.busy": "2022-12-22T12:48:11.312199Z",
     "iopub.status.idle": "2022-12-22T12:48:11.320366Z",
     "shell.execute_reply": "2022-12-22T12:48:11.319148Z",
     "shell.execute_reply.started": "2022-12-22T12:48:11.312649Z"
    }
   },
   "source": [
    "*=========================================================*\n",
    "\n",
    "4. Добавил недостающие метрики классификации: f-1, roc-auc\n",
    "По всем метрикам KNN на модели с лучшими найденными гиперпараметрами лидирует. Особенно это видно на тестовом наборе.\n",
    "После каких-то кооректировок вдруг оказалось, что precision на тестовых данных вообще стало больше 90%\n",
    "Получается, что подбор гиперпараметров это очень эффективный инструмент.\n",
    "И подготовка датасета тоже играет большую роль. Оставление одного лишь столбца по признаку \"Sex\" (до этого было два male female) немного улучшило показатели KNN.\n",
    "\n",
    "\n",
    "3. Небольшие измнения в поиске гиперпараметров и показатели моделей уже совсем другие.\n",
    "\n",
    "KNN на лучших гиперпараметрах почему-то ухудшился относительно модели с параметрами по умолчанию\n",
    "\n",
    "recall  вообще упал ниже 70%\n",
    "\n",
    "Вывод один: лучшее - враг хорошего. \n",
    "\n",
    "====\n",
    "\n",
    "1. Модель KNN продолжает оставаться быть лучшей\n",
    "\n",
    "2. С подобранными гиперпараметрами модель Логистической регрессии не изменила свои метрики,\n",
    "а модель KNN немногим стала лучше по метрике precision и по одному проценту потеряла на остальных метриках"
   ]
  },
  {
   "cell_type": "markdown",
   "id": "f0122504-826c-4c7b-b8a4-e4e0b2e71075",
   "metadata": {
    "tags": []
   },
   "source": [
    "# GIT"
   ]
  },
  {
   "cell_type": "code",
   "execution_count": null,
   "id": "7919a994-6c28-4266-a02a-1aae063eb829",
   "metadata": {},
   "outputs": [],
   "source": []
  },
  {
   "cell_type": "code",
   "execution_count": null,
   "id": "1933fc0d-78d1-43d8-b019-ab0222e22db6",
   "metadata": {},
   "outputs": [],
   "source": []
  }
 ],
 "metadata": {
  "kernelspec": {
   "display_name": "Python 3 (ipykernel)",
   "language": "python",
   "name": "python3"
  },
  "language_info": {
   "codemirror_mode": {
    "name": "ipython",
    "version": 3
   },
   "file_extension": ".py",
   "mimetype": "text/x-python",
   "name": "python",
   "nbconvert_exporter": "python",
   "pygments_lexer": "ipython3",
   "version": "3.10.6"
  }
 },
 "nbformat": 4,
 "nbformat_minor": 5
}
