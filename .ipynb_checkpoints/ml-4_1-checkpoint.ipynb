{
 "cells": [
  {
   "cell_type": "code",
   "execution_count": 1,
   "id": "829bac8b-b790-4113-b595-d8ce641d50fc",
   "metadata": {
    "execution": {
     "iopub.execute_input": "2022-12-18T08:18:25.203191Z",
     "iopub.status.busy": "2022-12-18T08:18:25.202689Z",
     "iopub.status.idle": "2022-12-18T08:18:26.493366Z",
     "shell.execute_reply": "2022-12-18T08:18:26.492422Z",
     "shell.execute_reply.started": "2022-12-18T08:18:25.203066Z"
    },
    "tags": []
   },
   "outputs": [],
   "source": [
    "import pandas as pd\n",
    "import os\n",
    "\n",
    "import numpy as np\n",
    "\n",
    "from sklearn.preprocessing import OneHotEncoder, StandardScaler\n",
    "from sklearn.model_selection import GridSearchCV, train_test_split\n",
    "from sklearn.neighbors import KNeighborsRegressor\n",
    "from sklearn.linear_model import LinearRegression\n",
    "from sklearn.datasets import make_regression\n",
    "\n",
    "from sklearn.metrics import mean_squared_error, mean_absolute_error, r2_score\n",
    "import matplotlib.pyplot as plt"
   ]
  },
  {
   "cell_type": "markdown",
   "id": "730e55f8-8424-459d-8d9f-154ed9c5f7b6",
   "metadata": {},
   "source": [
    "# 1. Скачайте данные по ссылке\n",
    "https://www.kaggle.com/competitions/titanic/data?select=train.csv "
   ]
  },
  {
   "cell_type": "code",
   "execution_count": 2,
   "id": "e54763ec-6e9d-4d55-9e6a-f10a9b76ddde",
   "metadata": {
    "execution": {
     "iopub.execute_input": "2022-12-18T08:18:26.495240Z",
     "iopub.status.busy": "2022-12-18T08:18:26.494751Z",
     "iopub.status.idle": "2022-12-18T08:18:26.510640Z",
     "shell.execute_reply": "2022-12-18T08:18:26.509427Z",
     "shell.execute_reply.started": "2022-12-18T08:18:26.495202Z"
    },
    "tags": []
   },
   "outputs": [
    {
     "data": {
      "text/plain": [
       "['./data/test.csv', './data/train.csv', './data/gender_submission.csv']"
      ]
     },
     "execution_count": 2,
     "metadata": {},
     "output_type": "execute_result"
    }
   ],
   "source": [
    "# имя файла с данными\n",
    "data_file_dir = u\"./data\"\n",
    "data_file_names = [os.path.join(data_file_dir, x) for x in os.listdir(data_file_dir)]\n",
    "data_file_names"
   ]
  },
  {
   "cell_type": "code",
   "execution_count": null,
   "id": "51aa0422-a493-4b27-b7b4-8fb6d228b8db",
   "metadata": {},
   "outputs": [],
   "source": []
  },
  {
   "cell_type": "code",
   "execution_count": null,
   "id": "e40ba4cd-a44c-4110-85ef-3043ff4a9f17",
   "metadata": {},
   "outputs": [],
   "source": []
  },
  {
   "cell_type": "code",
   "execution_count": null,
   "id": "6f9e5bdc-8b35-433a-9678-5f5c30249099",
   "metadata": {},
   "outputs": [],
   "source": []
  },
  {
   "cell_type": "code",
   "execution_count": 3,
   "id": "ac5ccf6f-acbd-4f42-97c9-b94534ad4112",
   "metadata": {
    "execution": {
     "iopub.execute_input": "2022-12-18T08:18:26.512587Z",
     "iopub.status.busy": "2022-12-18T08:18:26.512157Z",
     "iopub.status.idle": "2022-12-18T08:18:26.927219Z",
     "shell.execute_reply": "2022-12-18T08:18:26.926408Z",
     "shell.execute_reply.started": "2022-12-18T08:18:26.512550Z"
    },
    "tags": []
   },
   "outputs": [
    {
     "name": "stdout",
     "output_type": "stream",
     "text": [
      "==Данные и их структура из файла train\n",
      "(891, 12)\n",
      "<class 'pandas.core.frame.DataFrame'>\n",
      "RangeIndex: 891 entries, 0 to 890\n",
      "Data columns (total 12 columns):\n",
      " #   Column       Non-Null Count  Dtype  \n",
      "---  ------       --------------  -----  \n",
      " 0   PassengerId  891 non-null    int64  \n",
      " 1   Survived     891 non-null    int64  \n",
      " 2   Pclass       891 non-null    int64  \n",
      " 3   Name         891 non-null    object \n",
      " 4   Sex          891 non-null    object \n",
      " 5   Age          714 non-null    float64\n",
      " 6   SibSp        891 non-null    int64  \n",
      " 7   Parch        891 non-null    int64  \n",
      " 8   Ticket       891 non-null    object \n",
      " 9   Fare         891 non-null    float64\n",
      " 10  Cabin        204 non-null    object \n",
      " 11  Embarked     889 non-null    object \n",
      "dtypes: float64(2), int64(5), object(5)\n",
      "memory usage: 83.7+ KB\n",
      "None\n"
     ]
    },
    {
     "data": {
      "text/html": [
       "<div>\n",
       "<style scoped>\n",
       "    .dataframe tbody tr th:only-of-type {\n",
       "        vertical-align: middle;\n",
       "    }\n",
       "\n",
       "    .dataframe tbody tr th {\n",
       "        vertical-align: top;\n",
       "    }\n",
       "\n",
       "    .dataframe thead th {\n",
       "        text-align: right;\n",
       "    }\n",
       "</style>\n",
       "<table border=\"1\" class=\"dataframe\">\n",
       "  <thead>\n",
       "    <tr style=\"text-align: right;\">\n",
       "      <th></th>\n",
       "      <th>PassengerId</th>\n",
       "      <th>Survived</th>\n",
       "      <th>Pclass</th>\n",
       "      <th>Name</th>\n",
       "      <th>Sex</th>\n",
       "      <th>Age</th>\n",
       "      <th>SibSp</th>\n",
       "      <th>Parch</th>\n",
       "      <th>Ticket</th>\n",
       "      <th>Fare</th>\n",
       "      <th>Cabin</th>\n",
       "      <th>Embarked</th>\n",
       "    </tr>\n",
       "  </thead>\n",
       "  <tbody>\n",
       "    <tr>\n",
       "      <th>419</th>\n",
       "      <td>420</td>\n",
       "      <td>0</td>\n",
       "      <td>3</td>\n",
       "      <td>Van Impe, Miss. Catharina</td>\n",
       "      <td>female</td>\n",
       "      <td>10.0</td>\n",
       "      <td>0</td>\n",
       "      <td>2</td>\n",
       "      <td>345773</td>\n",
       "      <td>24.1500</td>\n",
       "      <td>NaN</td>\n",
       "      <td>S</td>\n",
       "    </tr>\n",
       "    <tr>\n",
       "      <th>484</th>\n",
       "      <td>485</td>\n",
       "      <td>1</td>\n",
       "      <td>1</td>\n",
       "      <td>Bishop, Mr. Dickinson H</td>\n",
       "      <td>male</td>\n",
       "      <td>25.0</td>\n",
       "      <td>1</td>\n",
       "      <td>0</td>\n",
       "      <td>11967</td>\n",
       "      <td>91.0792</td>\n",
       "      <td>B49</td>\n",
       "      <td>C</td>\n",
       "    </tr>\n",
       "    <tr>\n",
       "      <th>204</th>\n",
       "      <td>205</td>\n",
       "      <td>1</td>\n",
       "      <td>3</td>\n",
       "      <td>Cohen, Mr. Gurshon \"Gus\"</td>\n",
       "      <td>male</td>\n",
       "      <td>18.0</td>\n",
       "      <td>0</td>\n",
       "      <td>0</td>\n",
       "      <td>A/5 3540</td>\n",
       "      <td>8.0500</td>\n",
       "      <td>NaN</td>\n",
       "      <td>S</td>\n",
       "    </tr>\n",
       "    <tr>\n",
       "      <th>349</th>\n",
       "      <td>350</td>\n",
       "      <td>0</td>\n",
       "      <td>3</td>\n",
       "      <td>Dimic, Mr. Jovan</td>\n",
       "      <td>male</td>\n",
       "      <td>42.0</td>\n",
       "      <td>0</td>\n",
       "      <td>0</td>\n",
       "      <td>315088</td>\n",
       "      <td>8.6625</td>\n",
       "      <td>NaN</td>\n",
       "      <td>S</td>\n",
       "    </tr>\n",
       "    <tr>\n",
       "      <th>391</th>\n",
       "      <td>392</td>\n",
       "      <td>1</td>\n",
       "      <td>3</td>\n",
       "      <td>Jansson, Mr. Carl Olof</td>\n",
       "      <td>male</td>\n",
       "      <td>21.0</td>\n",
       "      <td>0</td>\n",
       "      <td>0</td>\n",
       "      <td>350034</td>\n",
       "      <td>7.7958</td>\n",
       "      <td>NaN</td>\n",
       "      <td>S</td>\n",
       "    </tr>\n",
       "    <tr>\n",
       "      <th>791</th>\n",
       "      <td>792</td>\n",
       "      <td>0</td>\n",
       "      <td>2</td>\n",
       "      <td>Gaskell, Mr. Alfred</td>\n",
       "      <td>male</td>\n",
       "      <td>16.0</td>\n",
       "      <td>0</td>\n",
       "      <td>0</td>\n",
       "      <td>239865</td>\n",
       "      <td>26.0000</td>\n",
       "      <td>NaN</td>\n",
       "      <td>S</td>\n",
       "    </tr>\n",
       "    <tr>\n",
       "      <th>127</th>\n",
       "      <td>128</td>\n",
       "      <td>1</td>\n",
       "      <td>3</td>\n",
       "      <td>Madsen, Mr. Fridtjof Arne</td>\n",
       "      <td>male</td>\n",
       "      <td>24.0</td>\n",
       "      <td>0</td>\n",
       "      <td>0</td>\n",
       "      <td>C 17369</td>\n",
       "      <td>7.1417</td>\n",
       "      <td>NaN</td>\n",
       "      <td>S</td>\n",
       "    </tr>\n",
       "  </tbody>\n",
       "</table>\n",
       "</div>"
      ],
      "text/plain": [
       "     PassengerId  Survived  Pclass                       Name     Sex   Age  \\\n",
       "419          420         0       3  Van Impe, Miss. Catharina  female  10.0   \n",
       "484          485         1       1    Bishop, Mr. Dickinson H    male  25.0   \n",
       "204          205         1       3   Cohen, Mr. Gurshon \"Gus\"    male  18.0   \n",
       "349          350         0       3           Dimic, Mr. Jovan    male  42.0   \n",
       "391          392         1       3     Jansson, Mr. Carl Olof    male  21.0   \n",
       "791          792         0       2        Gaskell, Mr. Alfred    male  16.0   \n",
       "127          128         1       3  Madsen, Mr. Fridtjof Arne    male  24.0   \n",
       "\n",
       "     SibSp  Parch    Ticket     Fare Cabin Embarked  \n",
       "419      0      2    345773  24.1500   NaN        S  \n",
       "484      1      0     11967  91.0792   B49        C  \n",
       "204      0      0  A/5 3540   8.0500   NaN        S  \n",
       "349      0      0    315088   8.6625   NaN        S  \n",
       "391      0      0    350034   7.7958   NaN        S  \n",
       "791      0      0    239865  26.0000   NaN        S  \n",
       "127      0      0   C 17369   7.1417   NaN        S  "
      ]
     },
     "execution_count": 3,
     "metadata": {},
     "output_type": "execute_result"
    }
   ],
   "source": [
    "# данные и их структура\n",
    "print(\"==Данные и их структура из файла train\")\n",
    "data = pd.read_csv(data_file_names[1])\n",
    "print(data.shape)\n",
    "print(data.info())\n",
    "data.sample(7)"
   ]
  },
  {
   "cell_type": "code",
   "execution_count": 61,
   "id": "8cc6a69a-0fda-4173-9560-49d48b88928f",
   "metadata": {
    "execution": {
     "iopub.execute_input": "2022-12-18T09:38:59.839017Z",
     "iopub.status.busy": "2022-12-18T09:38:59.837621Z",
     "iopub.status.idle": "2022-12-18T09:38:59.865737Z",
     "shell.execute_reply": "2022-12-18T09:38:59.864235Z",
     "shell.execute_reply.started": "2022-12-18T09:38:59.838960Z"
    },
    "tags": []
   },
   "outputs": [
    {
     "name": "stdout",
     "output_type": "stream",
     "text": [
      "(891, 12)\n"
     ]
    },
    {
     "data": {
      "text/plain": [
       "PassengerId    891\n",
       "Survived         2\n",
       "Pclass           3\n",
       "Name           891\n",
       "Sex              2\n",
       "Age             88\n",
       "SibSp            7\n",
       "Parch            7\n",
       "Ticket         681\n",
       "Fare           248\n",
       "Cabin          147\n",
       "Embarked         3\n",
       "dtype: int64"
      ]
     },
     "execution_count": 61,
     "metadata": {},
     "output_type": "execute_result"
    }
   ],
   "source": [
    "# количество уникальных значений по каждому из признаков\n",
    "print(data.shape)\n",
    "data.nunique()"
   ]
  },
  {
   "cell_type": "code",
   "execution_count": 5,
   "id": "df987dca-1c63-4a6a-98e1-7e4765649b54",
   "metadata": {
    "execution": {
     "iopub.execute_input": "2022-12-18T08:18:27.094101Z",
     "iopub.status.busy": "2022-12-18T08:18:27.093664Z",
     "iopub.status.idle": "2022-12-18T08:18:27.230110Z",
     "shell.execute_reply": "2022-12-18T08:18:27.228354Z",
     "shell.execute_reply.started": "2022-12-18T08:18:27.094065Z"
    },
    "tags": []
   },
   "outputs": [
    {
     "data": {
      "text/plain": [
       "0    0.616162\n",
       "1    0.383838\n",
       "Name: Survived, dtype: float64"
      ]
     },
     "execution_count": 5,
     "metadata": {},
     "output_type": "execute_result"
    }
   ],
   "source": [
    "# баланс целевого признака \n",
    "data['Survived'].value_counts(normalize=True)"
   ]
  },
  {
   "cell_type": "markdown",
   "id": "32a31d62-8ffc-4ea2-84fa-8a5929bfec20",
   "metadata": {
    "execution": {
     "iopub.execute_input": "2022-12-18T07:31:56.231085Z",
     "iopub.status.busy": "2022-12-18T07:31:56.229740Z",
     "iopub.status.idle": "2022-12-18T07:31:56.237450Z",
     "shell.execute_reply": "2022-12-18T07:31:56.235673Z",
     "shell.execute_reply.started": "2022-12-18T07:31:56.231031Z"
    },
    "tags": []
   },
   "source": [
    "# 2. Исключите признаки, которые на ваш взгляд, могут привести к переобучению \n",
    "(например, id)."
   ]
  },
  {
   "cell_type": "code",
   "execution_count": 7,
   "id": "0d35fa63-b75e-41ef-bd04-626b99408f1b",
   "metadata": {
    "execution": {
     "iopub.execute_input": "2022-12-18T08:18:49.632197Z",
     "iopub.status.busy": "2022-12-18T08:18:49.631652Z",
     "iopub.status.idle": "2022-12-18T08:18:49.645871Z",
     "shell.execute_reply": "2022-12-18T08:18:49.643814Z",
     "shell.execute_reply.started": "2022-12-18T08:18:49.632163Z"
    },
    "tags": []
   },
   "outputs": [
    {
     "name": "stdout",
     "output_type": "stream",
     "text": [
      "==Исходный набор признаков:\n"
     ]
    },
    {
     "data": {
      "text/plain": [
       "['PassengerId',\n",
       " 'Survived',\n",
       " 'Pclass',\n",
       " 'Name',\n",
       " 'Sex',\n",
       " 'Age',\n",
       " 'SibSp',\n",
       " 'Parch',\n",
       " 'Ticket',\n",
       " 'Fare',\n",
       " 'Cabin',\n",
       " 'Embarked']"
      ]
     },
     "execution_count": 7,
     "metadata": {},
     "output_type": "execute_result"
    }
   ],
   "source": [
    "print(\"==Исходный набор признаков:\")\n",
    "features = data.columns\n",
    "list(features)"
   ]
  },
  {
   "cell_type": "code",
   "execution_count": 63,
   "id": "667a0c15-2aa9-4e34-b75a-62d03f221b93",
   "metadata": {
    "execution": {
     "iopub.execute_input": "2022-12-18T09:46:48.467152Z",
     "iopub.status.busy": "2022-12-18T09:46:48.465764Z",
     "iopub.status.idle": "2022-12-18T09:46:48.484632Z",
     "shell.execute_reply": "2022-12-18T09:46:48.482915Z",
     "shell.execute_reply.started": "2022-12-18T09:46:48.467098Z"
    },
    "tags": []
   },
   "outputs": [
    {
     "name": "stdout",
     "output_type": "stream",
     "text": [
      "==Набор признаков для обучения:\n"
     ]
    },
    {
     "data": {
      "text/plain": [
       "['Pclass', 'Sex', 'Age', 'SibSp', 'Parch', 'Fare', 'Cabin', 'Embarked']"
      ]
     },
     "execution_count": 63,
     "metadata": {},
     "output_type": "execute_result"
    }
   ],
   "source": [
    "print(\"==Набор признаков для обучения:\")\n",
    "# \n",
    "good_features = \\\n",
    "[\\\n",
    " # 'PassengerId',\n",
    " # 'Survived', # Выживание 0 = Нет, 1 = Да\n",
    " 'Pclass', # Класс билета 1 = 1-й, 2 = 2-й, 3 = 3-й\n",
    " # 'Name',  # имя\n",
    " 'Sex',    # пол\n",
    " 'Age',    # возраст в годах\n",
    " 'SibSp',   # Количество братьев и сестер / супругов на борту \"Титаника\"\n",
    " 'Parch',   # Количество родителей / детей на борту \"Титаника\"\n",
    " # 'Ticket', # номер билета\n",
    " 'Fare',  # тариф\n",
    " 'Cabin', # номер каюты\n",
    " 'Embarked' # Порт посадки C = Шербур, Q = Квинстаун, S = Саутгемптон\n",
    "]\n",
    "\n",
    "good_features"
   ]
  },
  {
   "cell_type": "markdown",
   "id": "f11a9d60-4350-4bc6-a884-7ada02842b24",
   "metadata": {},
   "source": [
    "# 3. Разделите выборку на train и test."
   ]
  },
  {
   "cell_type": "code",
   "execution_count": 17,
   "id": "c87c58d5-49cd-484c-a74e-27e2bfcb98e7",
   "metadata": {
    "execution": {
     "iopub.execute_input": "2022-12-18T08:25:57.738249Z",
     "iopub.status.busy": "2022-12-18T08:25:57.737206Z",
     "iopub.status.idle": "2022-12-18T08:25:57.744902Z",
     "shell.execute_reply": "2022-12-18T08:25:57.743708Z",
     "shell.execute_reply.started": "2022-12-18T08:25:57.738197Z"
    },
    "tags": []
   },
   "outputs": [],
   "source": [
    "X = data[good_features]\n",
    "y = data['Survived']"
   ]
  },
  {
   "cell_type": "code",
   "execution_count": 18,
   "id": "03cb66ba-9b29-4756-b7f7-d995c2d26880",
   "metadata": {
    "execution": {
     "iopub.execute_input": "2022-12-18T08:26:00.626023Z",
     "iopub.status.busy": "2022-12-18T08:26:00.625216Z",
     "iopub.status.idle": "2022-12-18T08:26:00.634272Z",
     "shell.execute_reply": "2022-12-18T08:26:00.632856Z",
     "shell.execute_reply.started": "2022-12-18T08:26:00.625971Z"
    },
    "tags": []
   },
   "outputs": [],
   "source": [
    "X_train, X_test, y_train, y_test = train_test_split(X, y,  random_state=11)"
   ]
  },
  {
   "cell_type": "markdown",
   "id": "f5e311ba-e0f5-4a03-866d-055eea57d8b6",
   "metadata": {},
   "source": [
    "# 4. Преобразуйте признаки\n",
    " категориальные признаки с помощью sklearn.preprocessing.OneHotEncoder, \n",
    " \n",
    " а некатегориальные с помощью sklearn.preprocessing.StandardScaler (на следующем занятии расскажем, зачем это нужно)"
   ]
  },
  {
   "cell_type": "code",
   "execution_count": 58,
   "id": "efc557cd-e90b-43cb-b85b-390531b9e2ec",
   "metadata": {
    "execution": {
     "iopub.execute_input": "2022-12-18T09:33:43.321138Z",
     "iopub.status.busy": "2022-12-18T09:33:43.319882Z",
     "iopub.status.idle": "2022-12-18T09:33:43.361252Z",
     "shell.execute_reply": "2022-12-18T09:33:43.360018Z",
     "shell.execute_reply.started": "2022-12-18T09:33:43.321068Z"
    },
    "tags": []
   },
   "outputs": [
    {
     "data": {
      "text/html": [
       "<div>\n",
       "<style scoped>\n",
       "    .dataframe tbody tr th:only-of-type {\n",
       "        vertical-align: middle;\n",
       "    }\n",
       "\n",
       "    .dataframe tbody tr th {\n",
       "        vertical-align: top;\n",
       "    }\n",
       "\n",
       "    .dataframe thead th {\n",
       "        text-align: right;\n",
       "    }\n",
       "</style>\n",
       "<table border=\"1\" class=\"dataframe\">\n",
       "  <thead>\n",
       "    <tr style=\"text-align: right;\">\n",
       "      <th></th>\n",
       "      <th>Pclass</th>\n",
       "      <th>Sex</th>\n",
       "      <th>Age</th>\n",
       "      <th>SibSp</th>\n",
       "      <th>Parch</th>\n",
       "      <th>Fare</th>\n",
       "      <th>Cabin</th>\n",
       "      <th>Embarked</th>\n",
       "    </tr>\n",
       "  </thead>\n",
       "  <tbody>\n",
       "    <tr>\n",
       "      <th>417</th>\n",
       "      <td>2</td>\n",
       "      <td>female</td>\n",
       "      <td>18.0</td>\n",
       "      <td>0</td>\n",
       "      <td>2</td>\n",
       "      <td>13.0000</td>\n",
       "      <td>NaN</td>\n",
       "      <td>S</td>\n",
       "    </tr>\n",
       "    <tr>\n",
       "      <th>550</th>\n",
       "      <td>1</td>\n",
       "      <td>male</td>\n",
       "      <td>17.0</td>\n",
       "      <td>0</td>\n",
       "      <td>2</td>\n",
       "      <td>110.8833</td>\n",
       "      <td>C70</td>\n",
       "      <td>C</td>\n",
       "    </tr>\n",
       "    <tr>\n",
       "      <th>846</th>\n",
       "      <td>3</td>\n",
       "      <td>male</td>\n",
       "      <td>NaN</td>\n",
       "      <td>8</td>\n",
       "      <td>2</td>\n",
       "      <td>69.5500</td>\n",
       "      <td>NaN</td>\n",
       "      <td>S</td>\n",
       "    </tr>\n",
       "    <tr>\n",
       "      <th>795</th>\n",
       "      <td>2</td>\n",
       "      <td>male</td>\n",
       "      <td>39.0</td>\n",
       "      <td>0</td>\n",
       "      <td>0</td>\n",
       "      <td>13.0000</td>\n",
       "      <td>NaN</td>\n",
       "      <td>S</td>\n",
       "    </tr>\n",
       "    <tr>\n",
       "      <th>820</th>\n",
       "      <td>1</td>\n",
       "      <td>female</td>\n",
       "      <td>52.0</td>\n",
       "      <td>1</td>\n",
       "      <td>1</td>\n",
       "      <td>93.5000</td>\n",
       "      <td>B69</td>\n",
       "      <td>S</td>\n",
       "    </tr>\n",
       "  </tbody>\n",
       "</table>\n",
       "</div>"
      ],
      "text/plain": [
       "     Pclass     Sex   Age  SibSp  Parch      Fare Cabin Embarked\n",
       "417       2  female  18.0      0      2   13.0000   NaN        S\n",
       "550       1    male  17.0      0      2  110.8833   C70        C\n",
       "846       3    male   NaN      8      2   69.5500   NaN        S\n",
       "795       2    male  39.0      0      0   13.0000   NaN        S\n",
       "820       1  female  52.0      1      1   93.5000   B69        S"
      ]
     },
     "execution_count": 58,
     "metadata": {},
     "output_type": "execute_result"
    }
   ],
   "source": [
    "X_train.sample(5)"
   ]
  },
  {
   "cell_type": "code",
   "execution_count": 60,
   "id": "c95f9229-43e9-46ff-bec0-999106c52ba8",
   "metadata": {
    "execution": {
     "iopub.execute_input": "2022-12-18T09:34:37.866102Z",
     "iopub.status.busy": "2022-12-18T09:34:37.865653Z",
     "iopub.status.idle": "2022-12-18T09:34:37.901839Z",
     "shell.execute_reply": "2022-12-18T09:34:37.899414Z",
     "shell.execute_reply.started": "2022-12-18T09:34:37.866065Z"
    },
    "tags": []
   },
   "outputs": [
    {
     "data": {
      "text/html": [
       "<div>\n",
       "<style scoped>\n",
       "    .dataframe tbody tr th:only-of-type {\n",
       "        vertical-align: middle;\n",
       "    }\n",
       "\n",
       "    .dataframe tbody tr th {\n",
       "        vertical-align: top;\n",
       "    }\n",
       "\n",
       "    .dataframe thead th {\n",
       "        text-align: right;\n",
       "    }\n",
       "</style>\n",
       "<table border=\"1\" class=\"dataframe\">\n",
       "  <thead>\n",
       "    <tr style=\"text-align: right;\">\n",
       "      <th></th>\n",
       "      <th>Pclass</th>\n",
       "      <th>Sex</th>\n",
       "      <th>Age</th>\n",
       "      <th>SibSp</th>\n",
       "      <th>Parch</th>\n",
       "      <th>Fare</th>\n",
       "      <th>Cabin</th>\n",
       "      <th>Embarked</th>\n",
       "      <th>OHE_SEX</th>\n",
       "    </tr>\n",
       "  </thead>\n",
       "  <tbody>\n",
       "    <tr>\n",
       "      <th>866</th>\n",
       "      <td>2</td>\n",
       "      <td>female</td>\n",
       "      <td>27.0</td>\n",
       "      <td>1</td>\n",
       "      <td>0</td>\n",
       "      <td>13.8583</td>\n",
       "      <td>NaN</td>\n",
       "      <td>C</td>\n",
       "      <td>[1.0, 0.0]</td>\n",
       "    </tr>\n",
       "    <tr>\n",
       "      <th>574</th>\n",
       "      <td>3</td>\n",
       "      <td>male</td>\n",
       "      <td>16.0</td>\n",
       "      <td>0</td>\n",
       "      <td>0</td>\n",
       "      <td>8.0500</td>\n",
       "      <td>NaN</td>\n",
       "      <td>S</td>\n",
       "      <td>[0.0, 1.0]</td>\n",
       "    </tr>\n",
       "    <tr>\n",
       "      <th>182</th>\n",
       "      <td>3</td>\n",
       "      <td>male</td>\n",
       "      <td>9.0</td>\n",
       "      <td>4</td>\n",
       "      <td>2</td>\n",
       "      <td>31.3875</td>\n",
       "      <td>NaN</td>\n",
       "      <td>S</td>\n",
       "      <td>[0.0, 1.0]</td>\n",
       "    </tr>\n",
       "    <tr>\n",
       "      <th>391</th>\n",
       "      <td>3</td>\n",
       "      <td>male</td>\n",
       "      <td>21.0</td>\n",
       "      <td>0</td>\n",
       "      <td>0</td>\n",
       "      <td>7.7958</td>\n",
       "      <td>NaN</td>\n",
       "      <td>S</td>\n",
       "      <td>[0.0, 1.0]</td>\n",
       "    </tr>\n",
       "    <tr>\n",
       "      <th>884</th>\n",
       "      <td>3</td>\n",
       "      <td>male</td>\n",
       "      <td>25.0</td>\n",
       "      <td>0</td>\n",
       "      <td>0</td>\n",
       "      <td>7.0500</td>\n",
       "      <td>NaN</td>\n",
       "      <td>S</td>\n",
       "      <td>[0.0, 1.0]</td>\n",
       "    </tr>\n",
       "  </tbody>\n",
       "</table>\n",
       "</div>"
      ],
      "text/plain": [
       "     Pclass     Sex   Age  SibSp  Parch     Fare Cabin Embarked     OHE_SEX\n",
       "866       2  female  27.0      1      0  13.8583   NaN        C  [1.0, 0.0]\n",
       "574       3    male  16.0      0      0   8.0500   NaN        S  [0.0, 1.0]\n",
       "182       3    male   9.0      4      2  31.3875   NaN        S  [0.0, 1.0]\n",
       "391       3    male  21.0      0      0   7.7958   NaN        S  [0.0, 1.0]\n",
       "884       3    male  25.0      0      0   7.0500   NaN        S  [0.0, 1.0]"
      ]
     },
     "execution_count": 60,
     "metadata": {},
     "output_type": "execute_result"
    }
   ],
   "source": [
    "# категориальные признаки с помощью sklearn.preprocessing.OneHotEncoder,\n",
    "ohe = OneHotEncoder()\n",
    "z=ohe.fit_transform(X_train[['Sex']]).toarray()\n",
    "X_train[\"OHE_SEX\"] = list(z)\n",
    "X_train.sample(5)"
   ]
  },
  {
   "cell_type": "code",
   "execution_count": 39,
   "id": "c8bcd599-4b9f-4105-b541-75b21e3cd402",
   "metadata": {
    "execution": {
     "iopub.execute_input": "2022-12-18T09:27:48.734051Z",
     "iopub.status.busy": "2022-12-18T09:27:48.733158Z",
     "iopub.status.idle": "2022-12-18T09:27:48.747963Z",
     "shell.execute_reply": "2022-12-18T09:27:48.746843Z",
     "shell.execute_reply.started": "2022-12-18T09:27:48.734007Z"
    },
    "tags": []
   },
   "outputs": [
    {
     "data": {
      "text/html": [
       "<div>\n",
       "<style scoped>\n",
       "    .dataframe tbody tr th:only-of-type {\n",
       "        vertical-align: middle;\n",
       "    }\n",
       "\n",
       "    .dataframe tbody tr th {\n",
       "        vertical-align: top;\n",
       "    }\n",
       "\n",
       "    .dataframe thead th {\n",
       "        text-align: right;\n",
       "    }\n",
       "</style>\n",
       "<table border=\"1\" class=\"dataframe\">\n",
       "  <thead>\n",
       "    <tr style=\"text-align: right;\">\n",
       "      <th></th>\n",
       "      <th>Sex</th>\n",
       "    </tr>\n",
       "  </thead>\n",
       "  <tbody>\n",
       "    <tr>\n",
       "      <th>731</th>\n",
       "      <td>male</td>\n",
       "    </tr>\n",
       "    <tr>\n",
       "      <th>820</th>\n",
       "      <td>female</td>\n",
       "    </tr>\n",
       "    <tr>\n",
       "      <th>272</th>\n",
       "      <td>female</td>\n",
       "    </tr>\n",
       "    <tr>\n",
       "      <th>420</th>\n",
       "      <td>male</td>\n",
       "    </tr>\n",
       "    <tr>\n",
       "      <th>214</th>\n",
       "      <td>male</td>\n",
       "    </tr>\n",
       "    <tr>\n",
       "      <th>...</th>\n",
       "      <td>...</td>\n",
       "    </tr>\n",
       "    <tr>\n",
       "      <th>269</th>\n",
       "      <td>female</td>\n",
       "    </tr>\n",
       "    <tr>\n",
       "      <th>337</th>\n",
       "      <td>female</td>\n",
       "    </tr>\n",
       "    <tr>\n",
       "      <th>91</th>\n",
       "      <td>male</td>\n",
       "    </tr>\n",
       "    <tr>\n",
       "      <th>80</th>\n",
       "      <td>male</td>\n",
       "    </tr>\n",
       "    <tr>\n",
       "      <th>703</th>\n",
       "      <td>male</td>\n",
       "    </tr>\n",
       "  </tbody>\n",
       "</table>\n",
       "<p>668 rows × 1 columns</p>\n",
       "</div>"
      ],
      "text/plain": [
       "        Sex\n",
       "731    male\n",
       "820  female\n",
       "272  female\n",
       "420    male\n",
       "214    male\n",
       "..      ...\n",
       "269  female\n",
       "337  female\n",
       "91     male\n",
       "80     male\n",
       "703    male\n",
       "\n",
       "[668 rows x 1 columns]"
      ]
     },
     "execution_count": 39,
     "metadata": {},
     "output_type": "execute_result"
    }
   ],
   "source": [
    "X_train[['Sex']]"
   ]
  },
  {
   "cell_type": "code",
   "execution_count": 31,
   "id": "667db5e7-ff5a-4cfd-a841-7ccf451381e2",
   "metadata": {
    "execution": {
     "iopub.execute_input": "2022-12-18T09:17:03.405000Z",
     "iopub.status.busy": "2022-12-18T09:17:03.403671Z",
     "iopub.status.idle": "2022-12-18T09:17:03.417829Z",
     "shell.execute_reply": "2022-12-18T09:17:03.415858Z",
     "shell.execute_reply.started": "2022-12-18T09:17:03.404925Z"
    },
    "tags": []
   },
   "outputs": [
    {
     "data": {
      "text/plain": [
       "731      male\n",
       "820    female\n",
       "272    female\n",
       "420      male\n",
       "214      male\n",
       "        ...  \n",
       "269    female\n",
       "337    female\n",
       "91       male\n",
       "80       male\n",
       "703      male\n",
       "Name: Sex, Length: 668, dtype: object"
      ]
     },
     "execution_count": 31,
     "metadata": {},
     "output_type": "execute_result"
    }
   ],
   "source": [
    "X_train['Sex']\n"
   ]
  }
 ],
 "metadata": {
  "kernelspec": {
   "display_name": "Python 3 (ipykernel)",
   "language": "python",
   "name": "python3"
  },
  "language_info": {
   "codemirror_mode": {
    "name": "ipython",
    "version": 3
   },
   "file_extension": ".py",
   "mimetype": "text/x-python",
   "name": "python",
   "nbconvert_exporter": "python",
   "pygments_lexer": "ipython3",
   "version": "3.10.6"
  }
 },
 "nbformat": 4,
 "nbformat_minor": 5
}
