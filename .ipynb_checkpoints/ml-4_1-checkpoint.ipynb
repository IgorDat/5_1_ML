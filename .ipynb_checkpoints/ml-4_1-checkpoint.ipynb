{
 "cells": [
  {
   "cell_type": "code",
   "execution_count": 1,
   "id": "829bac8b-b790-4113-b595-d8ce641d50fc",
   "metadata": {
    "execution": {
     "iopub.execute_input": "2022-12-22T13:01:33.510968Z",
     "iopub.status.busy": "2022-12-22T13:01:33.510532Z",
     "iopub.status.idle": "2022-12-22T13:01:34.719503Z",
     "shell.execute_reply": "2022-12-22T13:01:34.718661Z",
     "shell.execute_reply.started": "2022-12-22T13:01:33.510868Z"
    },
    "tags": []
   },
   "outputs": [],
   "source": [
    "import pandas as pd\n",
    "import os\n",
    "\n",
    "import numpy as np\n",
    "\n",
    "from sklearn.preprocessing import OneHotEncoder, StandardScaler\n",
    "from sklearn.model_selection import GridSearchCV, train_test_split\n",
    "from sklearn.neighbors import KNeighborsRegressor\n",
    "from sklearn.linear_model import LinearRegression\n",
    "from sklearn.datasets import make_regression\n",
    "# классификаторы\n",
    "from sklearn.linear_model import LogisticRegression\n",
    "from sklearn.neighbors import KNeighborsClassifier\n",
    "from sklearn.model_selection import RandomizedSearchCV\n",
    "\n",
    "from sklearn.metrics import mean_squared_error, mean_absolute_error, r2_score\n",
    "import matplotlib.pyplot as plt\n",
    "# метрики классификации\n",
    "from sklearn.metrics import confusion_matrix, accuracy_score, precision_score, recall_score, precision_recall_curve\n",
    "\n"
   ]
  },
  {
   "cell_type": "markdown",
   "id": "730e55f8-8424-459d-8d9f-154ed9c5f7b6",
   "metadata": {},
   "source": [
    "# 1. Скачайте данные по ссылке\n",
    "https://www.kaggle.com/competitions/titanic/data?select=train.csv "
   ]
  },
  {
   "cell_type": "code",
   "execution_count": 2,
   "id": "e54763ec-6e9d-4d55-9e6a-f10a9b76ddde",
   "metadata": {
    "execution": {
     "iopub.execute_input": "2022-12-22T13:01:34.720870Z",
     "iopub.status.busy": "2022-12-22T13:01:34.720518Z",
     "iopub.status.idle": "2022-12-22T13:01:34.733570Z",
     "shell.execute_reply": "2022-12-22T13:01:34.732801Z",
     "shell.execute_reply.started": "2022-12-22T13:01:34.720847Z"
    },
    "tags": []
   },
   "outputs": [
    {
     "data": {
      "text/plain": [
       "['./data/test.csv', './data/train.csv', './data/gender_submission.csv']"
      ]
     },
     "execution_count": 2,
     "metadata": {},
     "output_type": "execute_result"
    }
   ],
   "source": [
    "# имя файла с данными\n",
    "data_file_dir = u\"./data\"\n",
    "data_file_names = [os.path.join(data_file_dir, x) for x in os.listdir(data_file_dir)]\n",
    "data_file_names"
   ]
  },
  {
   "cell_type": "code",
   "execution_count": 3,
   "id": "ac5ccf6f-acbd-4f42-97c9-b94534ad4112",
   "metadata": {
    "execution": {
     "iopub.execute_input": "2022-12-22T13:01:34.736866Z",
     "iopub.status.busy": "2022-12-22T13:01:34.736011Z",
     "iopub.status.idle": "2022-12-22T13:01:34.766018Z",
     "shell.execute_reply": "2022-12-22T13:01:34.764998Z",
     "shell.execute_reply.started": "2022-12-22T13:01:34.736830Z"
    },
    "tags": []
   },
   "outputs": [
    {
     "name": "stdout",
     "output_type": "stream",
     "text": [
      "==Данные и их структура из файла train\n",
      "(891, 12)\n",
      "<class 'pandas.core.frame.DataFrame'>\n",
      "RangeIndex: 891 entries, 0 to 890\n",
      "Data columns (total 12 columns):\n",
      " #   Column       Non-Null Count  Dtype  \n",
      "---  ------       --------------  -----  \n",
      " 0   PassengerId  891 non-null    int64  \n",
      " 1   Survived     891 non-null    int64  \n",
      " 2   Pclass       891 non-null    int64  \n",
      " 3   Name         891 non-null    object \n",
      " 4   Sex          891 non-null    object \n",
      " 5   Age          714 non-null    float64\n",
      " 6   SibSp        891 non-null    int64  \n",
      " 7   Parch        891 non-null    int64  \n",
      " 8   Ticket       891 non-null    object \n",
      " 9   Fare         891 non-null    float64\n",
      " 10  Cabin        204 non-null    object \n",
      " 11  Embarked     889 non-null    object \n",
      "dtypes: float64(2), int64(5), object(5)\n",
      "memory usage: 83.7+ KB\n",
      "None\n"
     ]
    },
    {
     "data": {
      "text/html": [
       "<div>\n",
       "<style scoped>\n",
       "    .dataframe tbody tr th:only-of-type {\n",
       "        vertical-align: middle;\n",
       "    }\n",
       "\n",
       "    .dataframe tbody tr th {\n",
       "        vertical-align: top;\n",
       "    }\n",
       "\n",
       "    .dataframe thead th {\n",
       "        text-align: right;\n",
       "    }\n",
       "</style>\n",
       "<table border=\"1\" class=\"dataframe\">\n",
       "  <thead>\n",
       "    <tr style=\"text-align: right;\">\n",
       "      <th></th>\n",
       "      <th>PassengerId</th>\n",
       "      <th>Survived</th>\n",
       "      <th>Pclass</th>\n",
       "      <th>Name</th>\n",
       "      <th>Sex</th>\n",
       "      <th>Age</th>\n",
       "      <th>SibSp</th>\n",
       "      <th>Parch</th>\n",
       "      <th>Ticket</th>\n",
       "      <th>Fare</th>\n",
       "      <th>Cabin</th>\n",
       "      <th>Embarked</th>\n",
       "    </tr>\n",
       "  </thead>\n",
       "  <tbody>\n",
       "    <tr>\n",
       "      <th>860</th>\n",
       "      <td>861</td>\n",
       "      <td>0</td>\n",
       "      <td>3</td>\n",
       "      <td>Hansen, Mr. Claus Peter</td>\n",
       "      <td>male</td>\n",
       "      <td>41.0</td>\n",
       "      <td>2</td>\n",
       "      <td>0</td>\n",
       "      <td>350026</td>\n",
       "      <td>14.1083</td>\n",
       "      <td>NaN</td>\n",
       "      <td>S</td>\n",
       "    </tr>\n",
       "    <tr>\n",
       "      <th>541</th>\n",
       "      <td>542</td>\n",
       "      <td>0</td>\n",
       "      <td>3</td>\n",
       "      <td>Andersson, Miss. Ingeborg Constanzia</td>\n",
       "      <td>female</td>\n",
       "      <td>9.0</td>\n",
       "      <td>4</td>\n",
       "      <td>2</td>\n",
       "      <td>347082</td>\n",
       "      <td>31.2750</td>\n",
       "      <td>NaN</td>\n",
       "      <td>S</td>\n",
       "    </tr>\n",
       "    <tr>\n",
       "      <th>393</th>\n",
       "      <td>394</td>\n",
       "      <td>1</td>\n",
       "      <td>1</td>\n",
       "      <td>Newell, Miss. Marjorie</td>\n",
       "      <td>female</td>\n",
       "      <td>23.0</td>\n",
       "      <td>1</td>\n",
       "      <td>0</td>\n",
       "      <td>35273</td>\n",
       "      <td>113.2750</td>\n",
       "      <td>D36</td>\n",
       "      <td>C</td>\n",
       "    </tr>\n",
       "    <tr>\n",
       "      <th>731</th>\n",
       "      <td>732</td>\n",
       "      <td>0</td>\n",
       "      <td>3</td>\n",
       "      <td>Hassan, Mr. Houssein G N</td>\n",
       "      <td>male</td>\n",
       "      <td>11.0</td>\n",
       "      <td>0</td>\n",
       "      <td>0</td>\n",
       "      <td>2699</td>\n",
       "      <td>18.7875</td>\n",
       "      <td>NaN</td>\n",
       "      <td>C</td>\n",
       "    </tr>\n",
       "    <tr>\n",
       "      <th>349</th>\n",
       "      <td>350</td>\n",
       "      <td>0</td>\n",
       "      <td>3</td>\n",
       "      <td>Dimic, Mr. Jovan</td>\n",
       "      <td>male</td>\n",
       "      <td>42.0</td>\n",
       "      <td>0</td>\n",
       "      <td>0</td>\n",
       "      <td>315088</td>\n",
       "      <td>8.6625</td>\n",
       "      <td>NaN</td>\n",
       "      <td>S</td>\n",
       "    </tr>\n",
       "    <tr>\n",
       "      <th>291</th>\n",
       "      <td>292</td>\n",
       "      <td>1</td>\n",
       "      <td>1</td>\n",
       "      <td>Bishop, Mrs. Dickinson H (Helen Walton)</td>\n",
       "      <td>female</td>\n",
       "      <td>19.0</td>\n",
       "      <td>1</td>\n",
       "      <td>0</td>\n",
       "      <td>11967</td>\n",
       "      <td>91.0792</td>\n",
       "      <td>B49</td>\n",
       "      <td>C</td>\n",
       "    </tr>\n",
       "    <tr>\n",
       "      <th>413</th>\n",
       "      <td>414</td>\n",
       "      <td>0</td>\n",
       "      <td>2</td>\n",
       "      <td>Cunningham, Mr. Alfred Fleming</td>\n",
       "      <td>male</td>\n",
       "      <td>NaN</td>\n",
       "      <td>0</td>\n",
       "      <td>0</td>\n",
       "      <td>239853</td>\n",
       "      <td>0.0000</td>\n",
       "      <td>NaN</td>\n",
       "      <td>S</td>\n",
       "    </tr>\n",
       "  </tbody>\n",
       "</table>\n",
       "</div>"
      ],
      "text/plain": [
       "     PassengerId  Survived  Pclass                                     Name  \\\n",
       "860          861         0       3                  Hansen, Mr. Claus Peter   \n",
       "541          542         0       3     Andersson, Miss. Ingeborg Constanzia   \n",
       "393          394         1       1                   Newell, Miss. Marjorie   \n",
       "731          732         0       3                 Hassan, Mr. Houssein G N   \n",
       "349          350         0       3                         Dimic, Mr. Jovan   \n",
       "291          292         1       1  Bishop, Mrs. Dickinson H (Helen Walton)   \n",
       "413          414         0       2           Cunningham, Mr. Alfred Fleming   \n",
       "\n",
       "        Sex   Age  SibSp  Parch  Ticket      Fare Cabin Embarked  \n",
       "860    male  41.0      2      0  350026   14.1083   NaN        S  \n",
       "541  female   9.0      4      2  347082   31.2750   NaN        S  \n",
       "393  female  23.0      1      0   35273  113.2750   D36        C  \n",
       "731    male  11.0      0      0    2699   18.7875   NaN        C  \n",
       "349    male  42.0      0      0  315088    8.6625   NaN        S  \n",
       "291  female  19.0      1      0   11967   91.0792   B49        C  \n",
       "413    male   NaN      0      0  239853    0.0000   NaN        S  "
      ]
     },
     "execution_count": 3,
     "metadata": {},
     "output_type": "execute_result"
    }
   ],
   "source": [
    "# данные и их структура\n",
    "print(\"==Данные и их структура из файла train\")\n",
    "data = pd.read_csv(data_file_names[1])\n",
    "print(data.shape)\n",
    "print(data.info())\n",
    "data.sample(7)"
   ]
  },
  {
   "cell_type": "code",
   "execution_count": 4,
   "id": "7ee5d63a-541d-430e-b313-e415edddd23e",
   "metadata": {
    "execution": {
     "iopub.execute_input": "2022-12-22T13:01:34.770947Z",
     "iopub.status.busy": "2022-12-22T13:01:34.770467Z",
     "iopub.status.idle": "2022-12-22T13:01:34.819389Z",
     "shell.execute_reply": "2022-12-22T13:01:34.818378Z",
     "shell.execute_reply.started": "2022-12-22T13:01:34.770914Z"
    },
    "tags": []
   },
   "outputs": [
    {
     "data": {
      "text/plain": [
       "(712, 12)"
      ]
     },
     "execution_count": 4,
     "metadata": {},
     "output_type": "execute_result"
    }
   ],
   "source": [
    "# NaN мешают классификации - заменим их на 'none'\n",
    "data.Cabin.unique()\n",
    "data.Cabin.fillna('none', inplace=True)\n",
    "data.Cabin.unique()\n",
    "\n",
    "data.dropna(inplace=True)\n",
    "data.shape"
   ]
  },
  {
   "cell_type": "code",
   "execution_count": 5,
   "id": "8cc6a69a-0fda-4173-9560-49d48b88928f",
   "metadata": {
    "execution": {
     "iopub.execute_input": "2022-12-22T13:01:34.821087Z",
     "iopub.status.busy": "2022-12-22T13:01:34.820674Z",
     "iopub.status.idle": "2022-12-22T13:01:34.913369Z",
     "shell.execute_reply": "2022-12-22T13:01:34.911705Z",
     "shell.execute_reply.started": "2022-12-22T13:01:34.821054Z"
    },
    "tags": []
   },
   "outputs": [
    {
     "name": "stdout",
     "output_type": "stream",
     "text": [
      "(712, 12)\n"
     ]
    },
    {
     "data": {
      "text/plain": [
       "PassengerId    712\n",
       "Survived         2\n",
       "Pclass           3\n",
       "Name           712\n",
       "Sex              2\n",
       "Age             88\n",
       "SibSp            6\n",
       "Parch            7\n",
       "Ticket         541\n",
       "Fare           219\n",
       "Cabin          134\n",
       "Embarked         3\n",
       "dtype: int64"
      ]
     },
     "execution_count": 5,
     "metadata": {},
     "output_type": "execute_result"
    }
   ],
   "source": [
    "# количество уникальных значений по каждому из признаков\n",
    "print(data.shape)\n",
    "data.nunique()"
   ]
  },
  {
   "cell_type": "code",
   "execution_count": 6,
   "id": "df987dca-1c63-4a6a-98e1-7e4765649b54",
   "metadata": {
    "execution": {
     "iopub.execute_input": "2022-12-22T13:01:34.916985Z",
     "iopub.status.busy": "2022-12-22T13:01:34.915754Z",
     "iopub.status.idle": "2022-12-22T13:01:34.931125Z",
     "shell.execute_reply": "2022-12-22T13:01:34.929403Z",
     "shell.execute_reply.started": "2022-12-22T13:01:34.916908Z"
    },
    "tags": []
   },
   "outputs": [
    {
     "data": {
      "text/plain": [
       "0    0.595506\n",
       "1    0.404494\n",
       "Name: Survived, dtype: float64"
      ]
     },
     "execution_count": 6,
     "metadata": {},
     "output_type": "execute_result"
    }
   ],
   "source": [
    "# баланс целевого признака \n",
    "data['Survived'].value_counts(normalize=True)"
   ]
  },
  {
   "cell_type": "markdown",
   "id": "32a31d62-8ffc-4ea2-84fa-8a5929bfec20",
   "metadata": {
    "execution": {
     "iopub.execute_input": "2022-12-18T07:31:56.231085Z",
     "iopub.status.busy": "2022-12-18T07:31:56.229740Z",
     "iopub.status.idle": "2022-12-18T07:31:56.237450Z",
     "shell.execute_reply": "2022-12-18T07:31:56.235673Z",
     "shell.execute_reply.started": "2022-12-18T07:31:56.231031Z"
    },
    "tags": []
   },
   "source": [
    "# 2. Исключите признаки, которые на ваш взгляд, могут привести к переобучению \n",
    "(например, id)."
   ]
  },
  {
   "cell_type": "code",
   "execution_count": 7,
   "id": "0d35fa63-b75e-41ef-bd04-626b99408f1b",
   "metadata": {
    "execution": {
     "iopub.execute_input": "2022-12-22T13:01:34.933203Z",
     "iopub.status.busy": "2022-12-22T13:01:34.932794Z",
     "iopub.status.idle": "2022-12-22T13:01:35.005244Z",
     "shell.execute_reply": "2022-12-22T13:01:35.004219Z",
     "shell.execute_reply.started": "2022-12-22T13:01:34.933141Z"
    },
    "tags": []
   },
   "outputs": [
    {
     "name": "stdout",
     "output_type": "stream",
     "text": [
      "==Исходный набор признаков:\n"
     ]
    },
    {
     "data": {
      "text/plain": [
       "['PassengerId',\n",
       " 'Survived',\n",
       " 'Pclass',\n",
       " 'Name',\n",
       " 'Sex',\n",
       " 'Age',\n",
       " 'SibSp',\n",
       " 'Parch',\n",
       " 'Ticket',\n",
       " 'Fare',\n",
       " 'Cabin',\n",
       " 'Embarked']"
      ]
     },
     "execution_count": 7,
     "metadata": {},
     "output_type": "execute_result"
    }
   ],
   "source": [
    "print(\"==Исходный набор признаков:\")\n",
    "features = data.columns\n",
    "list(features)"
   ]
  },
  {
   "cell_type": "code",
   "execution_count": null,
   "id": "667a0c15-2aa9-4e34-b75a-62d03f221b93",
   "metadata": {
    "tags": []
   },
   "outputs": [],
   "source": [
    "print(\"==Набор признаков для обучения:\")\n",
    "# \n",
    "good_features = \\\n",
    "[\\\n",
    " # 'PassengerId', # номер \n",
    " # 'Survived', # Выживание 0 = Нет, 1 = Да\n",
    " 'Pclass', # Класс билета 1 = 1-й, 2 = 2-й, 3 = 3-й\n",
    " # 'Name',  # имя - \n",
    " 'Sex',    # пол\n",
    " 'Age',    # возраст в годах\n",
    " 'SibSp',   # Количество братьев и сестер / супругов на борту \"Титаника\"\n",
    " 'Parch',   # Количество родителей / детей на борту \"Титаника\"\n",
    " # 'Ticket', # номер билета\n",
    " 'Fare',  # тариф\n",
    " 'Cabin', # номер каюты\n",
    " 'Embarked' # Порт посадки C = Шербур, Q = Квинстаун, S = Саутгемптон\n",
    "]\n",
    "\n",
    "good_features"
   ]
  },
  {
   "cell_type": "markdown",
   "id": "f11a9d60-4350-4bc6-a884-7ada02842b24",
   "metadata": {},
   "source": [
    "# 3. Разделите выборку на train и test."
   ]
  },
  {
   "cell_type": "code",
   "execution_count": null,
   "id": "c87c58d5-49cd-484c-a74e-27e2bfcb98e7",
   "metadata": {
    "tags": []
   },
   "outputs": [],
   "source": [
    "# признаки для обучения\n",
    "X = data[good_features]\n",
    "# целевой признак \n",
    "y = data['Survived']"
   ]
  },
  {
   "cell_type": "code",
   "execution_count": null,
   "id": "03cb66ba-9b29-4756-b7f7-d995c2d26880",
   "metadata": {
    "tags": []
   },
   "outputs": [],
   "source": [
    "X_train, X_test, y_train, y_test = train_test_split(X, y,  random_state=11)\n",
    "print(X_train.shape)"
   ]
  },
  {
   "cell_type": "markdown",
   "id": "f5e311ba-e0f5-4a03-866d-055eea57d8b6",
   "metadata": {},
   "source": [
    "# 4. Преобразуйте признаки\n",
    " категориальные признаки с помощью sklearn.preprocessing.OneHotEncoder, \n",
    " \n",
    " а некатегориальные с помощью sklearn.preprocessing.StandardScaler (на следующем занятии расскажем, зачем это нужно)"
   ]
  },
  {
   "cell_type": "markdown",
   "id": "736f98bb-9325-4238-b246-1d4cc6988cf7",
   "metadata": {},
   "source": [
    "## Категориальные признаки"
   ]
  },
  {
   "cell_type": "code",
   "execution_count": null,
   "id": "d102fb1e-ad5d-48bb-9811-cd49cefdb2b8",
   "metadata": {
    "tags": []
   },
   "outputs": [],
   "source": [
    "cat_features = \\\n",
    "[\\\n",
    " # 'PassengerId', # номер \n",
    " # 'Survived', # Выживание 0 = Нет, 1 = Да\n",
    " # 'Pclass', # Класс билета 1 = 1-й, 2 = 2-й, 3 = 3-й\n",
    " # 'Name',  # имя - \n",
    " 'Sex',    # пол\n",
    " # 'Age',    # возраст в годах\n",
    " # 'SibSp',   # Количество братьев и сестер / супругов на борту \"Титаника\"\n",
    " # 'Parch',   # Количество родителей / детей на борту \"Титаника\"\n",
    " # 'Ticket', # номер билета\n",
    " # 'Fare',  # тариф\n",
    " 'Cabin', # номер каюты\n",
    " 'Embarked' # Порт посадки C = Шербур, Q = Квинстаун, S = Саутгемптон\n",
    "]\n",
    "cat_features_scaled = [f+\"_ohe\" for f in cat_features]\n",
    "cat_features_scaled"
   ]
  },
  {
   "cell_type": "markdown",
   "id": "840070be-cfd8-4303-a549-8587530785f2",
   "metadata": {},
   "source": [
    "### Sex"
   ]
  },
  {
   "cell_type": "code",
   "execution_count": null,
   "id": "c95f9229-43e9-46ff-bec0-999106c52ba8",
   "metadata": {
    "tags": []
   },
   "outputs": [],
   "source": [
    "# категориальные признаки с помощью sklearn.preprocessing.OneHotEncoder,\n",
    "ohe = OneHotEncoder() #handle_unknown='error', drop='first' drop='if_binary'\n",
    "sx=ohe.fit_transform(X_train['Sex'].values.reshape(-1,1) ).toarray()\n",
    "columns = ['Sex_'+x for x in ohe.categories_[0]]\n",
    "df_sex = pd.DataFrame(sx, columns=columns)#.iloc[:,0].to_frame() #, columns=ohe.categories_\n",
    "df_sex\n",
    "# X_train = pd.concat([X_train,df_sex], axis=1)\n",
    "X_train_enc = df_sex\n",
    "X_train_enc.sample(5)\n",
    "\n",
    "# для тестового датасета\n",
    "sx_t=ohe.fit_transform(X_test['Sex'].values.reshape(-1,1) ).toarray()\n",
    "# columns = ['Sex_'+x for x in ohe.categories_[0]]\n",
    "df_sex_t = pd.DataFrame(sx_t, columns=columns)#.iloc[:,0].to_frame() #, columns=ohe.categories_\n",
    "# df_sex\n",
    "# X_train = pd.concat([X_train,df_sex], axis=1)\n",
    "X_test_enc = df_sex_t\n",
    "# X_train_enc.sample(5)"
   ]
  },
  {
   "cell_type": "markdown",
   "id": "1a25dab0-d476-4daa-b218-47339538108d",
   "metadata": {},
   "source": [
    "### Embarked_"
   ]
  },
  {
   "cell_type": "code",
   "execution_count": null,
   "id": "d0303051-8deb-4d95-b3d1-6445ab07bd6e",
   "metadata": {
    "tags": []
   },
   "outputs": [],
   "source": [
    "# категориальные признаки Embarked\n",
    "ohe = OneHotEncoder() #handle_unknown='error', drop='first' drop='if_binary'\n",
    "emb=ohe.fit_transform(X_train['Embarked'].values.reshape(-1,1) ).toarray()\n",
    "columns=['Embarked_'+str(x) for x in list(ohe.categories_[0])]\n",
    "df_emb = pd.DataFrame(emb, columns=columns)#.iloc[:,0].to_frame() #, columns=ohe.categories_\n",
    "df_emb\n",
    "X_train_enc = pd.concat([X_train_enc,df_emb], axis=1)\n",
    "X_train_enc\n",
    "\n",
    "# для тестового датасета\n",
    "emb_t=ohe.fit_transform(X_test['Embarked'].values.reshape(-1,1) ).toarray()\n",
    "# columns=['Embarked_'+str(x) for x in list(ohe.categories_[0])]\n",
    "df_emb_t = pd.DataFrame(emb_t, columns=columns)#.iloc[:,0].to_frame() #, columns=ohe.categories_\n",
    "# df_emb\n",
    "X_test_enc = pd.concat([X_test_enc,df_emb_t], axis=1)\n",
    "# X_test_enc"
   ]
  },
  {
   "cell_type": "markdown",
   "id": "32f1569d-efe0-4bc9-b20d-29f72335867a",
   "metadata": {},
   "source": [
    "### Cabin"
   ]
  },
  {
   "cell_type": "code",
   "execution_count": null,
   "id": "2bd9306c-6f78-4824-bc73-18eeefd74d0d",
   "metadata": {
    "tags": []
   },
   "outputs": [],
   "source": [
    "# # категориальные признаки Cabin - не будем его брать, тк в нем много пропусков \n",
    "# ohe = OneHotEncoder() #handle_unknown='error', drop='first' drop='if_binary'\n",
    "# cab=ohe.fit_transform(X_train['Cabin'].values.reshape(-1,1) ).toarray()\n",
    "# columns=['Cabin_'+str(x) for x in list(ohe.categories_[0])]\n",
    "# df_cab = pd.DataFrame(cab, columns=columns)#.iloc[:,0].to_frame() #, columns=ohe.categories_\n",
    "# df_cab\n",
    "# X_train_enc = pd.concat([X_train_enc,df_cab], axis=1)\n",
    "# X_train_enc\n"
   ]
  },
  {
   "cell_type": "markdown",
   "id": "aea9a6b1-49df-42f5-8ed4-1123ff6d503c",
   "metadata": {
    "execution": {
     "iopub.execute_input": "2022-12-20T13:19:27.345812Z",
     "iopub.status.busy": "2022-12-20T13:19:27.296713Z",
     "iopub.status.idle": "2022-12-20T13:19:28.507343Z",
     "shell.execute_reply": "2022-12-20T13:19:28.505813Z",
     "shell.execute_reply.started": "2022-12-20T13:19:27.325936Z"
    }
   },
   "source": [
    "## Некатегориальные признаки"
   ]
  },
  {
   "cell_type": "code",
   "execution_count": null,
   "id": "27c3e70d-e080-454e-bbb2-5200f086c7da",
   "metadata": {
    "tags": []
   },
   "outputs": [],
   "source": [
    "# удаляем пропущенные данные в поле Возраст\n",
    "X_train.Age.unique()\n",
    "# X_train.Age[X_train.Age == np.nan]\n",
    "print(X_train.Age.dropna().shape)\n",
    "\n",
    "# для тестового датасета\n",
    "X_test.Age.unique()\n",
    "# X_train.Age[X_train.Age == np.nan]\n",
    "X_test.Age.dropna().shape"
   ]
  },
  {
   "cell_type": "code",
   "execution_count": null,
   "id": "1a32b294-432c-4b1c-b384-0dc56fd46888",
   "metadata": {
    "tags": []
   },
   "outputs": [],
   "source": [
    "noncat_features = \\\n",
    "[\\\n",
    " # 'PassengerId', # номер \n",
    " # 'Survived', # Выживание 0 = Нет, 1 = Да\n",
    " 'Pclass', # Класс билета 1 = 1-й, 2 = 2-й, 3 = 3-й\n",
    " # 'Name',  # имя - \n",
    " # 'Sex',    # пол\n",
    " 'Age',    # возраст в годах\n",
    " 'SibSp',   # Количество братьев и сестер / супругов на борту \"Титаника\"\n",
    " 'Parch',   # Количество родителей / детей на борту \"Титаника\"\n",
    " # 'Ticket', # номер билета\n",
    " 'Fare',  # тариф\n",
    " # 'Cabin', # номер каюты\n",
    " # 'Embarked' # Порт посадки C = Шербур, Q = Квинстаун, S = Саутгемптон\n",
    "]\n",
    "noncat_features_scaled = [f+\"_scaled\" for f in noncat_features]\n",
    "noncat_features_scaled"
   ]
  },
  {
   "cell_type": "code",
   "execution_count": null,
   "id": "e5c95b6a-a1f3-4e7d-affa-23b3dae48bd0",
   "metadata": {
    "tags": []
   },
   "outputs": [],
   "source": [
    "scaler = StandardScaler()\n",
    "X_train_enc[noncat_features_scaled] = scaler.fit_transform(X_train[noncat_features].values.reshape(-1,len(noncat_features)) )\n",
    "X_train_enc\n",
    "\n",
    "# для тестового датасета\n",
    "X_test_enc[noncat_features_scaled] = scaler.fit_transform(X_test[noncat_features].values.reshape(-1,len(noncat_features)) )\n",
    "X_test_enc\n"
   ]
  },
  {
   "cell_type": "markdown",
   "id": "b8288981-1223-4783-9025-d88476892675",
   "metadata": {
    "execution": {
     "iopub.execute_input": "2022-12-20T14:09:59.733982Z",
     "iopub.status.busy": "2022-12-20T14:09:59.732986Z",
     "iopub.status.idle": "2022-12-20T14:09:59.762853Z",
     "shell.execute_reply": "2022-12-20T14:09:59.761483Z",
     "shell.execute_reply.started": "2022-12-20T14:09:59.733930Z"
    },
    "jupyter": {
     "outputs_hidden": true
    },
    "tags": []
   },
   "source": [
    "# 5. Обучите модели логистической регрессии и KNN\n",
    ", посчитайте все метрики классификации, которые были упомянуты на занятии, сделайте выводы."
   ]
  },
  {
   "cell_type": "code",
   "execution_count": null,
   "id": "0471908c-e8c2-4257-90a3-2b6813a425fd",
   "metadata": {
    "tags": []
   },
   "outputs": [],
   "source": [
    "Rez = {'Выводы':\"?\"}"
   ]
  },
  {
   "cell_type": "markdown",
   "id": "fcf7bd56-4aff-4660-bc22-6c9121366cf7",
   "metadata": {
    "execution": {
     "iopub.execute_input": "2022-12-22T07:09:43.852290Z",
     "iopub.status.busy": "2022-12-22T07:09:43.850976Z",
     "iopub.status.idle": "2022-12-22T07:09:43.858746Z",
     "shell.execute_reply": "2022-12-22T07:09:43.856805Z",
     "shell.execute_reply.started": "2022-12-22T07:09:43.852229Z"
    }
   },
   "source": [
    "## Логистическая регрессия\n"
   ]
  },
  {
   "cell_type": "code",
   "execution_count": null,
   "id": "475e344c-bd20-4cba-bcd2-2c5022aba6d2",
   "metadata": {
    "tags": []
   },
   "outputs": [],
   "source": [
    "log_reg = LogisticRegression()\n",
    "log_reg.fit(X_train_enc, y_train)"
   ]
  },
  {
   "cell_type": "markdown",
   "id": "25f4dfb4-ed7e-4919-8799-df9ca51ac171",
   "metadata": {
    "execution": {
     "iopub.execute_input": "2022-12-22T06:55:47.994581Z",
     "iopub.status.busy": "2022-12-22T06:55:47.993943Z",
     "iopub.status.idle": "2022-12-22T06:55:48.002699Z",
     "shell.execute_reply": "2022-12-22T06:55:48.000844Z",
     "shell.execute_reply.started": "2022-12-22T06:55:47.994525Z"
    }
   },
   "source": [
    "### тренировочный датасет"
   ]
  },
  {
   "cell_type": "code",
   "execution_count": null,
   "id": "b56d5118-7276-4b46-9a6e-ef6ae43618c5",
   "metadata": {
    "tags": []
   },
   "outputs": [],
   "source": [
    "y_pred_lg = log_reg.predict(X_train_enc)"
   ]
  },
  {
   "cell_type": "code",
   "execution_count": null,
   "id": "86a0bea6-8ebb-48c9-9d7d-8b39555fc8a9",
   "metadata": {
    "tags": []
   },
   "outputs": [],
   "source": [
    "print(\"Тренировочный датасет:\")\n",
    "# print(\"confusion_matrix:\\n\", confusion_matrix(y_train, y_pred_lg) )\n",
    "# print(\"recall_score:\\n\", recall_score(y_train, y_pred_lg) )\n",
    "# print(\"precision_score:\\n\", precision_score(y_train, y_pred_lg))\n",
    "# print(\"accuracy_score:\\n\", accuracy_score(y_train, y_pred_lg) )\n",
    "Rez['LogisticRegression'] = {'train': {'confusion_matrix' : confusion_matrix(y_train, y_pred_lg)\n",
    "                                      , 'recall_score' : recall_score(y_train, y_pred_lg)\n",
    "                                      , 'precision_score': precision_score(y_train, y_pred_lg)\n",
    "                                      , 'accuracy_score' : accuracy_score(y_train, y_pred_lg) \n",
    "                                      }\n",
    "                            }\n",
    "Rez"
   ]
  },
  {
   "cell_type": "markdown",
   "id": "f50d9b16-4ca3-47b5-aa6e-f312571f5a0e",
   "metadata": {
    "execution": {
     "iopub.execute_input": "2022-12-22T06:56:08.864707Z",
     "iopub.status.busy": "2022-12-22T06:56:08.864073Z",
     "iopub.status.idle": "2022-12-22T06:56:08.873373Z",
     "shell.execute_reply": "2022-12-22T06:56:08.871155Z",
     "shell.execute_reply.started": "2022-12-22T06:56:08.864652Z"
    }
   },
   "source": [
    "### Тестовый датасет"
   ]
  },
  {
   "cell_type": "code",
   "execution_count": null,
   "id": "a455f18c-509f-4187-8448-d0ad0a916aa0",
   "metadata": {
    "tags": []
   },
   "outputs": [],
   "source": [
    "y_pred_lg_t = log_reg.predict(X_test_enc)"
   ]
  },
  {
   "cell_type": "code",
   "execution_count": null,
   "id": "9ab360cc-bf5c-44ca-9b08-f0b70181f5db",
   "metadata": {
    "tags": []
   },
   "outputs": [],
   "source": [
    "print(\"Тестовый датасет:\")\n",
    "# print(\"confusion_matrix:\\n\", confusion_matrix(y_test, y_pred_lg_t) )\n",
    "# print(\"recall_score:\\n\", recall_score(y_test, y_pred_lg_t) )\n",
    "# print(\"precision_score:\\n\", precision_score(y_test, y_pred_lg_t))\n",
    "# print(\"accuracy_score:\\n\", accuracy_score(y_test, y_pred_lg_t) )\n",
    "Rez['LogisticRegression']['test'] =  {'confusion_matrix' : confusion_matrix(y_test, y_pred_lg_t)\n",
    "                                      , 'recall_score' : recall_score(y_test, y_pred_lg_t)\n",
    "                                      , 'precision_score': precision_score(y_test, y_pred_lg_t)\n",
    "                                      , 'accuracy_score' : accuracy_score(y_test, y_pred_lg_t) \n",
    "                                    }\n",
    "                            \n",
    "Rez"
   ]
  },
  {
   "cell_type": "markdown",
   "id": "f2fc81fd-bdb5-408e-934f-7386b80c7d43",
   "metadata": {
    "execution": {
     "iopub.execute_input": "2022-12-22T07:09:43.852290Z",
     "iopub.status.busy": "2022-12-22T07:09:43.850976Z",
     "iopub.status.idle": "2022-12-22T07:09:43.858746Z",
     "shell.execute_reply": "2022-12-22T07:09:43.856805Z",
     "shell.execute_reply.started": "2022-12-22T07:09:43.852229Z"
    }
   },
   "source": [
    "## KNN"
   ]
  },
  {
   "cell_type": "code",
   "execution_count": null,
   "id": "40d8dea5-f2cb-4c86-b067-6a8bbb2b4ac9",
   "metadata": {
    "tags": []
   },
   "outputs": [],
   "source": [
    "knn = KNeighborsClassifier()\n",
    "knn.fit(X_train_enc, y_train)"
   ]
  },
  {
   "cell_type": "markdown",
   "id": "11cdef76-277b-41cb-b492-de333302c9a9",
   "metadata": {
    "execution": {
     "iopub.execute_input": "2022-12-22T06:55:47.994581Z",
     "iopub.status.busy": "2022-12-22T06:55:47.993943Z",
     "iopub.status.idle": "2022-12-22T06:55:48.002699Z",
     "shell.execute_reply": "2022-12-22T06:55:48.000844Z",
     "shell.execute_reply.started": "2022-12-22T06:55:47.994525Z"
    }
   },
   "source": [
    "### тренировочный датасет"
   ]
  },
  {
   "cell_type": "code",
   "execution_count": null,
   "id": "3e105452-9ea9-4190-88af-bcde428c1563",
   "metadata": {
    "tags": []
   },
   "outputs": [],
   "source": [
    "y_pred = knn.predict(X_train_enc)"
   ]
  },
  {
   "cell_type": "code",
   "execution_count": null,
   "id": "062eb5c1-4a8c-47e9-bce4-6b9089bd7849",
   "metadata": {
    "tags": []
   },
   "outputs": [],
   "source": [
    "print(\"Тренировочный датасет:\")\n",
    "# print(\"confusion_matrix:\\n\", confusion_matrix(y_train, y_pred) )\n",
    "# print(\"recall_score:\\n\", recall_score(y_train, y_pred) )\n",
    "# print(\"precision_score:\\n\", precision_score(y_train, y_pred))\n",
    "# print(\"accuracy_score:\\n\", accuracy_score(y_train, y_pred) )\n",
    "Rez['KNeighborsClassifier'] = {'train':  \n",
    "                                           {'confusion_matrix' : confusion_matrix(y_train, y_pred)\n",
    "                                          , 'recall_score' : recall_score(y_train, y_pred)\n",
    "                                          , 'precision_score': precision_score(y_train, y_pred)\n",
    "                                          , 'accuracy_score' : accuracy_score(y_train, y_pred) \n",
    "                                           }\n",
    "                                      }\n",
    "                            \n",
    "Rez"
   ]
  },
  {
   "cell_type": "markdown",
   "id": "2a6c9f78-af36-4630-89aa-2ba64df09e7f",
   "metadata": {
    "execution": {
     "iopub.execute_input": "2022-12-22T06:56:08.864707Z",
     "iopub.status.busy": "2022-12-22T06:56:08.864073Z",
     "iopub.status.idle": "2022-12-22T06:56:08.873373Z",
     "shell.execute_reply": "2022-12-22T06:56:08.871155Z",
     "shell.execute_reply.started": "2022-12-22T06:56:08.864652Z"
    }
   },
   "source": [
    "### Тестовый датасет"
   ]
  },
  {
   "cell_type": "code",
   "execution_count": null,
   "id": "ca34c859-a854-4166-ac00-b889035e31ea",
   "metadata": {},
   "outputs": [],
   "source": [
    "y_pred_t = knn.predict(X_test_enc)"
   ]
  },
  {
   "cell_type": "code",
   "execution_count": null,
   "id": "073494c9-50df-492e-8ffb-71f7154d6951",
   "metadata": {
    "tags": []
   },
   "outputs": [],
   "source": [
    "print(\"Тестовый датасет:\")\n",
    "# print(\"confusion_matrix:\\n\", confusion_matrix(y_test, y_pred_t) )\n",
    "# print(\"recall_score:\\n\", recall_score(y_test, y_pred_t) )\n",
    "# print(\"precision_score:\\n\", precision_score(y_test, y_pred_t))\n",
    "# print(\"accuracy_score:\\n\", accuracy_score(y_test, y_pred_t) )\n",
    "Rez['KNeighborsClassifier']['test'] =  {'confusion_matrix' : confusion_matrix(y_test, y_pred_t)\n",
    "                                          , 'recall_score' : recall_score(y_test, y_pred_t)\n",
    "                                          , 'precision_score': precision_score(y_test, y_pred_t)\n",
    "                                          , 'accuracy_score' : accuracy_score(y_test, y_pred_t) \n",
    "                                           }\n",
    "Rez"
   ]
  },
  {
   "cell_type": "markdown",
   "id": "e821d7cd-76b4-43de-97b2-a1398ca985c0",
   "metadata": {
    "execution": {
     "iopub.execute_input": "2022-12-22T11:25:26.388023Z",
     "iopub.status.busy": "2022-12-22T11:25:26.386855Z",
     "iopub.status.idle": "2022-12-22T11:25:26.395054Z",
     "shell.execute_reply": "2022-12-22T11:25:26.392877Z",
     "shell.execute_reply.started": "2022-12-22T11:25:26.387969Z"
    }
   },
   "source": [
    "# Расчет метрик - Более компактный формат "
   ]
  },
  {
   "cell_type": "code",
   "execution_count": null,
   "id": "9e528ccb-4ca6-4cb1-a98d-e418aa35e8f0",
   "metadata": {
    "tags": []
   },
   "outputs": [],
   "source": [
    "# логистическая регрессия\n",
    "log_reg = LogisticRegression()\n",
    "log_reg.fit(X_train_enc, y_train)\n",
    "# КНН\n",
    "knn = KNeighborsClassifier()\n",
    "knn.fit(X_train_enc, y_train)\n",
    "\n",
    "Rez = {'LogisticRegression':dict(), 'KNeighborsClassifier':dict()}\n",
    "\n",
    "for classifier in [log_reg, knn]:\n",
    "    # название метода \n",
    "    cls_name = str(type(classifier)).replace(\"'>\",\"\").split(\".\")[-1]\n",
    "    \n",
    "    # цикл по тренировочным и теостовым данным\n",
    "    for X,y,label in zip([X_train_enc, X_test_enc], [y_train, y_test], ['train', 'test']):\n",
    "        # предсказания модели\n",
    "        y_pred = classifier.predict(X)\n",
    "    \n",
    "        Rez[cls_name][label] = {'confusion_matrix' : confusion_matrix(y, y_pred)\n",
    "                              , 'recall_score' : recall_score(y, y_pred)\n",
    "                              , 'precision_score': precision_score(y, y_pred)\n",
    "                              , 'accuracy_score' : accuracy_score(y, y_pred) \n",
    "                              }\n",
    "    \n",
    "Rez\n",
    "    "
   ]
  },
  {
   "cell_type": "markdown",
   "id": "d1d858dd-2e15-432c-ba04-a30e857a0f00",
   "metadata": {},
   "source": [
    "# Выводы"
   ]
  },
  {
   "cell_type": "code",
   "execution_count": null,
   "id": "7e56f825-5f27-46d1-acc8-9be6a28d34ec",
   "metadata": {
    "tags": []
   },
   "outputs": [],
   "source": [
    "# df_Rez = pd.json_normalize(Rez['LogisticRegression'] )\n",
    "# df_Rez = pd.json_normalize(Rez )\n",
    "df_Rez_log = pd.DataFrame(Rez['LogisticRegression'])\n",
    "df_Rez_Knn = pd.DataFrame(Rez['KNeighborsClassifier'])\n",
    "df_Rez_log.rename(columns={'test':'log.test', 'train':'log.train'}, inplace=True)\n",
    "df_Rez_Knn.rename(columns={'test':'knn.test', 'train':'knn.train'}, inplace=True)\n",
    "df_Rez = pd.concat([df_Rez_log, df_Rez_Knn], axis=1 )\n",
    "df_Rez[['log.train', 'knn.train', 'log.test', 'knn.test']]\n"
   ]
  },
  {
   "cell_type": "markdown",
   "id": "8fef83a4-a7e0-4d3d-8b0d-36e44c67d456",
   "metadata": {},
   "source": [
    "*=======================================================================*\n",
    "\n",
    "Выводы:\n",
    "1. По всем метрикам алгоритм KNN продемонстировал лучшие показатели.\n",
    "\n",
    "2. В целом метрики на тестовых данных являются удовлетворительными, т.к. вероятность правильных прогнозов колеблется в районе 80%\n",
    "\n",
    "3. Метрики для тренировочных данных немного лучше, чем метрики для тестовой выборки.\n",
    "\n",
    "\n",
    "\n"
   ]
  },
  {
   "cell_type": "markdown",
   "id": "e95b7f9d-59d4-4fdc-a7de-f237cac51aa4",
   "metadata": {},
   "source": [
    "# 6. Подберите гиперпараметры \n",
    "для обоих моделей с помощью RandomizedSearchCV,\n",
    "\n",
    "напишите, почему, как вы думаете, эти параметры подошли."
   ]
  },
  {
   "cell_type": "markdown",
   "id": "c93b3ef8-20af-4cfb-a5bc-95818b771a52",
   "metadata": {
    "tags": []
   },
   "source": [
    "## Логистическая регрессия"
   ]
  },
  {
   "cell_type": "code",
   "execution_count": null,
   "id": "832b41ce-78ec-475d-b604-b3f2e6218cc4",
   "metadata": {
    "tags": []
   },
   "outputs": [],
   "source": [
    "params_log = {\n",
    "    'penalty' : ['l1', 'l2', 'elasticnet'] #, None\n",
    "    ,'class_weight' : ['balanced', None]\n",
    "    , 'solver' : ['lbfgs', 'liblinear', 'newton-cg', 'newton-cholesky', 'sag', 'saga']\n",
    "    , 'multi_class' : ['auto', 'ovr', 'multinomial']\n",
    "    , 'n_jobs' : [-1,1,2,3,4,5] #, None\n",
    "}\n",
    "log = LogisticRegression()\n",
    "cv_log = RandomizedSearchCV(log, params_log)\n",
    "cv_log.fit(X_train_enc, y_train)"
   ]
  },
  {
   "cell_type": "code",
   "execution_count": null,
   "id": "caf75e03-55f8-42cd-9047-17301c462ac7",
   "metadata": {
    "tags": []
   },
   "outputs": [],
   "source": [
    "cv_log.best_params_"
   ]
  },
  {
   "cell_type": "markdown",
   "id": "7da8d4f3-441f-4d74-be56-e26469e40544",
   "metadata": {
    "tags": []
   },
   "source": [
    "## KNN"
   ]
  },
  {
   "cell_type": "code",
   "execution_count": null,
   "id": "9f382fda-85e9-4ee6-9659-38ae9bfc39d9",
   "metadata": {
    "tags": []
   },
   "outputs": [],
   "source": [
    "# варианты параметров\n",
    "params_knn = {\n",
    "    'n_neighbors':range(1,10)\n",
    "    , 'weights' : ['uniform', 'distance']\n",
    "    , 'algorithm' : ['auto', 'ball_tree', 'kd_tree', 'brute']\n",
    "    , 'p' : [1,2]\n",
    "    , 'n_jobs' : [-1,1,2]\n",
    "}\n",
    "\n",
    "knn = KNeighborsClassifier()\n",
    "cv_knn = RandomizedSearchCV(knn, params_knn)\n",
    "cv_knn.fit(X_train_enc, y_train)"
   ]
  },
  {
   "cell_type": "code",
   "execution_count": null,
   "id": "18208056-2812-4535-990c-1ee52d96b2f1",
   "metadata": {
    "tags": []
   },
   "outputs": [],
   "source": [
    "# лучшее сочетание параметров\n",
    "cv.best_params_"
   ]
  },
  {
   "cell_type": "markdown",
   "id": "6fcdb3cc-6a74-4104-a4a8-2088dd3389fa",
   "metadata": {
    "execution": {
     "iopub.execute_input": "2022-12-22T11:25:26.388023Z",
     "iopub.status.busy": "2022-12-22T11:25:26.386855Z",
     "iopub.status.idle": "2022-12-22T11:25:26.395054Z",
     "shell.execute_reply": "2022-12-22T11:25:26.392877Z",
     "shell.execute_reply.started": "2022-12-22T11:25:26.387969Z"
    }
   },
   "source": [
    "# 7. Посчитайте метрики для новых моделей\n",
    ", также сделайте выводы."
   ]
  },
  {
   "cell_type": "code",
   "execution_count": null,
   "id": "d9df0fb5-9706-44d3-af93-1cc80b26b840",
   "metadata": {
    "tags": []
   },
   "outputs": [],
   "source": [
    "# логистическая регрессия\n",
    "log_reg = LogisticRegression(**cv_log.best_params_)\n",
    "log_reg.fit(X_train_enc, y_train)\n",
    "# КНН\n",
    "knn = KNeighborsClassifier(**cv_knn.best_params_)\n",
    "knn.fit(X_train_enc, y_train)\n",
    "\n",
    "Rez_best = {'LogisticRegression':dict(), 'KNeighborsClassifier':dict()}\n",
    "\n",
    "for classifier in [log_reg, knn]:\n",
    "    # название метода \n",
    "    cls_name = str(type(classifier)).replace(\"'>\",\"\").split(\".\")[-1]\n",
    "    \n",
    "    # цикл по тренировочным и теостовым данным\n",
    "    for X,y,label in zip([X_train_enc, X_test_enc], [y_train, y_test], ['train', 'test']):\n",
    "        # предсказания модели\n",
    "        y_pred = classifier.predict(X)\n",
    "    \n",
    "        Rez_best[cls_name][label] = {'confusion_matrix' : confusion_matrix(y, y_pred)\n",
    "                              , 'recall_score' : recall_score(y, y_pred)\n",
    "                              , 'precision_score': precision_score(y, y_pred)\n",
    "                              , 'accuracy_score' : accuracy_score(y, y_pred) \n",
    "                              }\n",
    "    \n",
    "Rez_best\n",
    "    "
   ]
  },
  {
   "cell_type": "markdown",
   "id": "b2fee0e6-128b-43df-b02a-c1b9b9fa3eda",
   "metadata": {},
   "source": [
    "# Выводы"
   ]
  },
  {
   "cell_type": "code",
   "execution_count": null,
   "id": "95d26d76-07ae-444a-af50-323ac55dad71",
   "metadata": {
    "tags": []
   },
   "outputs": [],
   "source": [
    "# df_Rez = pd.json_normalize(Rez['LogisticRegression'] )\n",
    "# df_Rez = pd.json_normalize(Rez )\n",
    "df_Rez_log_best = pd.DataFrame(Rez_best['LogisticRegression'])\n",
    "df_Rez_Knn_best = pd.DataFrame(Rez_best['KNeighborsClassifier'])\n",
    "df_Rez_log_best.rename(columns={'test':'log.test', 'train':'log.train'}, inplace=True)\n",
    "df_Rez_Knn_best.rename(columns={'test':'knn.test', 'train':'knn.train'}, inplace=True)\n",
    "df_Rez_best = pd.concat([df_Rez_log_best, df_Rez_Knn_best], axis=1 )\n",
    "print(\"==Метрики для моделей с подобранными лучшими параметрами\")\n",
    "df_Rez_best[['log.train', 'knn.train', 'log.test', 'knn.test']]\n"
   ]
  },
  {
   "cell_type": "code",
   "execution_count": null,
   "id": "60565675-6502-4804-b0b2-c9d8ded71148",
   "metadata": {
    "tags": []
   },
   "outputs": [],
   "source": [
    "print(\"==Метрики для моделей с параметрами по умолчанию \")\n",
    "\n",
    "df_Rez[['log.train', 'knn.train', 'log.test', 'knn.test']]"
   ]
  },
  {
   "cell_type": "markdown",
   "id": "a1144c4a-2f71-4484-a3f6-38e8b4126ea3",
   "metadata": {
    "execution": {
     "iopub.execute_input": "2022-12-22T12:48:11.312685Z",
     "iopub.status.busy": "2022-12-22T12:48:11.312199Z",
     "iopub.status.idle": "2022-12-22T12:48:11.320366Z",
     "shell.execute_reply": "2022-12-22T12:48:11.319148Z",
     "shell.execute_reply.started": "2022-12-22T12:48:11.312649Z"
    }
   },
   "source": [
    "*=========================================================*\n",
    "\n",
    "1. Модель KNN продолжает оставаться быть лучшей\n",
    "\n",
    "2. С подобранными гиперпараметрами модель Логистической регрессии не изменила свои метрики,\n",
    "а модель KNN немногим стала лучше по метрике precision и по одному проценту потеряла на остальных метриках"
   ]
  },
  {
   "cell_type": "markdown",
   "id": "f0122504-826c-4c7b-b8a4-e4e0b2e71075",
   "metadata": {
    "tags": []
   },
   "source": [
    "# GIT"
   ]
  },
  {
   "cell_type": "code",
   "execution_count": null,
   "id": "7919a994-6c28-4266-a02a-1aae063eb829",
   "metadata": {},
   "outputs": [],
   "source": []
  },
  {
   "cell_type": "code",
   "execution_count": null,
   "id": "1933fc0d-78d1-43d8-b019-ab0222e22db6",
   "metadata": {},
   "outputs": [],
   "source": []
  }
 ],
 "metadata": {
  "kernelspec": {
   "display_name": "Python 3 (ipykernel)",
   "language": "python",
   "name": "python3"
  },
  "language_info": {
   "codemirror_mode": {
    "name": "ipython",
    "version": 3
   },
   "file_extension": ".py",
   "mimetype": "text/x-python",
   "name": "python",
   "nbconvert_exporter": "python",
   "pygments_lexer": "ipython3",
   "version": "3.10.6"
  }
 },
 "nbformat": 4,
 "nbformat_minor": 5
}
